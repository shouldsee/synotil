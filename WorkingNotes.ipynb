{
 "cells": [
  {
   "cell_type": "markdown",
   "metadata": {},
   "source": [
    "## Central question:\n",
    "\n",
    "How is flowering in Brachypodium controlled?\n",
    "\n",
    "## Data: \n",
    "\n",
    " 1. RNASeq with a long-day/short-day/mutant contrast, with a circadian coordinate\n",
    " 1. ChIPSeq of ELF3, the transcription factor relaying photoperiod signal from cytochrome c to downstream.\n",
    " \n",
    "## References: \n",
    "\n",
    "1. [Phytochrome c mutant has delayed flowering ( brachypodia )](http://www.genetics.org/content/198/1/397.long)\n",
    "\n",
    "1. [Evening complex in A.thaliana on senseing thermo-signal and photoperiodic signal](https://www.ncbi.nlm.nih.gov/pubmed/27594171)"
   ]
  },
  {
   "cell_type": "markdown",
   "metadata": {},
   "source": [
    "FlowChart (Based on FuXiang's slides):\n",
    "\n",
    "1. Mapping reads and QC\n",
    "\n",
    "  * HISAT + StringTie  for RNA-Seq\n",
    "  * bowtie2 for ChIP-Seq\n",
    "  * Metrics: (Coverage and mapped percentage, Assembly version)\n",
    "  * QC: correlation plots (deeptools), PCA (R?)\n",
    "\n",
    "1. Differential expression \n",
    "  * Contrast level: LD/SD/mutant\n",
    "  \n",
    "1. Epigenetics\n",
    "  * MACS2 for peak calling\n",
    "  * look for motif enrichment HOMER, MEME?\n",
    "\n",
    "1. Constrast RNASeq and ChIPSeq result\n",
    "  * Gene ontology and pathway enrichment of the derived gene set.\n",
    "  \n",
    "1. Clustering to obtain coexpression clades.\n",
    "  * Exploit the ZT coordinate\n",
    "  * CLUST/HC\n",
    "  \n",
    "1. Further analysis"
   ]
  },
  {
   "cell_type": "markdown",
   "metadata": {},
   "source": [
    "#### May.14th\n",
    "\n",
    "Aims:\n",
    "\n",
    "1. [ ]  Setup production environment\n",
    "\n",
    "1. [ ] Gather and label raw data (.fq)\n",
    "\n",
    "1. [ ] Build up and test the pipeline for HISAT+StringTie\n",
    "\n",
    "1. [ ] Build up QC sets.\n",
    "\n",
    "CCBI symposium: http://talks.cam.ac.uk/talk/index/104587"
   ]
  }
 ],
 "metadata": {
  "kernelspec": {
   "display_name": "Python 2",
   "language": "python",
   "name": "python2"
  },
  "language_info": {
   "codemirror_mode": {
    "name": "ipython",
    "version": 2
   },
   "file_extension": ".py",
   "mimetype": "text/x-python",
   "name": "python",
   "nbconvert_exporter": "python",
   "pygments_lexer": "ipython2",
   "version": "2.7.12"
  }
 },
 "nbformat": 4,
 "nbformat_minor": 2
}
