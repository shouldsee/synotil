{
 "cells": [
  {
   "cell_type": "code",
   "execution_count": 1,
   "metadata": {},
   "outputs": [
    {
     "name": "stderr",
     "output_type": "stream",
     "text": [
      "/home/shouldsee/.local/lib/python2.7/site-packages/h5py/__init__.py:34: FutureWarning: Conversion of the second argument of issubdtype from `float` to `np.floating` is deprecated. In future, it will be treated as `np.float64 == np.dtype(float).type`.\n",
      "  from ._conv import register_converters as _register_converters\n"
     ]
    },
    {
     "name": "stdout",
     "output_type": "stream",
     "text": [
      "is in ipython: 1\n",
      "is in ipython: 1\n",
      "[WARN] pymisca.vis_util cannot find network\n"
     ]
    },
    {
     "data": {
      "text/plain": [
       "abc.sphereUniformDiag"
      ]
     },
     "execution_count": 1,
     "metadata": {},
     "output_type": "execute_result"
    }
   ],
   "source": [
    "\n",
    "import edward as ed\n",
    "import edward.models as edm\n",
    "import tensorflow as tf\n",
    "import numpy as np\n",
    "import pymisca.numpy_extra as pynp\n",
    "# import tensor\n",
    "import pymisca.util as pyutil\n",
    "import pymisca.vis_util as pyvis\n",
    "import pymisca.tensorflow_extra as pytf;reload(pytf)\n",
    "edm = pytf.edm\n",
    "# pytf.sphereUniformDiag()\n",
    "edm.sphereUniformDiag"
   ]
  },
  {
   "cell_type": "code",
   "execution_count": null,
   "metadata": {},
   "outputs": [],
   "source": [
    "scale.ten"
   ]
  },
  {
   "cell_type": "code",
   "execution_count": 2,
   "metadata": {},
   "outputs": [],
   "source": [
    "i = 0"
   ]
  },
  {
   "cell_type": "code",
   "execution_count": 3,
   "metadata": {},
   "outputs": [
    {
     "name": "stdout",
     "output_type": "stream",
     "text": [
      "None\n"
     ]
    },
    {
     "ename": "TypeError",
     "evalue": "Key-value pair in data does not have same shape: (10000, 2, 2), (10000, 2)",
     "output_type": "error",
     "traceback": [
      "\u001b[0;31m---------------------------------------------------------------------------\u001b[0m",
      "\u001b[0;31mTypeError\u001b[0m                                 Traceback (most recent call last)",
      "\u001b[0;32m<ipython-input-3-0a123ed923d2>\u001b[0m in \u001b[0;36m<module>\u001b[0;34m()\u001b[0m\n\u001b[1;32m     57\u001b[0m \u001b[0;31m#               scale_perturb_factor:self.q_scale_perturb_factor,\u001b[0m\u001b[0;34m\u001b[0m\u001b[0;34m\u001b[0m\u001b[0m\n\u001b[1;32m     58\u001b[0m \u001b[0;31m#               q_scale\u001b[0m\u001b[0;34m\u001b[0m\u001b[0;34m\u001b[0m\u001b[0m\n\u001b[0;32m---> 59\u001b[0;31m              },{m:data})\n\u001b[0m",
      "\u001b[0;32m/home/shouldsee/.local/lib/python2.7/site-packages/edward/inferences/map.pyc\u001b[0m in \u001b[0;36m__init__\u001b[0;34m(self, latent_vars, data)\u001b[0m\n\u001b[1;32m    111\u001b[0m                           \"PointMass random variables.\")\n\u001b[1;32m    112\u001b[0m \u001b[0;34m\u001b[0m\u001b[0m\n\u001b[0;32m--> 113\u001b[0;31m     \u001b[0msuper\u001b[0m\u001b[0;34m(\u001b[0m\u001b[0mMAP\u001b[0m\u001b[0;34m,\u001b[0m \u001b[0mself\u001b[0m\u001b[0;34m)\u001b[0m\u001b[0;34m.\u001b[0m\u001b[0m__init__\u001b[0m\u001b[0;34m(\u001b[0m\u001b[0mlatent_vars\u001b[0m\u001b[0;34m,\u001b[0m \u001b[0mdata\u001b[0m\u001b[0;34m)\u001b[0m\u001b[0;34m\u001b[0m\u001b[0m\n\u001b[0m\u001b[1;32m    114\u001b[0m \u001b[0;34m\u001b[0m\u001b[0m\n\u001b[1;32m    115\u001b[0m   \u001b[0;32mdef\u001b[0m \u001b[0mbuild_loss_and_gradients\u001b[0m\u001b[0;34m(\u001b[0m\u001b[0mself\u001b[0m\u001b[0;34m,\u001b[0m \u001b[0mvar_list\u001b[0m\u001b[0;34m)\u001b[0m\u001b[0;34m:\u001b[0m\u001b[0;34m\u001b[0m\u001b[0m\n",
      "\u001b[0;32m/home/shouldsee/.local/lib/python2.7/site-packages/edward/inferences/variational_inference.pyc\u001b[0m in \u001b[0;36m__init__\u001b[0;34m(self, *args, **kwargs)\u001b[0m\n\u001b[1;32m     25\u001b[0m   \"\"\"\n\u001b[1;32m     26\u001b[0m   \u001b[0;32mdef\u001b[0m \u001b[0m__init__\u001b[0m\u001b[0;34m(\u001b[0m\u001b[0mself\u001b[0m\u001b[0;34m,\u001b[0m \u001b[0;34m*\u001b[0m\u001b[0margs\u001b[0m\u001b[0;34m,\u001b[0m \u001b[0;34m**\u001b[0m\u001b[0mkwargs\u001b[0m\u001b[0;34m)\u001b[0m\u001b[0;34m:\u001b[0m\u001b[0;34m\u001b[0m\u001b[0m\n\u001b[0;32m---> 27\u001b[0;31m     \u001b[0msuper\u001b[0m\u001b[0;34m(\u001b[0m\u001b[0mVariationalInference\u001b[0m\u001b[0;34m,\u001b[0m \u001b[0mself\u001b[0m\u001b[0;34m)\u001b[0m\u001b[0;34m.\u001b[0m\u001b[0m__init__\u001b[0m\u001b[0;34m(\u001b[0m\u001b[0;34m*\u001b[0m\u001b[0margs\u001b[0m\u001b[0;34m,\u001b[0m \u001b[0;34m**\u001b[0m\u001b[0mkwargs\u001b[0m\u001b[0;34m)\u001b[0m\u001b[0;34m\u001b[0m\u001b[0m\n\u001b[0m\u001b[1;32m     28\u001b[0m \u001b[0;34m\u001b[0m\u001b[0m\n\u001b[1;32m     29\u001b[0m   def initialize(self, optimizer=None, var_list=None, use_prettytensor=False,\n",
      "\u001b[0;32m/home/shouldsee/.local/lib/python2.7/site-packages/edward/inferences/inference.pyc\u001b[0m in \u001b[0;36m__init__\u001b[0;34m(self, latent_vars, data)\u001b[0m\n\u001b[1;32m     78\u001b[0m     \u001b[0mself\u001b[0m\u001b[0;34m.\u001b[0m\u001b[0mlatent_vars\u001b[0m \u001b[0;34m=\u001b[0m \u001b[0mlatent_vars\u001b[0m\u001b[0;34m\u001b[0m\u001b[0m\n\u001b[1;32m     79\u001b[0m \u001b[0;34m\u001b[0m\u001b[0m\n\u001b[0;32m---> 80\u001b[0;31m     \u001b[0mcheck_data\u001b[0m\u001b[0;34m(\u001b[0m\u001b[0mdata\u001b[0m\u001b[0;34m)\u001b[0m\u001b[0;34m\u001b[0m\u001b[0m\n\u001b[0m\u001b[1;32m     81\u001b[0m     \u001b[0mself\u001b[0m\u001b[0;34m.\u001b[0m\u001b[0mdata\u001b[0m \u001b[0;34m=\u001b[0m \u001b[0;34m{\u001b[0m\u001b[0;34m}\u001b[0m\u001b[0;34m\u001b[0m\u001b[0m\n\u001b[1;32m     82\u001b[0m     \u001b[0;32mfor\u001b[0m \u001b[0mkey\u001b[0m\u001b[0;34m,\u001b[0m \u001b[0mvalue\u001b[0m \u001b[0;32min\u001b[0m \u001b[0msix\u001b[0m\u001b[0;34m.\u001b[0m\u001b[0miteritems\u001b[0m\u001b[0;34m(\u001b[0m\u001b[0mdata\u001b[0m\u001b[0;34m)\u001b[0m\u001b[0;34m:\u001b[0m\u001b[0;34m\u001b[0m\u001b[0m\n",
      "\u001b[0;32m/home/shouldsee/.local/lib/python2.7/site-packages/edward/util/random_variables.pyc\u001b[0m in \u001b[0;36mcheck_data\u001b[0;34m(data)\u001b[0m\n\u001b[1;32m     48\u001b[0m         \u001b[0;32mif\u001b[0m \u001b[0;32mnot\u001b[0m \u001b[0mkey\u001b[0m\u001b[0;34m.\u001b[0m\u001b[0mshape\u001b[0m\u001b[0;34m.\u001b[0m\u001b[0mis_compatible_with\u001b[0m\u001b[0;34m(\u001b[0m\u001b[0mnp\u001b[0m\u001b[0;34m.\u001b[0m\u001b[0mshape\u001b[0m\u001b[0;34m(\u001b[0m\u001b[0mvalue\u001b[0m\u001b[0;34m)\u001b[0m\u001b[0;34m)\u001b[0m\u001b[0;34m:\u001b[0m\u001b[0;34m\u001b[0m\u001b[0m\n\u001b[1;32m     49\u001b[0m           raise TypeError(\"Key-value pair in data does not have same \"\n\u001b[0;32m---> 50\u001b[0;31m                           \"shape: {}, {}\".format(key.shape, np.shape(value)))\n\u001b[0m\u001b[1;32m     51\u001b[0m         \u001b[0;32melif\u001b[0m \u001b[0misinstance\u001b[0m\u001b[0;34m(\u001b[0m\u001b[0mvalue\u001b[0m\u001b[0;34m,\u001b[0m \u001b[0;34m(\u001b[0m\u001b[0mnp\u001b[0m\u001b[0;34m.\u001b[0m\u001b[0mndarray\u001b[0m\u001b[0;34m,\u001b[0m \u001b[0mnp\u001b[0m\u001b[0;34m.\u001b[0m\u001b[0mnumber\u001b[0m\u001b[0;34m)\u001b[0m\u001b[0;34m)\u001b[0m \u001b[0;32mand\u001b[0m\u001b[0;31m \u001b[0m\u001b[0;31m\\\u001b[0m\u001b[0;34m\u001b[0m\u001b[0m\n\u001b[1;32m     52\u001b[0m                 \u001b[0;32mnot\u001b[0m \u001b[0mnp\u001b[0m\u001b[0;34m.\u001b[0m\u001b[0missubdtype\u001b[0m\u001b[0;34m(\u001b[0m\u001b[0mvalue\u001b[0m\u001b[0;34m.\u001b[0m\u001b[0mdtype\u001b[0m\u001b[0;34m,\u001b[0m \u001b[0mnp\u001b[0m\u001b[0;34m.\u001b[0m\u001b[0mfloat\u001b[0m\u001b[0;34m)\u001b[0m \u001b[0;32mand\u001b[0m\u001b[0;31m \u001b[0m\u001b[0;31m\\\u001b[0m\u001b[0;34m\u001b[0m\u001b[0m\n",
      "\u001b[0;31mTypeError\u001b[0m: Key-value pair in data does not have same shape: (10000, 2, 2), (10000, 2)"
     ]
    }
   ],
   "source": [
    "scale = (1.,3.)\n",
    "X1 = np.random.multivariate_normal((0,0), np.diag(scale),size=10000)\n",
    "#     X1 = X1/np.linalg.norm(X1,axis=1,keepdims=1)\n",
    "X1 = X1.astype(np.float32)\n",
    "# X1lp = t.log_prob(X1).eval()\n",
    "\n",
    "K =1\n",
    "D =2\n",
    "data = X1\n",
    "# scale = edm.Uniform(sample_shape=(D,D))\n",
    "scale = edm.WishartFull(scale=np.eye(2,dtype=  np.float32),df=100,)\n",
    "\n",
    "\n",
    "scale_diag = edm.Uniform(sample_shape=(D))\n",
    "scale_perturb_factor = edm.Uniform(sample_shape=(D,1))\n",
    "\n",
    "\n",
    "m = edm.sphereUniformDiag(\n",
    "    loc=np.array((0.,)*D).astype(np.float32),\n",
    "    scale =  scale_diag,\n",
    "    sample_shape = len(data),\n",
    "\n",
    ")\n",
    "\n",
    "# name = self.name\n",
    "i+=1\n",
    "name = 'test%d'%i\n",
    "try:\n",
    "    tf.get_variable(name+'/test',[1])\n",
    "    reuse = None\n",
    "except:\n",
    "    reuse = True\n",
    "print (reuse)\n",
    "self = pyutil.util_obj()\n",
    "with tf.variable_scope(name, reuse=reuse):\n",
    "#     self.q_pi = ed.models.PointMass(\n",
    "#         tf.nn.softmax(\n",
    "#             tf.get_variable(\"q_pi\", [K])\n",
    "#         )\n",
    "#     )\n",
    "#     self.q_mu = ed.models.PointMass(\n",
    "#         tf.get_variable(\"q_mu\", [K,D])\n",
    "#     )\n",
    "    self.q_scale_diag  = edm.PointMass(\n",
    "        tf.nn.softplus(\n",
    "            tf.get_variable('q_scale_diag',shape=[D])\n",
    "                      ),\n",
    "    )\n",
    "    self.q_scale_perturb_factor = ed.models.PointMass(\n",
    "        (\n",
    "            tf.get_variable(\"q_scale_perturb_factor\", [D,1])\n",
    "        )\n",
    "    )\n",
    "\n",
    "\n",
    "inf = ed.MAP({scale_diag:self.q_scale_diag,\n",
    "#               scale_perturb_factor:self.q_scale_perturb_factor,\n",
    "#               q_scale\n",
    "             },{m:data})"
   ]
  },
  {
   "cell_type": "code",
   "execution_count": 21,
   "metadata": {},
   "outputs": [],
   "source": [
    "# scale.shape_tensor()\n",
    "scale.matvec??"
   ]
  },
  {
   "cell_type": "code",
   "execution_count": 24,
   "metadata": {},
   "outputs": [
    {
     "name": "stdout",
     "output_type": "stream",
     "text": [
      "Object `m.scale.matmul` not found.\n"
     ]
    }
   ],
   "source": [
    "# m.scale.matvec(m)\n",
    "s = m.scale.matmul??\n",
    "# scale\n",
    "# scale.diag_operator??\n",
    "# scale.solve??"
   ]
  },
  {
   "cell_type": "code",
   "execution_count": null,
   "metadata": {},
   "outputs": [],
   "source": [
    "lst = 50,100,200,1000\n",
    "\n",
    "n_iter = 50\n",
    "# for n_iter in lst:\n",
    "n_iter = 0\n",
    "# i = 5\n",
    "for _ in range(1):\n",
    "    i+=1;\n",
    "    sess = tf.InteractiveSession()\n",
    "    with sess.as_default():\n",
    "        tf.global_variables_initializer().run()\n",
    "        print (self.q_scale_diag.eval())\n",
    "\n",
    "        inf = ed.MAP({scale_diag:self.q_scale_diag,\n",
    "        #               scale_perturb_factor:self.q_scale_perturb_factor,\n",
    "                     },{m:data})\n",
    "        inf.run(n_iter=1)\n",
    "\n",
    "        n_iter = 0\n",
    "        for _ in range(5):    \n",
    "            sigsq = self.q_scale_diag.eval()\n",
    "            print (_, sigsq[0]/sigsq[1],sigsq)\n",
    "\n",
    "            n_iter += 200\n",
    "            [x.run() for x in inf.reset]\n",
    "            inf.run(n_iter=n_iter)\n",
    "            \n",
    "#         break"
   ]
  },
  {
   "cell_type": "code",
   "execution_count": 5,
   "metadata": {},
   "outputs": [],
   "source": [
    "scale_perturb_factor\n",
    "scale_perturb_diag = scale_diag = edm.Uniform(sample_shape=(D))\n",
    "scale_perturb_diag = None\n",
    "\n",
    "from __future__ import absolute_import\n",
    "from __future__ import division\n",
    "from __future__ import print_function\n",
    "\n",
    "from tensorflow.contrib import linalg\n",
    "from tensorflow.contrib.distributions.python.ops import distribution_util\n",
    "from tensorflow.contrib.distributions.python.ops import mvn_linear_operator as mvn_linop\n",
    "from tensorflow.python.framework import ops\n",
    "\n",
    "def _convert_to_tensor(x, name):\n",
    "  return None if x is None else ops.convert_to_tensor(x, name=name)\n"
   ]
  },
  {
   "cell_type": "code",
   "execution_count": 6,
   "metadata": {},
   "outputs": [
    {
     "data": {
      "text/plain": [
       "(<ed.RandomVariable 'Uniform_1/' shape=(2, 1) dtype=float32>,\n",
       " None,\n",
       " <ed.RandomVariable 'WishartFull/' shape=(2, 2) dtype=float32>)"
      ]
     },
     "execution_count": 6,
     "metadata": {},
     "output_type": "execute_result"
    }
   ],
   "source": [
    "scale_perturb_factor,scale_perturb_diag,scale"
   ]
  },
  {
   "cell_type": "code",
   "execution_count": 7,
   "metadata": {},
   "outputs": [],
   "source": [
    "# tf.contrib.distributions.MultivariateNormalDiagPlusLowRank??"
   ]
  },
  {
   "cell_type": "code",
   "execution_count": 8,
   "metadata": {},
   "outputs": [],
   "source": [
    "        validate_args = False\n",
    "        has_low_rank = False\n",
    "        scale = distribution_util.make_diag_scale(\n",
    "            loc=None,\n",
    "            scale_diag=scale_diag,\n",
    "            scale_identity_multiplier=None,\n",
    "            validate_args=validate_args,\n",
    "            assert_positive=has_low_rank)\n",
    "        has_low_rank = (scale_perturb_factor is not None or\n",
    "                        scale_perturb_diag is not None)\n",
    "\n",
    "        scale_perturb_factor = _convert_to_tensor(\n",
    "            scale_perturb_factor,\n",
    "            name=\"scale_perturb_factor\")\n",
    "        scale_perturb_diag = _convert_to_tensor(\n",
    "            scale_perturb_diag,\n",
    "            name=\"scale_perturb_diag\")\n",
    "        \n",
    "        if has_low_rank:\n",
    "          scale = linalg.LinearOperatorUDVHUpdate(\n",
    "              scale,\n",
    "              u=scale_perturb_factor,\n",
    "              diag_update=scale_perturb_diag,\n",
    "              is_diag_update_positive=scale_perturb_diag is None,\n",
    "              is_non_singular=True,  # Implied by is_positive_definite=True.\n",
    "              is_self_adjoint=True,\n",
    "              is_positive_definite=True,\n",
    "              is_square=True)\n"
   ]
  },
  {
   "cell_type": "code",
   "execution_count": 10,
   "metadata": {},
   "outputs": [
    {
     "data": {
      "text/plain": [
       "<tf.Tensor 'LinearOperatorUDVHUpdate_1/det/Exp:0' shape=() dtype=float32>"
      ]
     },
     "execution_count": 10,
     "metadata": {},
     "output_type": "execute_result"
    }
   ],
   "source": [
    "scale.determinant()"
   ]
  }
 ],
 "metadata": {
  "kernelspec": {
   "display_name": "Python 2",
   "language": "python",
   "name": "python2"
  },
  "language_info": {
   "codemirror_mode": {
    "name": "ipython",
    "version": 2
   },
   "file_extension": ".py",
   "mimetype": "text/x-python",
   "name": "python",
   "nbconvert_exporter": "python",
   "pygments_lexer": "ipython2",
   "version": "2.7.12"
  }
 },
 "nbformat": 4,
 "nbformat_minor": 2
}
