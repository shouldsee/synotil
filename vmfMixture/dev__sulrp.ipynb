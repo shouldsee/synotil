{
 "cells": [
  {
   "cell_type": "code",
   "execution_count": 1,
   "metadata": {},
   "outputs": [
    {
     "name": "stderr",
     "output_type": "stream",
     "text": [
      "/home/shouldsee/.local/lib/python2.7/site-packages/h5py/__init__.py:34: FutureWarning: Conversion of the second argument of issubdtype from `float` to `np.floating` is deprecated. In future, it will be treated as `np.float64 == np.dtype(float).type`.\n",
      "  from ._conv import register_converters as _register_converters\n"
     ]
    },
    {
     "name": "stdout",
     "output_type": "stream",
     "text": [
      "is in ipython: 1\n",
      "is in ipython: 1\n",
      "is in ipython: 1\n",
      "[WARN] pymisca.vis_util cannot find network\n"
     ]
    }
   ],
   "source": [
    "import edward as ed\n",
    "import edward.models as edm\n",
    "import tensorflow as tf\n",
    "import numpy as np\n",
    "import pymisca.numpy_extra as pynp\n",
    "# import tensor\n",
    "import pymisca.util as pyutil;reload(pyutil)\n",
    "import pymisca.vis_util as pyvis\n",
    "# tf.contrib.distributions.Normal??"
   ]
  },
  {
   "cell_type": "code",
   "execution_count": 2,
   "metadata": {},
   "outputs": [],
   "source": [
    "N = 5000\n",
    "D = 9\n",
    "X = np.random.normal(size=(N,D))\n",
    "L = np.linalg.norm(X,axis=1,keepdims=1)\n",
    "Xn = X/L\n",
    "\n",
    "V=  np.mean(np.linalg.norm(Xn,axis=1)**2)\n",
    "# print V/np.pi\n",
    "# print V\n",
    "c = 0.125\n",
    "# c = 0.0\n",
    "# c = 1.\n",
    "i = 11"
   ]
  },
  {
   "cell_type": "code",
   "execution_count": 3,
   "metadata": {},
   "outputs": [],
   "source": [
    "\n",
    "from tensorflow.python.framework import constant_op\n",
    "from tensorflow.python.framework import dtypes\n",
    "from tensorflow.python.framework import ops\n",
    "from tensorflow.python.framework import tensor_shape\n",
    "from tensorflow.python.ops import array_ops\n",
    "from tensorflow.python.ops import check_ops\n",
    "from tensorflow.python.ops import math_ops\n",
    "from tensorflow.python.ops import nn\n",
    "from tensorflow.python.ops import random_ops\n",
    "from tensorflow.python.ops import gen_linalg_ops\n",
    "from tensorflow.python.ops.distributions import distribution\n",
    "from tensorflow.python.ops.distributions import kullback_leibler\n",
    "from tensorflow.python.ops.distributions import special_math\n",
    "# tf.matrix_determinant\n"
   ]
  },
  {
   "cell_type": "code",
   "execution_count": 4,
   "metadata": {},
   "outputs": [
    {
     "data": {
      "text/plain": [
       "abc.sphereUniformDiag"
      ]
     },
     "execution_count": 4,
     "metadata": {},
     "output_type": "execute_result"
    }
   ],
   "source": [
    "\n",
    "import edward as ed\n",
    "import edward.models as edm\n",
    "import tensorflow as tf\n",
    "import numpy as np\n",
    "import pymisca.numpy_extra as pynp\n",
    "# import tensor\n",
    "import pymisca.util as pyutil\n",
    "import pymisca.vis_util as pyvis\n",
    "import pymisca.tensorflow_extra as pytf;reload(pytf)\n",
    "edm = pytf.edm\n",
    "# pytf.sphereUniformDiag()\n",
    "edm.sphereUniformDiag"
   ]
  },
  {
   "cell_type": "code",
   "execution_count": 5,
   "metadata": {},
   "outputs": [],
   "source": [
    "plt = pyutil.plt"
   ]
  },
  {
   "cell_type": "code",
   "execution_count": 6,
   "metadata": {},
   "outputs": [
    {
     "name": "stdout",
     "output_type": "stream",
     "text": [
      "(2,)\n",
      "(array([0.2339102, 0.3479247, 0.2956797], dtype=float32), 0.08773068)\n",
      "(array([0.38994843, 0.7620002 , 0.6475768 ], dtype=float32), 0.38401994)\n",
      "(20, 40)\n",
      "('[logProb]',)\n",
      "(20, 40)\n",
      "[ 0.33437794  0.23956695 -0.04296011]\n",
      "(10, 2)\n",
      "0.49999997\n",
      "(5000, 2)\n",
      "[1.  2.5]\n",
      "(5000,)\n"
     ]
    },
    {
     "data": {
      "text/plain": [
       "[<matplotlib.lines.Line2D at 0x7fa3e3583a90>]"
      ]
     },
     "execution_count": 6,
     "metadata": {},
     "output_type": "execute_result"
    },
    {
     "data": {
      "image/png": "[encoded data removed]",
      "text/plain": [
       "<matplotlib.figure.Figure at 0x7fa3e6355c50>"
      ]
     },
     "metadata": {},
     "output_type": "display_data"
    }
   ],
   "source": [
    "\n",
    "import tensorflow as tf\n",
    "ed.set_seed(i)\n",
    "\n",
    "sess = tf.InteractiveSession()\n",
    "with sess.as_default():\n",
    "#     scale = pyutil.random_covmat()\n",
    "#     scale = ((1,0),(0,1.5))\n",
    "    scale = (1., 2.5)\n",
    "#     .astype(np.float32)\n",
    "    X = tf.random_uniform(shape=(20,40,2)).eval()\n",
    "    t =  edm.sphereUniformDiag(scale=scale,)\n",
    "    print (t.batch_shape)\n",
    "    Y = t._z(X)\n",
    "    x=  X.flat[-3:]\n",
    "    y = Y.eval().flat[-3:]\n",
    "    lp = t.log_prob(X).eval()\n",
    "    tn = t.sample(10).eval()\n",
    "    print (x, pyutil.msq(x))\n",
    "    print (y, pyutil.msq(y) )\n",
    "    print (t._log_unnormalized_prob(X).eval().shape)\n",
    "    \n",
    "    print ('[logProb]',)\n",
    "    print (lp.shape)\n",
    "    print (lp.flat[-3:])\n",
    "    print (tn.shape)    \n",
    "#     print (tn)\n",
    "    \n",
    "    print (pyutil.msq(tn.flat[-2:]))\n",
    "    X1 = np.random.multivariate_normal((0,0), np.diag(scale),size=5000)\n",
    "#     X1 = X1/np.linalg.norm(X1,axis=1,keepdims=1)\n",
    "    X1 = X1.astype(np.float32)\n",
    "    X1lp = t.log_prob(X1).eval()\n",
    "#     X1lp = t._log_unnormalized_prob(X1).eval()\n",
    "    print (X1.shape)\n",
    "    print (t.scale.eval())\n",
    "    print (X1lp.shape)\n",
    "#     print (t.log_prob(X1))\n",
    "#     print (t.event_shape_tensor().eval())\n",
    "\n",
    "ts = np.arctan(X1.T[1]/X1.T[0])\n",
    "plt.plot(ts,X1lp,'x')\n"
   ]
  },
  {
   "cell_type": "code",
   "execution_count": 7,
   "metadata": {},
   "outputs": [
    {
     "name": "stdout",
     "output_type": "stream",
     "text": [
      "None\n"
     ]
    },
    {
     "ename": "ValueError",
     "evalue": "Shape must be rank 2 but is rank 3 for 'test12/sphereUniformLRP/sample/LinearOperatorUDVHUpdate/solve/LinearOperatorUDVHUpdate/solve/MatMul' (op: 'MatMul') with input shapes: [9,1], [5000,9,1].",
     "output_type": "error",
     "traceback": [
      "\u001b[0;31m---------------------------------------------------------------------------\u001b[0m",
      "\u001b[0;31mValueError\u001b[0m                                Traceback (most recent call last)",
      "\u001b[0;32m<ipython-input-7-ae15e9157f79>\u001b[0m in \u001b[0;36m<module>\u001b[0;34m()\u001b[0m\n\u001b[1;32m     89\u001b[0m         \u001b[0mscale_diag\u001b[0m \u001b[0;34m=\u001b[0m  \u001b[0mscale_diag\u001b[0m\u001b[0;34m,\u001b[0m\u001b[0;34m\u001b[0m\u001b[0m\n\u001b[1;32m     90\u001b[0m         \u001b[0mscale_perturb_factor\u001b[0m \u001b[0;34m=\u001b[0m \u001b[0mscale_perturb_factor\u001b[0m\u001b[0;34m,\u001b[0m\u001b[0;34m\u001b[0m\u001b[0m\n\u001b[0;32m---> 91\u001b[0;31m         \u001b[0msample_shape\u001b[0m \u001b[0;34m=\u001b[0m \u001b[0mlen\u001b[0m\u001b[0;34m(\u001b[0m\u001b[0mdata\u001b[0m\u001b[0;34m)\u001b[0m\u001b[0;34m,\u001b[0m\u001b[0;34m\u001b[0m\u001b[0m\n\u001b[0m\u001b[1;32m     92\u001b[0m \u001b[0;31m#         detPenalty = 0.5,\u001b[0m\u001b[0;34m\u001b[0m\u001b[0;34m\u001b[0m\u001b[0m\n\u001b[1;32m     93\u001b[0m \u001b[0;34m\u001b[0m\u001b[0m\n",
      "\u001b[0;32m/home/shouldsee/.local/lib/python2.7/site-packages/edward/models/random_variable.pyc\u001b[0m in \u001b[0;36m__init__\u001b[0;34m(self, *args, **kwargs)\u001b[0m\n\u001b[1;32m    126\u001b[0m     \u001b[0;32melse\u001b[0m\u001b[0;34m:\u001b[0m\u001b[0;34m\u001b[0m\u001b[0m\n\u001b[1;32m    127\u001b[0m       \u001b[0;32mtry\u001b[0m\u001b[0;34m:\u001b[0m\u001b[0;34m\u001b[0m\u001b[0m\n\u001b[0;32m--> 128\u001b[0;31m         \u001b[0mself\u001b[0m\u001b[0;34m.\u001b[0m\u001b[0m_value\u001b[0m \u001b[0;34m=\u001b[0m \u001b[0mself\u001b[0m\u001b[0;34m.\u001b[0m\u001b[0msample\u001b[0m\u001b[0;34m(\u001b[0m\u001b[0mself\u001b[0m\u001b[0;34m.\u001b[0m\u001b[0m_sample_shape\u001b[0m\u001b[0;34m)\u001b[0m\u001b[0;34m\u001b[0m\u001b[0m\n\u001b[0m\u001b[1;32m    129\u001b[0m       \u001b[0;32mexcept\u001b[0m \u001b[0mNotImplementedError\u001b[0m\u001b[0;34m:\u001b[0m\u001b[0;34m\u001b[0m\u001b[0m\n\u001b[1;32m    130\u001b[0m         raise NotImplementedError(\n",
      "\u001b[0;32m/home/shouldsee/.local/lib/python2.7/site-packages/tensorflow/python/ops/distributions/distribution.pyc\u001b[0m in \u001b[0;36msample\u001b[0;34m(self, sample_shape, seed, name)\u001b[0m\n\u001b[1;32m    656\u001b[0m       \u001b[0msamples\u001b[0m\u001b[0;34m:\u001b[0m \u001b[0ma\u001b[0m \u001b[0;34m`\u001b[0m\u001b[0mTensor\u001b[0m\u001b[0;34m`\u001b[0m \u001b[0;32mwith\u001b[0m \u001b[0mprepended\u001b[0m \u001b[0mdimensions\u001b[0m \u001b[0;34m`\u001b[0m\u001b[0msample_shape\u001b[0m\u001b[0;34m`\u001b[0m\u001b[0;34m.\u001b[0m\u001b[0;34m\u001b[0m\u001b[0m\n\u001b[1;32m    657\u001b[0m     \"\"\"\n\u001b[0;32m--> 658\u001b[0;31m     \u001b[0;32mreturn\u001b[0m \u001b[0mself\u001b[0m\u001b[0;34m.\u001b[0m\u001b[0m_call_sample_n\u001b[0m\u001b[0;34m(\u001b[0m\u001b[0msample_shape\u001b[0m\u001b[0;34m,\u001b[0m \u001b[0mseed\u001b[0m\u001b[0;34m,\u001b[0m \u001b[0mname\u001b[0m\u001b[0;34m)\u001b[0m\u001b[0;34m\u001b[0m\u001b[0m\n\u001b[0m\u001b[1;32m    659\u001b[0m \u001b[0;34m\u001b[0m\u001b[0m\n\u001b[1;32m    660\u001b[0m   \u001b[0;32mdef\u001b[0m \u001b[0m_log_prob\u001b[0m\u001b[0;34m(\u001b[0m\u001b[0mself\u001b[0m\u001b[0;34m,\u001b[0m \u001b[0mvalue\u001b[0m\u001b[0;34m)\u001b[0m\u001b[0;34m:\u001b[0m\u001b[0;34m\u001b[0m\u001b[0m\n",
      "\u001b[0;32m/home/shouldsee/.local/lib/python2.7/site-packages/tensorflow/python/ops/distributions/distribution.pyc\u001b[0m in \u001b[0;36m_call_sample_n\u001b[0;34m(self, sample_shape, seed, name, **kwargs)\u001b[0m\n\u001b[1;32m    635\u001b[0m       sample_shape, n = self._expand_sample_shape_to_vector(\n\u001b[1;32m    636\u001b[0m           sample_shape, \"sample_shape\")\n\u001b[0;32m--> 637\u001b[0;31m       \u001b[0msamples\u001b[0m \u001b[0;34m=\u001b[0m \u001b[0mself\u001b[0m\u001b[0;34m.\u001b[0m\u001b[0m_sample_n\u001b[0m\u001b[0;34m(\u001b[0m\u001b[0mn\u001b[0m\u001b[0;34m,\u001b[0m \u001b[0mseed\u001b[0m\u001b[0;34m,\u001b[0m \u001b[0;34m**\u001b[0m\u001b[0mkwargs\u001b[0m\u001b[0;34m)\u001b[0m\u001b[0;34m\u001b[0m\u001b[0m\n\u001b[0m\u001b[1;32m    638\u001b[0m       \u001b[0mbatch_event_shape\u001b[0m \u001b[0;34m=\u001b[0m \u001b[0marray_ops\u001b[0m\u001b[0;34m.\u001b[0m\u001b[0mshape\u001b[0m\u001b[0;34m(\u001b[0m\u001b[0msamples\u001b[0m\u001b[0;34m)\u001b[0m\u001b[0;34m[\u001b[0m\u001b[0;36m1\u001b[0m\u001b[0;34m:\u001b[0m\u001b[0;34m]\u001b[0m\u001b[0;34m\u001b[0m\u001b[0m\n\u001b[1;32m    639\u001b[0m       \u001b[0mfinal_shape\u001b[0m \u001b[0;34m=\u001b[0m \u001b[0marray_ops\u001b[0m\u001b[0;34m.\u001b[0m\u001b[0mconcat\u001b[0m\u001b[0;34m(\u001b[0m\u001b[0;34m[\u001b[0m\u001b[0msample_shape\u001b[0m\u001b[0;34m,\u001b[0m \u001b[0mbatch_event_shape\u001b[0m\u001b[0;34m]\u001b[0m\u001b[0;34m,\u001b[0m \u001b[0;36m0\u001b[0m\u001b[0;34m)\u001b[0m\u001b[0;34m\u001b[0m\u001b[0m\n",
      "\u001b[0;32m/home/shouldsee/.local/lib/python2.7/site-packages/pymisca/tensorflow_extra.pyc\u001b[0m in \u001b[0;36m_sample_n\u001b[0;34m(self, n, seed)\u001b[0m\n\u001b[1;32m    573\u001b[0m \u001b[0;31m#         print (self.forwardMat.shape,\u001b[0m\u001b[0;34m\u001b[0m\u001b[0;34m\u001b[0m\u001b[0m\n\u001b[1;32m    574\u001b[0m \u001b[0;31m#                tf.transpose(sampled).shape)\u001b[0m\u001b[0;34m\u001b[0m\u001b[0;34m\u001b[0m\u001b[0m\n\u001b[0;32m--> 575\u001b[0;31m         \u001b[0my\u001b[0m \u001b[0;34m=\u001b[0m \u001b[0mself\u001b[0m\u001b[0;34m.\u001b[0m\u001b[0mscale\u001b[0m\u001b[0;34m.\u001b[0m\u001b[0msolvevec\u001b[0m\u001b[0;34m(\u001b[0m\u001b[0msampled\u001b[0m\u001b[0;34m)\u001b[0m\u001b[0;34m\u001b[0m\u001b[0m\n\u001b[0m\u001b[1;32m    576\u001b[0m \u001b[0;31m#         y = tf.matmul(self.forwardMat, tf.transpose(sampled))\u001b[0m\u001b[0;34m\u001b[0m\u001b[0;34m\u001b[0m\u001b[0m\n\u001b[1;32m    577\u001b[0m \u001b[0;31m#         sampled_mvn = tf.transpose(y)\u001b[0m\u001b[0;34m\u001b[0m\u001b[0;34m\u001b[0m\u001b[0m\n",
      "\u001b[0;32m/home/shouldsee/.local/lib/python2.7/site-packages/tensorflow/contrib/linalg/python/ops/linear_operator.pyc\u001b[0m in \u001b[0;36msolvevec\u001b[0;34m(self, rhs, adjoint, name)\u001b[0m\n\u001b[1;32m    838\u001b[0m       \u001b[0mself\u001b[0m\u001b[0;34m.\u001b[0m\u001b[0mshape\u001b[0m\u001b[0;34m[\u001b[0m\u001b[0mself_dim\u001b[0m\u001b[0;34m]\u001b[0m\u001b[0;34m.\u001b[0m\u001b[0massert_is_compatible_with\u001b[0m\u001b[0;34m(\u001b[0m\u001b[0mrhs\u001b[0m\u001b[0;34m.\u001b[0m\u001b[0mget_shape\u001b[0m\u001b[0;34m(\u001b[0m\u001b[0;34m)\u001b[0m\u001b[0;34m[\u001b[0m\u001b[0;34m-\u001b[0m\u001b[0;36m1\u001b[0m\u001b[0;34m]\u001b[0m\u001b[0;34m)\u001b[0m\u001b[0;34m\u001b[0m\u001b[0m\n\u001b[1;32m    839\u001b[0m \u001b[0;34m\u001b[0m\u001b[0m\n\u001b[0;32m--> 840\u001b[0;31m       \u001b[0;32mreturn\u001b[0m \u001b[0mself\u001b[0m\u001b[0;34m.\u001b[0m\u001b[0m_solvevec\u001b[0m\u001b[0;34m(\u001b[0m\u001b[0mrhs\u001b[0m\u001b[0;34m,\u001b[0m \u001b[0madjoint\u001b[0m\u001b[0;34m=\u001b[0m\u001b[0madjoint\u001b[0m\u001b[0;34m)\u001b[0m\u001b[0;34m\u001b[0m\u001b[0m\n\u001b[0m\u001b[1;32m    841\u001b[0m \u001b[0;34m\u001b[0m\u001b[0m\n\u001b[1;32m    842\u001b[0m   \u001b[0;32mdef\u001b[0m \u001b[0m_to_dense\u001b[0m\u001b[0;34m(\u001b[0m\u001b[0mself\u001b[0m\u001b[0;34m)\u001b[0m\u001b[0;34m:\u001b[0m\u001b[0;34m\u001b[0m\u001b[0m\n",
      "\u001b[0;32m/home/shouldsee/.local/lib/python2.7/site-packages/tensorflow/contrib/linalg/python/ops/linear_operator.pyc\u001b[0m in \u001b[0;36m_solvevec\u001b[0;34m(self, rhs, adjoint)\u001b[0m\n\u001b[1;32m    790\u001b[0m     \u001b[0;34m\"\"\"Default implementation of _solvevec.\"\"\"\u001b[0m\u001b[0;34m\u001b[0m\u001b[0m\n\u001b[1;32m    791\u001b[0m     \u001b[0mrhs_mat\u001b[0m \u001b[0;34m=\u001b[0m \u001b[0marray_ops\u001b[0m\u001b[0;34m.\u001b[0m\u001b[0mexpand_dims\u001b[0m\u001b[0;34m(\u001b[0m\u001b[0mrhs\u001b[0m\u001b[0;34m,\u001b[0m \u001b[0maxis\u001b[0m\u001b[0;34m=\u001b[0m\u001b[0;34m-\u001b[0m\u001b[0;36m1\u001b[0m\u001b[0;34m)\u001b[0m\u001b[0;34m\u001b[0m\u001b[0m\n\u001b[0;32m--> 792\u001b[0;31m     \u001b[0msolution_mat\u001b[0m \u001b[0;34m=\u001b[0m \u001b[0mself\u001b[0m\u001b[0;34m.\u001b[0m\u001b[0msolve\u001b[0m\u001b[0;34m(\u001b[0m\u001b[0mrhs_mat\u001b[0m\u001b[0;34m,\u001b[0m \u001b[0madjoint\u001b[0m\u001b[0;34m=\u001b[0m\u001b[0madjoint\u001b[0m\u001b[0;34m)\u001b[0m\u001b[0;34m\u001b[0m\u001b[0m\n\u001b[0m\u001b[1;32m    793\u001b[0m     \u001b[0;32mreturn\u001b[0m \u001b[0marray_ops\u001b[0m\u001b[0;34m.\u001b[0m\u001b[0msqueeze\u001b[0m\u001b[0;34m(\u001b[0m\u001b[0msolution_mat\u001b[0m\u001b[0;34m,\u001b[0m \u001b[0maxis\u001b[0m\u001b[0;34m=\u001b[0m\u001b[0;34m-\u001b[0m\u001b[0;36m1\u001b[0m\u001b[0;34m)\u001b[0m\u001b[0;34m\u001b[0m\u001b[0m\n\u001b[1;32m    794\u001b[0m \u001b[0;34m\u001b[0m\u001b[0m\n",
      "\u001b[0;32m/home/shouldsee/.local/lib/python2.7/site-packages/tensorflow/contrib/linalg/python/ops/linear_operator.pyc\u001b[0m in \u001b[0;36msolve\u001b[0;34m(self, rhs, adjoint, adjoint_arg, name)\u001b[0m\n\u001b[1;32m    785\u001b[0m       \u001b[0mself\u001b[0m\u001b[0;34m.\u001b[0m\u001b[0mshape\u001b[0m\u001b[0;34m[\u001b[0m\u001b[0mself_dim\u001b[0m\u001b[0;34m]\u001b[0m\u001b[0;34m.\u001b[0m\u001b[0massert_is_compatible_with\u001b[0m\u001b[0;34m(\u001b[0m\u001b[0mrhs\u001b[0m\u001b[0;34m.\u001b[0m\u001b[0mget_shape\u001b[0m\u001b[0;34m(\u001b[0m\u001b[0;34m)\u001b[0m\u001b[0;34m[\u001b[0m\u001b[0marg_dim\u001b[0m\u001b[0;34m]\u001b[0m\u001b[0;34m)\u001b[0m\u001b[0;34m\u001b[0m\u001b[0m\n\u001b[1;32m    786\u001b[0m \u001b[0;34m\u001b[0m\u001b[0m\n\u001b[0;32m--> 787\u001b[0;31m       \u001b[0;32mreturn\u001b[0m \u001b[0mself\u001b[0m\u001b[0;34m.\u001b[0m\u001b[0m_solve\u001b[0m\u001b[0;34m(\u001b[0m\u001b[0mrhs\u001b[0m\u001b[0;34m,\u001b[0m \u001b[0madjoint\u001b[0m\u001b[0;34m=\u001b[0m\u001b[0madjoint\u001b[0m\u001b[0;34m,\u001b[0m \u001b[0madjoint_arg\u001b[0m\u001b[0;34m=\u001b[0m\u001b[0madjoint_arg\u001b[0m\u001b[0;34m)\u001b[0m\u001b[0;34m\u001b[0m\u001b[0m\n\u001b[0m\u001b[1;32m    788\u001b[0m \u001b[0;34m\u001b[0m\u001b[0m\n\u001b[1;32m    789\u001b[0m   \u001b[0;32mdef\u001b[0m \u001b[0m_solvevec\u001b[0m\u001b[0;34m(\u001b[0m\u001b[0mself\u001b[0m\u001b[0;34m,\u001b[0m \u001b[0mrhs\u001b[0m\u001b[0;34m,\u001b[0m \u001b[0madjoint\u001b[0m\u001b[0;34m=\u001b[0m\u001b[0mFalse\u001b[0m\u001b[0;34m)\u001b[0m\u001b[0;34m:\u001b[0m\u001b[0;34m\u001b[0m\u001b[0m\n",
      "\u001b[0;32m/home/shouldsee/.local/lib/python2.7/site-packages/tensorflow/contrib/linalg/python/ops/linear_operator_udvh_update.pyc\u001b[0m in \u001b[0;36m_solve\u001b[0;34m(self, rhs, adjoint, adjoint_arg)\u001b[0m\n\u001b[1;32m    424\u001b[0m     \u001b[0mlinv_rhs\u001b[0m \u001b[0;34m=\u001b[0m \u001b[0ml\u001b[0m\u001b[0;34m.\u001b[0m\u001b[0msolve\u001b[0m\u001b[0;34m(\u001b[0m\u001b[0mrhs\u001b[0m\u001b[0;34m,\u001b[0m \u001b[0madjoint\u001b[0m\u001b[0;34m=\u001b[0m\u001b[0madjoint\u001b[0m\u001b[0;34m,\u001b[0m \u001b[0madjoint_arg\u001b[0m\u001b[0;34m=\u001b[0m\u001b[0madjoint_arg\u001b[0m\u001b[0;34m)\u001b[0m\u001b[0;34m\u001b[0m\u001b[0m\n\u001b[1;32m    425\u001b[0m     \u001b[0;31m# V^H L^{-1} rhs\u001b[0m\u001b[0;34m\u001b[0m\u001b[0;34m\u001b[0m\u001b[0m\n\u001b[0;32m--> 426\u001b[0;31m     \u001b[0mvh_linv_rhs\u001b[0m \u001b[0;34m=\u001b[0m \u001b[0mmath_ops\u001b[0m\u001b[0;34m.\u001b[0m\u001b[0mmatmul\u001b[0m\u001b[0;34m(\u001b[0m\u001b[0mv\u001b[0m\u001b[0;34m,\u001b[0m \u001b[0mlinv_rhs\u001b[0m\u001b[0;34m,\u001b[0m \u001b[0madjoint_a\u001b[0m\u001b[0;34m=\u001b[0m\u001b[0mTrue\u001b[0m\u001b[0;34m)\u001b[0m\u001b[0;34m\u001b[0m\u001b[0m\n\u001b[0m\u001b[1;32m    427\u001b[0m     \u001b[0;31m# C^{-1} V^H L^{-1} rhs\u001b[0m\u001b[0;34m\u001b[0m\u001b[0;34m\u001b[0m\u001b[0m\n\u001b[1;32m    428\u001b[0m     \u001b[0;32mif\u001b[0m \u001b[0mself\u001b[0m\u001b[0;34m.\u001b[0m\u001b[0m_use_cholesky\u001b[0m\u001b[0;34m:\u001b[0m\u001b[0;34m\u001b[0m\u001b[0m\n",
      "\u001b[0;32m/home/shouldsee/.local/lib/python2.7/site-packages/tensorflow/python/ops/math_ops.pyc\u001b[0m in \u001b[0;36mmatmul\u001b[0;34m(a, b, transpose_a, transpose_b, adjoint_a, adjoint_b, a_is_sparse, b_is_sparse, name)\u001b[0m\n\u001b[1;32m   1814\u001b[0m     \u001b[0;32melse\u001b[0m\u001b[0;34m:\u001b[0m\u001b[0;34m\u001b[0m\u001b[0m\n\u001b[1;32m   1815\u001b[0m       return gen_math_ops._mat_mul(\n\u001b[0;32m-> 1816\u001b[0;31m           a, b, transpose_a=transpose_a, transpose_b=transpose_b, name=name)\n\u001b[0m\u001b[1;32m   1817\u001b[0m \u001b[0;34m\u001b[0m\u001b[0m\n\u001b[1;32m   1818\u001b[0m \u001b[0;34m\u001b[0m\u001b[0m\n",
      "\u001b[0;32m/home/shouldsee/.local/lib/python2.7/site-packages/tensorflow/python/ops/gen_math_ops.pyc\u001b[0m in \u001b[0;36m_mat_mul\u001b[0;34m(a, b, transpose_a, transpose_b, name)\u001b[0m\n\u001b[1;32m   1215\u001b[0m   \"\"\"\n\u001b[1;32m   1216\u001b[0m   result = _op_def_lib.apply_op(\"MatMul\", a=a, b=b, transpose_a=transpose_a,\n\u001b[0;32m-> 1217\u001b[0;31m                                 transpose_b=transpose_b, name=name)\n\u001b[0m\u001b[1;32m   1218\u001b[0m   \u001b[0;32mreturn\u001b[0m \u001b[0mresult\u001b[0m\u001b[0;34m\u001b[0m\u001b[0m\n\u001b[1;32m   1219\u001b[0m \u001b[0;34m\u001b[0m\u001b[0m\n",
      "\u001b[0;32m/home/shouldsee/.local/lib/python2.7/site-packages/tensorflow/python/framework/op_def_library.pyc\u001b[0m in \u001b[0;36mapply_op\u001b[0;34m(self, op_type_name, name, **keywords)\u001b[0m\n\u001b[1;32m    765\u001b[0m         op = g.create_op(op_type_name, inputs, output_types, name=scope,\n\u001b[1;32m    766\u001b[0m                          \u001b[0minput_types\u001b[0m\u001b[0;34m=\u001b[0m\u001b[0minput_types\u001b[0m\u001b[0;34m,\u001b[0m \u001b[0mattrs\u001b[0m\u001b[0;34m=\u001b[0m\u001b[0mattr_protos\u001b[0m\u001b[0;34m,\u001b[0m\u001b[0;34m\u001b[0m\u001b[0m\n\u001b[0;32m--> 767\u001b[0;31m                          op_def=op_def)\n\u001b[0m\u001b[1;32m    768\u001b[0m         \u001b[0;32mif\u001b[0m \u001b[0moutput_structure\u001b[0m\u001b[0;34m:\u001b[0m\u001b[0;34m\u001b[0m\u001b[0m\n\u001b[1;32m    769\u001b[0m           \u001b[0moutputs\u001b[0m \u001b[0;34m=\u001b[0m \u001b[0mop\u001b[0m\u001b[0;34m.\u001b[0m\u001b[0moutputs\u001b[0m\u001b[0;34m\u001b[0m\u001b[0m\n",
      "\u001b[0;32m/home/shouldsee/.local/lib/python2.7/site-packages/tensorflow/python/framework/ops.pyc\u001b[0m in \u001b[0;36mcreate_op\u001b[0;34m(self, op_type, inputs, dtypes, input_types, name, attrs, op_def, compute_shapes, compute_device)\u001b[0m\n\u001b[1;32m   2506\u001b[0m                     original_op=self._default_original_op, op_def=op_def)\n\u001b[1;32m   2507\u001b[0m     \u001b[0;32mif\u001b[0m \u001b[0mcompute_shapes\u001b[0m\u001b[0;34m:\u001b[0m\u001b[0;34m\u001b[0m\u001b[0m\n\u001b[0;32m-> 2508\u001b[0;31m       \u001b[0mset_shapes_for_outputs\u001b[0m\u001b[0;34m(\u001b[0m\u001b[0mret\u001b[0m\u001b[0;34m)\u001b[0m\u001b[0;34m\u001b[0m\u001b[0m\n\u001b[0m\u001b[1;32m   2509\u001b[0m     \u001b[0mself\u001b[0m\u001b[0;34m.\u001b[0m\u001b[0m_add_op\u001b[0m\u001b[0;34m(\u001b[0m\u001b[0mret\u001b[0m\u001b[0;34m)\u001b[0m\u001b[0;34m\u001b[0m\u001b[0m\n\u001b[1;32m   2510\u001b[0m     \u001b[0mself\u001b[0m\u001b[0;34m.\u001b[0m\u001b[0m_record_op_seen_by_control_dependencies\u001b[0m\u001b[0;34m(\u001b[0m\u001b[0mret\u001b[0m\u001b[0;34m)\u001b[0m\u001b[0;34m\u001b[0m\u001b[0m\n",
      "\u001b[0;32m/home/shouldsee/.local/lib/python2.7/site-packages/tensorflow/python/framework/ops.pyc\u001b[0m in \u001b[0;36mset_shapes_for_outputs\u001b[0;34m(op)\u001b[0m\n\u001b[1;32m   1871\u001b[0m       \u001b[0mshape_func\u001b[0m \u001b[0;34m=\u001b[0m \u001b[0m_call_cpp_shape_fn_and_require_op\u001b[0m\u001b[0;34m\u001b[0m\u001b[0m\n\u001b[1;32m   1872\u001b[0m \u001b[0;34m\u001b[0m\u001b[0m\n\u001b[0;32m-> 1873\u001b[0;31m   \u001b[0mshapes\u001b[0m \u001b[0;34m=\u001b[0m \u001b[0mshape_func\u001b[0m\u001b[0;34m(\u001b[0m\u001b[0mop\u001b[0m\u001b[0;34m)\u001b[0m\u001b[0;34m\u001b[0m\u001b[0m\n\u001b[0m\u001b[1;32m   1874\u001b[0m   \u001b[0;32mif\u001b[0m \u001b[0mshapes\u001b[0m \u001b[0;32mis\u001b[0m \u001b[0mNone\u001b[0m\u001b[0;34m:\u001b[0m\u001b[0;34m\u001b[0m\u001b[0m\n\u001b[1;32m   1875\u001b[0m     raise RuntimeError(\n",
      "\u001b[0;32m/home/shouldsee/.local/lib/python2.7/site-packages/tensorflow/python/framework/ops.pyc\u001b[0m in \u001b[0;36mcall_with_requiring\u001b[0;34m(op)\u001b[0m\n\u001b[1;32m   1821\u001b[0m \u001b[0;34m\u001b[0m\u001b[0m\n\u001b[1;32m   1822\u001b[0m   \u001b[0;32mdef\u001b[0m \u001b[0mcall_with_requiring\u001b[0m\u001b[0;34m(\u001b[0m\u001b[0mop\u001b[0m\u001b[0;34m)\u001b[0m\u001b[0;34m:\u001b[0m\u001b[0;34m\u001b[0m\u001b[0m\n\u001b[0;32m-> 1823\u001b[0;31m     \u001b[0;32mreturn\u001b[0m \u001b[0mcall_cpp_shape_fn\u001b[0m\u001b[0;34m(\u001b[0m\u001b[0mop\u001b[0m\u001b[0;34m,\u001b[0m \u001b[0mrequire_shape_fn\u001b[0m\u001b[0;34m=\u001b[0m\u001b[0mTrue\u001b[0m\u001b[0;34m)\u001b[0m\u001b[0;34m\u001b[0m\u001b[0m\n\u001b[0m\u001b[1;32m   1824\u001b[0m \u001b[0;34m\u001b[0m\u001b[0m\n\u001b[1;32m   1825\u001b[0m   \u001b[0m_call_cpp_shape_fn_and_require_op\u001b[0m \u001b[0;34m=\u001b[0m \u001b[0mcall_with_requiring\u001b[0m\u001b[0;34m\u001b[0m\u001b[0m\n",
      "\u001b[0;32m/home/shouldsee/.local/lib/python2.7/site-packages/tensorflow/python/framework/common_shapes.pyc\u001b[0m in \u001b[0;36mcall_cpp_shape_fn\u001b[0;34m(op, input_tensors_needed, input_tensors_as_shapes_needed, debug_python_shape_fn, require_shape_fn)\u001b[0m\n\u001b[1;32m    608\u001b[0m     res = _call_cpp_shape_fn_impl(op, input_tensors_needed,\n\u001b[1;32m    609\u001b[0m                                   \u001b[0minput_tensors_as_shapes_needed\u001b[0m\u001b[0;34m,\u001b[0m\u001b[0;34m\u001b[0m\u001b[0m\n\u001b[0;32m--> 610\u001b[0;31m                                   debug_python_shape_fn, require_shape_fn)\n\u001b[0m\u001b[1;32m    611\u001b[0m     \u001b[0;32mif\u001b[0m \u001b[0;32mnot\u001b[0m \u001b[0misinstance\u001b[0m\u001b[0;34m(\u001b[0m\u001b[0mres\u001b[0m\u001b[0;34m,\u001b[0m \u001b[0mdict\u001b[0m\u001b[0;34m)\u001b[0m\u001b[0;34m:\u001b[0m\u001b[0;34m\u001b[0m\u001b[0m\n\u001b[1;32m    612\u001b[0m       \u001b[0;31m# Handles the case where _call_cpp_shape_fn_impl calls unknown_shape(op).\u001b[0m\u001b[0;34m\u001b[0m\u001b[0;34m\u001b[0m\u001b[0m\n",
      "\u001b[0;32m/home/shouldsee/.local/lib/python2.7/site-packages/tensorflow/python/framework/common_shapes.pyc\u001b[0m in \u001b[0;36m_call_cpp_shape_fn_impl\u001b[0;34m(op, input_tensors_needed, input_tensors_as_shapes_needed, debug_python_shape_fn, require_shape_fn)\u001b[0m\n\u001b[1;32m    674\u001b[0m       \u001b[0mmissing_shape_fn\u001b[0m \u001b[0;34m=\u001b[0m \u001b[0mTrue\u001b[0m\u001b[0;34m\u001b[0m\u001b[0m\n\u001b[1;32m    675\u001b[0m     \u001b[0;32melse\u001b[0m\u001b[0;34m:\u001b[0m\u001b[0;34m\u001b[0m\u001b[0m\n\u001b[0;32m--> 676\u001b[0;31m       \u001b[0;32mraise\u001b[0m \u001b[0mValueError\u001b[0m\u001b[0;34m(\u001b[0m\u001b[0merr\u001b[0m\u001b[0;34m.\u001b[0m\u001b[0mmessage\u001b[0m\u001b[0;34m)\u001b[0m\u001b[0;34m\u001b[0m\u001b[0m\n\u001b[0m\u001b[1;32m    677\u001b[0m \u001b[0;34m\u001b[0m\u001b[0m\n\u001b[1;32m    678\u001b[0m   \u001b[0;32mif\u001b[0m \u001b[0mmissing_shape_fn\u001b[0m\u001b[0;34m:\u001b[0m\u001b[0;34m\u001b[0m\u001b[0m\n",
      "\u001b[0;31mValueError\u001b[0m: Shape must be rank 2 but is rank 3 for 'test12/sphereUniformLRP/sample/LinearOperatorUDVHUpdate/solve/LinearOperatorUDVHUpdate/solve/MatMul' (op: 'MatMul') with input shapes: [9,1], [5000,9,1]."
     ]
    }
   ],
   "source": [
    "K = 1\n",
    "# D = 10\n",
    "K = scale = np.random.random(size=D)*3\n",
    "\n",
    "x = np.random.random(size=(D,1))\n",
    "K = np.diag(K) + x.T * x\n",
    "scale  = K\n",
    "# scale = (1., 2.5)\n",
    "\n",
    "X1 = np.random.multivariate_normal((0,)*D, scale,size=5000)\n",
    "#     X1 = X1/np.linalg.norm(X1,axis=1,keepdims=1)\n",
    "X1 = X1.astype(np.float32)\n",
    "# X1lp = t.log_prob(X1).eval()\n",
    "\n",
    "data = X1\n",
    "# scale = edm.Uniform(sample_shape=(D,D))\n",
    "# scale = edm.WishartFull(scale=np.eye(D,dtype=  np.float32),df=100,)\n",
    "\n",
    "\n",
    "scale_diag = edm.Uniform(sample_shape=(D))\n",
    "scale_perturb_factor = edm.Uniform(sample_shape=(D,1))\n",
    "\n",
    "\n",
    "# m = tf.contrib.distributions.Normal(\n",
    "m0 = edm.sphereUniformDiag(\n",
    "# m = aNorm(\n",
    "# m  = edm.Normal(\n",
    "    loc=np.array((0.,)*D).astype(np.float32),\n",
    "    scale =  scale_diag,\n",
    "    sample_shape = len(data),\n",
    ")\n",
    "    \n",
    "\n",
    "\n",
    "# concentration = edm.Uniform(sample_shape=(1,))\n",
    "# concentration = edm.D\n",
    "concentration = tf.log( tf.constant([D/2.]) - 1. )\n",
    "rate = edm.Uniform(sample_shape=(1,))\n",
    "\n",
    "mDist = edm.GammaWithSoftplusConcentrationRate(\n",
    "    concentration=concentration,\n",
    "    rate=rate,\n",
    "    sample_shape=[N])\n",
    "\n",
    "\n",
    "# edm.sphereUniformDiag\n",
    "\n",
    "# name = self.name\n",
    "i+=1\n",
    "name = 'test%d'%i\n",
    "try:\n",
    "    tf.get_variable(name+'/test',[1])\n",
    "    reuse = None\n",
    "except:\n",
    "    reuse = True\n",
    "print (reuse)\n",
    "self = pyutil.util_obj()\n",
    "with tf.variable_scope(name, reuse=reuse):\n",
    "#     self.q_pi = ed.models.PointMass(\n",
    "#         tf.nn.softmax(\n",
    "#             tf.get_variable(\"q_pi\", [K])\n",
    "#         )\n",
    "#     )\n",
    "#     self.q_mu = ed.models.PointMass(\n",
    "#         tf.get_variable(\"q_mu\", [K,D])\n",
    "#     )\n",
    "    self.q_scale_diag  = edm.PointMass(\n",
    "        tf.nn.softplus(\n",
    "            tf.get_variable('q_scale_diag',shape=[D])\n",
    "                      ),\n",
    "    )\n",
    "    self.q_scale_perturb_factor = ed.models.PointMass(\n",
    "        (\n",
    "            tf.get_variable(\"q_scale_perturb_factor\", [D,1])\n",
    "        )\n",
    "    )\n",
    "#     concentration = edm.Deterministic()\n",
    "#     concentration = edm.Deterministic(tf.log( tf.constant([D/2.]) - 1. ))    \n",
    "    concentration = edm.Uniform(sample_shape=(1,))\n",
    "#     concentration = tf.log( tf.constant([D/2.]) - 1. )\n",
    "    rate = edm.Deterministic(1E-20,sample_shape=(1,))\n",
    "#     rate = edm.Uniform(sample_shape=(1,))\n",
    "    m = edm.sphereUniformLRP(\n",
    "    # m = aNorm(\n",
    "    # m  = edm.Normal(\n",
    "    #     loc=np.array((0.,)*D).astype(np.float32),\n",
    "        concentration = concentration,\n",
    "        rate=rate,\n",
    "        scale_diag =  scale_diag,\n",
    "        scale_perturb_factor = scale_perturb_factor,\n",
    "        sample_shape = len(data),\n",
    "#         detPenalty = 0.5,\n",
    "\n",
    "    )    \n",
    "\n",
    "    mDist = edm.GammaWithSoftplusConcentrationRate(\n",
    "        concentration=concentration,\n",
    "        rate=rate,\n",
    "        sample_shape=[N])\n",
    "    self.q_concentration  = edm.PointMass(\n",
    "        nn.softplus(\n",
    "            tf.get_variable('q_concentration',shape=[1])\n",
    "        )\n",
    "    )\n",
    "    self.q_rate  = edm.PointMass(\n",
    "        nn.softplus(\n",
    "        tf.get_variable('q_rate',shape=[1])\n",
    "        )\n",
    "    )\n",
    "    \n",
    "    \n",
    "# self.q_m = edm.sphereUniformLRP(\n",
    "# # m = aNorm(\n",
    "# # m  = edm.Normal(\n",
    "# #     loc=np.array((0.,)*D).astype(np.float32),\n",
    "#     scale_diag =  self.q_scale_diag,\n",
    "#     scale_perturb_factor = self.q_scale_perturb_factor,\n",
    "#     sample_shape = len(data),\n",
    "\n",
    "# )\n",
    "\n",
    "# m.scale.b\n",
    "# m = edm.MultivariateNormalFullCovariance(loc=np.array((0.,)*D).astype(np.float32),\n",
    "#                                      covariance_matrix=scale,\n",
    "#                                      sample_shape=len(data))\n",
    "# q_scale = edm.PointMass(tf.get_variable(shape = (D,D),name='q_scale8'))\n",
    "# ed.MAP\n",
    "inf = ed.MAP({\n",
    "            scale_diag:self.q_scale_diag,\n",
    "              scale_perturb_factor:self.q_scale_perturb_factor,\n",
    "              concentration : self.q_concentration,\n",
    "              rate: self.q_rate,\n",
    "#               q_scale\n",
    "             },{m:data, \n",
    "#                 mDist: tf.expand_dims(self.q_m.kernelDist(data),axis=-1)\n",
    "               }\n",
    ")\n",
    "\n",
    "print np.diag(K)"
   ]
  },
  {
   "cell_type": "code",
   "execution_count": 8,
   "metadata": {},
   "outputs": [],
   "source": [
    "# dist = qm.kernelDist(X1).eval()\n",
    "# # distn = dist/ np.std(dist)\n",
    "# distn = dist\n",
    "# count,xbin,_ = plt.hist(distn,100,normed=1);\n",
    "\n",
    "# prob = q_mDist.prob(xbin).eval()\n",
    "# plt.plot(xbin,prob)"
   ]
  },
  {
   "cell_type": "code",
   "execution_count": null,
   "metadata": {
    "scrolled": true
   },
   "outputs": [],
   "source": [
    "lst = 50,100,200,1000\n",
    "\n",
    "n_iter = 50\n",
    "# for n_iter in lst:\n",
    "n_iter = 0\n",
    "# i = 5\n",
    "for _ in range(1):\n",
    "    i+=1;\n",
    "    sess = tf.InteractiveSession()\n",
    "    with sess.as_default():\n",
    "        tf.global_variables_initializer().run()\n",
    "#         np.random.seed(i)\n",
    "#         tf.set_random_seed(i)\n",
    "        print (self.q_scale_diag.eval())\n",
    "    \n",
    "        inf = ed.MAP({\n",
    "                scale_diag:self.q_scale_diag,\n",
    "              scale_perturb_factor:self.q_scale_perturb_factor,\n",
    "              concentration : self.q_concentration,\n",
    "              rate: self.q_rate,\n",
    "            \n",
    "#               q_scale\n",
    "             },{\n",
    "            m:data, \n",
    "#                 mDist: tf.expand_dims(m.kernelDist(data),axis=-1)\n",
    "        })\n",
    "\n",
    "\n",
    "#         inf = ed.MAP({scale_diag:self.q_scale_diag,\n",
    "#                       scale_perturb_factor:self.q_scale_perturb_factor,\n",
    "#         #               q_scale\n",
    "#                      },{m:data})\n",
    "        inf.run(n_iter=1)\n",
    "\n",
    "        n_iter = 0\n",
    "#         for _ in range(10):    \n",
    "        for _ in range(3):    \n",
    "            sigsq = self.q_scale_diag.eval()\n",
    "            sigsq = np.diag(self.q_scale_diag.eval()) + self.q_scale_perturb_factor.eval().T * self.q_scale_perturb_factor.eval()\n",
    "            sigsq = np.dot(sigsq,sigsq)\n",
    "#             print (_, sigsq[0]/sigsq[1],sigsq)\n",
    "            n_iter += 200\n",
    "            [x.run() for x in inf.reset]\n",
    "            inf.run(n_iter=n_iter)\n",
    "            for mat in [sigsq, np.linalg.inv(K)]:\n",
    "                print (pyutil.mat2str(np.diag(pyutil.detNorm(mat)),decimal=3))\n",
    "                print (np.log1p(np.exp([self.q_rate.eval()[0],\n",
    "                                        self.q_concentration.eval()[0]])[::-1]),\n",
    "                       data.shape)\n",
    "#             print (np.diag(pyutil.detNorm(sigsq)).tolist());print(np.diag(pyutil.detNorm(K))**-1)\n",
    "#         break"
   ]
  },
  {
   "cell_type": "code",
   "execution_count": null,
   "metadata": {},
   "outputs": [],
   "source": [
    "np.log1p(np.exp([self.q_rate.eval()[0],self.q_concentration.eval()[0]])[::-1]),data.shape"
   ]
  },
  {
   "cell_type": "code",
   "execution_count": null,
   "metadata": {},
   "outputs": [],
   "source": [
    "\n",
    "qm = edm.sphereUniformLRP(\n",
    "#     concentration = self.q_concentration,\n",
    "#     rate = self.q_rate,\n",
    "#     rate = rate,\n",
    "    scale_diag =  self.q_scale_diag,\n",
    "    scale_perturb_factor = self.q_scale_perturb_factor,\n",
    "    sample_shape = len(data),\n",
    "\n",
    ")\n",
    "pyutil.detNorm(qm.precision.eval())\n",
    "\n",
    "q_mDist = edm.Gamma(\n",
    "    concentration=self.q_concentration,\n",
    "#     concentration=self.q_concentration,\n",
    "#     rate=self.q_rate,\n",
    "    rate = rate,\n",
    "    sample_shape=[N])\n",
    "\n",
    "\n",
    "dist = qm.kernelDist(X1).eval()\n",
    "# distn = dist/ np.std(dist)\n",
    "distn = dist\n",
    "count,xbin,_ = plt.hist(distn,100,normed=1);\n",
    "# prob\n",
    "prob = q_mDist.prob(xbin).eval()\n",
    "plt.plot(xbin,prob)"
   ]
  },
  {
   "cell_type": "code",
   "execution_count": null,
   "metadata": {},
   "outputs": [],
   "source": [
    "q_mDist.mean().eval()"
   ]
  },
  {
   "cell_type": "code",
   "execution_count": null,
   "metadata": {},
   "outputs": [],
   "source": [
    "np.log1p(np.exp([self.q_rate.eval()[0],self.q_concentration.eval()[0]])[::-1]),data.shape"
   ]
  },
  {
   "cell_type": "code",
   "execution_count": null,
   "metadata": {},
   "outputs": [],
   "source": [
    "[x.run() for x in inf.reset]\n",
    "n_iter = 1800\n",
    "inf.run(n_iter=n_iter)"
   ]
  },
  {
   "cell_type": "code",
   "execution_count": null,
   "metadata": {},
   "outputs": [],
   "source": [
    "            sigsq = self.q_scale_diag.eval()\n",
    "            sigsq = np.diag(self.q_scale_diag.eval()) + self.q_scale_perturb_factor.eval().T * self.q_scale_perturb_factor.eval()\n",
    "            sigsq = np.dot(sigsq,sigsq)\n",
    "# #             print (_, sigsq[0]/sigsq[1],sigsq)\n",
    "#             n_iter += 200\n",
    "#             [x.run() for x in inf.reset]\n",
    "#             inf.run(n_iter=n_iter)\n",
    "            for mat in [sigsq, np.linalg.inv(K)]:\n",
    "                print (pyutil.mat2str(np.diag(pyutil.detNorm(mat)),decimal=3))        "
   ]
  },
  {
   "cell_type": "code",
   "execution_count": null,
   "metadata": {},
   "outputs": [],
   "source": [
    "np.diag(qm.precision.eval())"
   ]
  },
  {
   "cell_type": "code",
   "execution_count": null,
   "metadata": {},
   "outputs": [],
   "source": [
    "\n",
    "qm = edm.sphereUniformLRP(\n",
    "    concentration = self.q_concentration,\n",
    "    rate = self.q_rate,\n",
    "    scale_diag =  self.q_scale_diag,\n",
    "    scale_perturb_factor = self.q_scale_perturb_factor,\n",
    "    sample_shape = len(data),\n",
    "\n",
    ")\n",
    "pyutil.detNorm(qm.precision.eval())\n",
    "\n",
    "q_mDist = edm.Gamma(\n",
    "#     concentration=concentration,\n",
    "    concentration=self.q_concentration,\n",
    "    rate=self.q_rate,\n",
    "    sample_shape=[N])\n",
    "\n",
    "\n",
    "dist = qm.kernelDist(X1).eval()\n",
    "# distn = dist/ np.std(dist)\n",
    "distn = dist\n",
    "count,xbin,_ = plt.hist(distn,100,normed=1);\n",
    "\n",
    "prob = q_mDist.prob(xbin).eval()\n",
    "plt.plot(xbin,prob)"
   ]
  },
  {
   "cell_type": "code",
   "execution_count": null,
   "metadata": {},
   "outputs": [],
   "source": [
    "np.log1p(np.exp([self.q_rate.eval()[0],self.q_concentration.eval()[0]])[::-1]),data.shape"
   ]
  },
  {
   "cell_type": "code",
   "execution_count": null,
   "metadata": {},
   "outputs": [],
   "source": [
    "dData = qm.kernelDist(data).eval()\n",
    "np.diag(qm.precision.eval())\n"
   ]
  },
  {
   "cell_type": "code",
   "execution_count": null,
   "metadata": {},
   "outputs": [],
   "source": [
    "# ??edm.GammaWithSoftplusConcentrationRate\n",
    "# ??tf.contrib.distributions.Gamma"
   ]
  },
  {
   "cell_type": "code",
   "execution_count": null,
   "metadata": {},
   "outputs": [],
   "source": [
    "i+=1\n",
    "name = 'test%d'%i\n",
    "try:\n",
    "    tf.get_variable(name+'/test',[1])\n",
    "    reuse = None\n",
    "except:\n",
    "    reuse = True\n",
    "print (reuse)\n",
    "# self = pyutil.util_obj()\n",
    "\n",
    "with tf.variable_scope(name, reuse=reuse):\n",
    "    concentration = edm.Uniform(sample_shape=(1,))\n",
    "#     concentration = edm.Deterministic(tf.log( tf.constant([D/2.]) - 1. ))\n",
    "    rate = edm.Uniform(sample_shape=(1,))\n",
    "#     mDist = edm.Gamma(\n",
    "# #         concentration =\n",
    "#     )\n",
    "    mDist = edm.GammaWithSoftplusConcentrationRate(\n",
    "        concentration=concentration,\n",
    "        rate=rate,\n",
    "        sample_shape=[N])\n",
    "#     edm.Deterministic\n",
    "    self.q_concentration  = edm.PointMass(\n",
    "        tf.get_variable('q_concentration',shape=[1])\n",
    "    )\n",
    "    self.q_rate  = edm.PointMass(\n",
    "        tf.get_variable('q_rate',shape=[1])\n",
    "    )\n",
    "\n",
    "    inf = ed.MAP({\n",
    "#             scale_diag:self.q_scale_diag,\n",
    "#               scale_perturb_factor:self.q_scale_perturb_factor,\n",
    "#             concentration:concentration,\n",
    "              concentration : self.q_concentration,\n",
    "              rate: self.q_rate,\n",
    "#               q_scale\n",
    "             },{\n",
    "#             m:data, \n",
    "                mDist :dData[:,None]})\n",
    "#                 mDist: tf.expand_dims(dData,axis=-1)})\n",
    "inf.run(n_iter=2000)"
   ]
  },
  {
   "cell_type": "code",
   "execution_count": null,
   "metadata": {},
   "outputs": [],
   "source": [
    "np.diag(qm.precision.eval())"
   ]
  },
  {
   "cell_type": "code",
   "execution_count": null,
   "metadata": {},
   "outputs": [],
   "source": [
    "self.q_concentration.eval()"
   ]
  },
  {
   "cell_type": "code",
   "execution_count": null,
   "metadata": {},
   "outputs": [],
   "source": [
    "q_mDist = edm.GammaWithSoftplusConcentrationRate(\n",
    "    concentration=self.q_concentration,\n",
    "#     concentration=concentration,\n",
    "    rate=self.q_rate,\n",
    "    sample_shape=[N])\n",
    "\n",
    "dist = dData\n",
    "# dist = qm.kernelDist(X1).eval()\n",
    "# distn = dist/ np.std(dist)\n",
    "distn = dist\n",
    "count,xbin,_ = plt.hist(distn,100,normed=1);\n",
    "\n",
    "prob = q_mDist.prob(xbin).eval()\n",
    "plt.plot(xbin,prob)"
   ]
  },
  {
   "cell_type": "code",
   "execution_count": null,
   "metadata": {},
   "outputs": [],
   "source": [
    "np.log1p(np.exp([self.q_rate.eval()[0],self.q_concentration.eval()[0]])[::-1]),data.shape"
   ]
  },
  {
   "cell_type": "code",
   "execution_count": null,
   "metadata": {},
   "outputs": [],
   "source": [
    "# nn.softplus??\n",
    "xs= np.linspace(-10,10,100)\n",
    "# ys = nn.softplus(xs).eval()\n",
    "ys = np.log(10+np.exp(xs))\n",
    "plt.plot(xs,ys)\n",
    "\n",
    "ys = np.log(1+np.exp(xs))\n",
    "plt.plot(xs,ys)\n",
    "\n",
    "ys = np.log(0.1+np.exp(xs))\n",
    "plt.plot(xs,ys)"
   ]
  },
  {
   "cell_type": "code",
   "execution_count": null,
   "metadata": {},
   "outputs": [],
   "source": [
    "data.shape"
   ]
  },
  {
   "cell_type": "code",
   "execution_count": null,
   "metadata": {},
   "outputs": [],
   "source": [
    "nn.softplus(tf.concat([self.q_concentration,self.q_rate],0)).eval() + 1"
   ]
  }
 ],
 "metadata": {
  "kernelspec": {
   "display_name": "Python 2",
   "language": "python",
   "name": "python2"
  },
  "language_info": {
   "codemirror_mode": {
    "name": "ipython",
    "version": 2
   },
   "file_extension": ".py",
   "mimetype": "text/x-python",
   "name": "python",
   "nbconvert_exporter": "python",
   "pygments_lexer": "ipython2",
   "version": "2.7.12"
  }
 },
 "nbformat": 4,
 "nbformat_minor": 2
}
