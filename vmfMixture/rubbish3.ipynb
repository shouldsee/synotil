{
 "cells": [
  {
   "cell_type": "code",
   "execution_count": 2,
   "metadata": {},
   "outputs": [
    {
     "name": "stdout",
     "output_type": "stream",
     "text": [
      "is in ipython: 1\n",
      "is in ipython: 1\n",
      "is in ipython: 1\n",
      "[WARN] pymisca.vis_util cannot find network\n",
      "[WARN] pymisca.vis_util cannot find network\n"
     ]
    }
   ],
   "source": [
    "import numpy as np\n",
    "import pymisca.util as pyutil;reload(pyutil)\n",
    "import pymisca.vis_util as pyvis;reload(pyvis)\n",
    "%matplotlib inline "
   ]
  },
  {
   "cell_type": "code",
   "execution_count": 1,
   "metadata": {},
   "outputs": [],
   "source": [
    "#### Adapted from: http://kyleclo.github.io/maximum-likelihood-in-tensorflow-pt-1/\n",
    "\n",
    "import numpy as np\n",
    "\n",
    "D = 2\n",
    "\n",
    "\n",
    "TRUE_MU = 0.0\n",
    "TRUE_SIGMA = 2.0\n",
    "SAMPLE_SIZE = (5000,D)\n",
    "\n",
    "np.random.seed(0)\n",
    "x_obs = np.random.normal(loc=TRUE_MU, scale=TRUE_SIGMA, size=SAMPLE_SIZE)\n",
    "rsq = np.square(x_obs).sum(axis=-1)\n",
    "keep = rsq > np.mean(rsq)\n",
    "x_obs = x_obs[keep]\n",
    "\n",
    "x_obs.T[0] = x_obs.T[0]*0.1\n",
    "\n",
    "# x_obs = np.square(x_obs)\n",
    "X = x_obs.astype(np.float32)"
   ]
  },
  {
   "cell_type": "code",
   "execution_count": null,
   "metadata": {},
   "outputs": [],
   "source": [
    "tloc = 0.\n",
    "def makeEMD( (mu,phi,sigma) ):\n",
    "    dist_rsq   = tfdist.Gamma(mu,phi)\n",
    "#     dist_rsq = tfbij.Invert(tfbij.Square()) (dist_r)\n",
    "\n",
    "    dist_Theta = tfdist.Normal(tloc, 1.,)\n",
    "    \n",
    "    dist_Theta = pytf.VonMisesFisherCosine(D=2,concentration = 3.)\n",
    "\n",
    "    dist_rsqTheta = mdl=  pytf.JointScalar(\n",
    "        [\n",
    "            tfdist.Gamma(mu,phi,name='r_squared'),\n",
    "            dist_Theta,\n",
    "        ])\n",
    "\n",
    "    #### Use a bijector to calculate P(x) from P(r^2)\n",
    "    dist_xyz = mdl = pytf.AsRadialTheta(distribution=mdl,D=D)\n",
    "    \n",
    "    ### Allow an affine transformation y = M x + x_0\n",
    "#     dist_aff = mdl = pytf.AffineTransformDiag(distribution=dist_xyz,\n",
    "#                                         scale_diag=sigma,)\n",
    "    # gaussian_dist = tf.contrib.distributions.Normal(loc=mu, scale=sigma)\n",
    "    # emission  = dist_rsq\n",
    "    return mdl\n",
    "# print em.distribution.event_shape\n",
    "em = makeEMD((2., 1.,2.))\n",
    "sess = tf.InteractiveSession()\n",
    "f = em.prob\n",
    "f = pyutil.wrapTFmethod(f)\n",
    "f = pyutil.arrayFunc2mgridFunc(f)\n",
    "\n",
    "with sess.as_default():\n",
    "    pyvis.dmet_2d(f,vectorised=1);\n",
    "    iY = em.bijector.inverse(X).eval()\n",
    "    pyvis.qc_2var(iY.T[0],iY.T[1])\n",
    "    pyutil.printlines(\n",
    "        ('\\int P(\\theta) P(r^2) \\partial x \\partial y',\n",
    "           pyutil.cubicRInt(f.arrayFunc,D=D,N=2000000,R=16.))\n",
    "    )\n",
    "\n",
    "    import scipy.stats as spstats\n",
    "    f = spstats.norm._pdf\n",
    "    pyutil.printlines(('\\int P(\\theta) \\partial \\theta',\n",
    "    pyutil.surfInt(lambda x:f(x-tloc))))\n",
    "\n"
   ]
  }
 ],
 "metadata": {
  "kernelspec": {
   "display_name": "Python 2",
   "language": "python",
   "name": "python2"
  },
  "language_info": {
   "codemirror_mode": {
    "name": "ipython",
    "version": 2
   },
   "file_extension": ".py",
   "mimetype": "text/x-python",
   "name": "python",
   "nbconvert_exporter": "python",
   "pygments_lexer": "ipython2",
   "version": "2.7.12"
  }
 },
 "nbformat": 4,
 "nbformat_minor": 2
}
