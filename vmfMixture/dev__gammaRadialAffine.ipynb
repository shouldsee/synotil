{
 "cells": [
  {
   "cell_type": "code",
   "execution_count": 2,
   "metadata": {},
   "outputs": [],
   "source": [
    "mi = 0"
   ]
  },
  {
   "cell_type": "code",
   "execution_count": 3,
   "metadata": {},
   "outputs": [],
   "source": [
    "# tfp.edward2"
   ]
  },
  {
   "cell_type": "code",
   "execution_count": 4,
   "metadata": {},
   "outputs": [],
   "source": [
    "# import tensorflow_probability as tfp\n",
    "# from tensorflow_probability import edward2 as ed\n",
    "# ed.as_random_variable??"
   ]
  },
  {
   "cell_type": "code",
   "execution_count": 5,
   "metadata": {},
   "outputs": [
    {
     "name": "stdout",
     "output_type": "stream",
     "text": [
      "is in ipython: 1\n",
      "is in ipython: 1\n",
      "[WARN] pymisca.vis_util cannot find network\n"
     ]
    },
    {
     "name": "stderr",
     "output_type": "stream",
     "text": [
      "/home/shouldsee/.local/lib/python2.7/site-packages/h5py/__init__.py:34: FutureWarning: Conversion of the second argument of issubdtype from `float` to `np.floating` is deprecated. In future, it will be treated as `np.float64 == np.dtype(float).type`.\n",
      "  from ._conv import register_converters as _register_converters\n"
     ]
    },
    {
     "name": "stdout",
     "output_type": "stream",
     "text": [
      "<class 'models.ModelA'> {'name': 'test'}\n",
      "<models.ModelA object at 0x7fed3ddfe910> {'name': 'test'}\n",
      "<class 'models.ModelA'> {'name': 'test'}\n",
      "<models.ModelA object at 0x7fed3de75fd0> {'name': 'test'}\n",
      "<class 'models.SunifLRP_VIMAP'> {'name': 'test1'}\n",
      "None\n"
     ]
    },
    {
     "data": {
      "text/plain": [
       "<models.SunifLRP_VIMAP at 0x7fed3de0ddd0>"
      ]
     },
     "execution_count": 5,
     "metadata": {},
     "output_type": "execute_result"
    }
   ],
   "source": [
    "import pymisca.vis_util as pyvis\n",
    "import pymisca.tensorflow_extra as pytf; reload(pytf)\n",
    "import models as mym; reload(mym)\n",
    "mi += 1\n",
    "D = 2\n",
    "m = mym.SunifLRP_VIMAP(name='test%d'%mi)\n",
    "m.init_model(D=D,K=5,)"
   ]
  },
  {
   "cell_type": "code",
   "execution_count": 6,
   "metadata": {},
   "outputs": [],
   "source": [
    "import numpy as np\n",
    "\n",
    "N = 5000\n",
    "D = 6\n",
    "K = scale = np.random.random(size=D)*3\n",
    "\n",
    "x = (np.random.random(size=(D,1)) -0.5) * 8\n",
    "K = np.diag(K) + x.T * x\n",
    "K  = np.linalg.inv(K)\n",
    "scale = K\n",
    "# scale = (1., 2.5)\n",
    "\n",
    "X1 = np.random.multivariate_normal((0,)*D, scale,size=5000)\n",
    "#     X1 = X1/np.linalg.norm(X1,axis=1,keepdims=1)\n",
    "X1 = X1.astype(np.float32)\n",
    "\n",
    "pyvis.qc_2var(X1.T[0],X1.T[1])\n",
    "pyvis.qc_2var(X1.T[1],X1.T[2])\n",
    "pyvis.qc_2var(X1.T[0],X1.T[2])\n",
    "data = X1"
   ]
  },
  {
   "cell_type": "code",
   "execution_count": 7,
   "metadata": {},
   "outputs": [],
   "source": [
    "import sunif_vimap;reload(sunif_vimap)\n",
    "_class = sunif_vimap.SunifLRP_VIMAP"
   ]
  },
  {
   "cell_type": "code",
   "execution_count": 26,
   "metadata": {},
   "outputs": [],
   "source": [
    "import gamma_radial_affine_lrp; reload(gamma_radial_affine_lrp)\n",
    "_class = gamma_radial_affine_lrp.GammaRadialAffineLRP_VIMAP"
   ]
  },
  {
   "cell_type": "code",
   "execution_count": 27,
   "metadata": {},
   "outputs": [
    {
     "name": "stdout",
     "output_type": "stream",
     "text": [
      "<class 'gamma_radial_affine_lrp.GammaRadialAffineLRP_VIMAP'> {'name': 'test5'}\n",
      "('reuse', None)\n",
      "('reuse', None)\n",
      "hiModel\n",
      "47996.246\n"
     ]
    }
   ],
   "source": [
    "# %%pdb\n",
    "mi += 1\n",
    "ncomp = 2\n",
    "# m = GammaRadialAffineLRP_VIMAP(name='test%d'%mi)\n",
    "m = _class(name='test%d'%mi)\n",
    "m.init_model(D=D,K=ncomp,)\n",
    "# %pdb 1\n",
    "m.fit(data,n_iter =0)\n",
    "\n",
    "print (m.inference.loss.eval())"
   ]
  },
  {
   "cell_type": "code",
   "execution_count": 12,
   "metadata": {},
   "outputs": [],
   "source": [
    "??m.inference.initialize"
   ]
  },
  {
   "cell_type": "code",
   "execution_count": 12,
   "metadata": {},
   "outputs": [
    {
     "data": {
      "text/plain": [
       "[(<tf.Tensor 'gradients/test2_1/Softplus_2_grad/SoftplusGrad:0' shape=(1,) dtype=float32>,\n",
       "  <tf.Variable 'test2/rate:0' shape=(1,) dtype=float32_ref>),\n",
       " (<tf.Tensor 'gradients/test2_1/Softplus_1_grad/SoftplusGrad:0' shape=(1,) dtype=float32>,\n",
       "  <tf.Variable 'test2/concentration:0' shape=(1,) dtype=float32_ref>),\n",
       " (<tf.Tensor 'gradients/test2_1/Reshape_grad/Reshape:0' shape=(1,) dtype=float32>,\n",
       "  <tf.Variable 'test2/q_pi:0' shape=(1,) dtype=float32_ref>)]"
      ]
     },
     "execution_count": 12,
     "metadata": {},
     "output_type": "execute_result"
    }
   ],
   "source": [
    "m.inference.grads"
   ]
  },
  {
   "cell_type": "code",
   "execution_count": 34,
   "metadata": {},
   "outputs": [
    {
     "data": {
      "text/plain": [
       "([<ed.RandomVariable 'Gamma_8/' shape=() dtype=float32>,\n",
       "  <ed.RandomVariable 'Gamma_9/' shape=() dtype=float32>,\n",
       "  <ed.RandomVariable 'inference_7/Mixture_7/' shape=(5000, 6) dtype=float32>,\n",
       "  <ed.RandomVariable 'Mixture_7/' shape=(5000, 6) dtype=float32>],\n",
       " [<ed.RandomVariable 'Gamma_9/' shape=() dtype=float32>,\n",
       "  <ed.RandomVariable 'Gamma_8/' shape=() dtype=float32>,\n",
       "  <ed.RandomVariable 'inference_7/Mixture_7/' shape=(5000, 6) dtype=float32>,\n",
       "  <ed.RandomVariable 'Mixture_7/' shape=(5000, 6) dtype=float32>])"
      ]
     },
     "execution_count": 34,
     "metadata": {},
     "output_type": "execute_result"
    }
   ],
   "source": [
    "import edward.util as edu\n",
    "m.prior.rate.get_children(),m.prior.concentration.get_children()"
   ]
  },
  {
   "cell_type": "code",
   "execution_count": 28,
   "metadata": {},
   "outputs": [
    {
     "data": {
      "text/plain": [
       "[[array([0., 0.], dtype=float32),\n",
       "  array([-1.0990103, -0.2532556], dtype=float32)],\n",
       " [array([0., 0.], dtype=float32),\n",
       "  array([-0.04443014, -0.5364765 ], dtype=float32)],\n",
       " [array([ 3635.1821, -3635.1824], dtype=float32),\n",
       "  array([ 1.009924  , -0.48970568], dtype=float32)]]"
      ]
     },
     "execution_count": 28,
     "metadata": {},
     "output_type": "execute_result"
    }
   ],
   "source": [
    "[[x.eval() for x in y ] for y in m.inference.grads]\n",
    "# m.inference.train.run()\n",
    "# m.inference.build_loss_and_gradients??"
   ]
  },
  {
   "cell_type": "code",
   "execution_count": 23,
   "metadata": {
    "scrolled": true
   },
   "outputs": [
    {
     "name": "stdout",
     "output_type": "stream",
     "text": [
      "hiModel\n",
      "3000/3000 [100%] ██████████████████████████████ Elapsed: 4s | Loss: inf\n"
     ]
    },
    {
     "data": {
      "text/plain": [
       "inf"
      ]
     },
     "execution_count": 23,
     "metadata": {},
     "output_type": "execute_result"
    }
   ],
   "source": [
    "# m = _class(name='test%d'%mi)\n",
    "# m.init_model(D=D,K=1,)\n",
    "m.fit(data , n_iter = 3000,n_print=50)\n",
    "m.inference.loss.eval()"
   ]
  },
  {
   "cell_type": "code",
   "execution_count": null,
   "metadata": {},
   "outputs": [],
   "source": [
    "a = m.components[0]\n",
    "# a.sample(10)\n",
    "# a.scale.shape\n",
    "a.sample(10)\n",
    "\n",
    "# a = m.x_post.components[0]\n",
    "# a.log_prob(data)()\n",
    "a.covariance().eval(),a.mean().eval()\n",
    "\n",
    "a.log_prob(data).eval()"
   ]
  },
  {
   "cell_type": "code",
   "execution_count": 39,
   "metadata": {},
   "outputs": [
    {
     "data": {
      "text/plain": [
       "array([[0.],\n",
       "       [0.],\n",
       "       [0.],\n",
       "       ...,\n",
       "       [0.],\n",
       "       [0.],\n",
       "       [0.]], dtype=float32)"
      ]
     },
     "execution_count": 39,
     "metadata": {},
     "output_type": "execute_result"
    }
   ],
   "source": [
    "# m.x_post.\n",
    "m.predict_proba(data,)"
   ]
  },
  {
   "cell_type": "code",
   "execution_count": null,
   "metadata": {},
   "outputs": [],
   "source": [
    "# m.fit(data,n_iter =10)\n",
    "\n",
    "# %pdb 0\n",
    "m.predict(data)"
   ]
  },
  {
   "cell_type": "code",
   "execution_count": null,
   "metadata": {},
   "outputs": [],
   "source": [
    "m.inference.loss.eval()"
   ]
  },
  {
   "cell_type": "code",
   "execution_count": null,
   "metadata": {},
   "outputs": [],
   "source": [
    "m.paramDict"
   ]
  },
  {
   "cell_type": "code",
   "execution_count": null,
   "metadata": {},
   "outputs": [],
   "source": []
  },
  {
   "cell_type": "code",
   "execution_count": null,
   "metadata": {},
   "outputs": [],
   "source": [
    "m.param_key"
   ]
  },
  {
   "cell_type": "code",
   "execution_count": null,
   "metadata": {},
   "outputs": [],
   "source": [
    "m.paramDict"
   ]
  },
  {
   "cell_type": "code",
   "execution_count": null,
   "metadata": {},
   "outputs": [],
   "source": [
    "m.predict_proba(data)"
   ]
  },
  {
   "cell_type": "code",
   "execution_count": null,
   "metadata": {},
   "outputs": [],
   "source": [
    "loss,gd = m.inference.build_loss_and_gradients(data)"
   ]
  },
  {
   "cell_type": "code",
   "execution_count": null,
   "metadata": {},
   "outputs": [],
   "source": [
    "# gd[0][1]\n",
    "m.inference.initialize()\n",
    "m.inference.train\n",
    "# loss.eval()"
   ]
  },
  {
   "cell_type": "code",
   "execution_count": 40,
   "metadata": {},
   "outputs": [
    {
     "name": "stdout",
     "output_type": "stream",
     "text": [
      "('loc', array([[ 3.9301969e-37, -5.4395678e-36, -1.1479374e-37, -2.8435444e-37,\n",
      "        -3.2504891e-37, -3.0752748e-37]], dtype=float32))\n",
      "('scale_perturb_factor', array([[[-0.02005112],\n",
      "        [-0.7893711 ],\n",
      "        [ 0.5368054 ],\n",
      "        [ 0.50268054],\n",
      "        [ 0.2682203 ],\n",
      "        [-0.6365943 ]]], dtype=float32))\n",
      "('scale_diag', array([[0.6313889 , 0.46837968, 0.3597648 , 1.1211302 , 1.0461136 ,\n",
      "        0.42922184]], dtype=float32))\n",
      "('weight', array([1.], dtype=float32))\n"
     ]
    }
   ],
   "source": [
    "for k,v in m.post.__dict__.items():\n",
    "    print(k,v.eval())"
   ]
  },
  {
   "cell_type": "code",
   "execution_count": 41,
   "metadata": {},
   "outputs": [
    {
     "name": "stdout",
     "output_type": "stream",
     "text": [
      "('loc', array([[-0.35587773, -1.5248173 ,  0.49760458,  1.6982158 ,  0.24277368,\n",
      "         0.7816836 ]], dtype=float32))\n",
      "('scale_perturb_factor', array([[[-59963.227],\n",
      "        [ 63699.75 ],\n",
      "        [ 95139.81 ],\n",
      "        [-52482.82 ],\n",
      "        [-83541.73 ],\n",
      "        [-43157.004]]], dtype=float32))\n",
      "('weight', array([1.], dtype=float32))\n",
      "('scale_diag', array([[44582.926, 61496.83 , 15752.412, 25852.158, 47204.695, 37811.184]],\n",
      "      dtype=float32))\n"
     ]
    }
   ],
   "source": [
    "for k,v in m.prior.__dict__.items():\n",
    "    print(k,v.eval())"
   ]
  },
  {
   "cell_type": "code",
   "execution_count": null,
   "metadata": {},
   "outputs": [],
   "source": [
    "for k,v in m.post.__dict__.items():\n",
    "    print(k,v.eval())"
   ]
  },
  {
   "cell_type": "code",
   "execution_count": null,
   "metadata": {},
   "outputs": [],
   "source": [
    "m.post.weight.eval()"
   ]
  },
  {
   "cell_type": "code",
   "execution_count": null,
   "metadata": {
    "scrolled": false
   },
   "outputs": [],
   "source": [
    "# m.predict_proba(data)\n",
    "m.postComponents[ 0 ].sample( 100).eval().shape"
   ]
  },
  {
   "cell_type": "code",
   "execution_count": null,
   "metadata": {},
   "outputs": [],
   "source": [
    "m.x_post.sample(1).eval()"
   ]
  }
 ],
 "metadata": {
  "kernelspec": {
   "display_name": "Python 2",
   "language": "python",
   "name": "python2"
  },
  "language_info": {
   "codemirror_mode": {
    "name": "ipython",
    "version": 2
   },
   "file_extension": ".py",
   "mimetype": "text/x-python",
   "name": "python",
   "nbconvert_exporter": "python",
   "pygments_lexer": "ipython2",
   "version": "2.7.12"
  }
 },
 "nbformat": 4,
 "nbformat_minor": 2
}
