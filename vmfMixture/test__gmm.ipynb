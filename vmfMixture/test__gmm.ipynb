{
 "cells": [
  {
   "cell_type": "code",
   "execution_count": 1,
   "metadata": {},
   "outputs": [
    {
     "name": "stderr",
     "output_type": "stream",
     "text": [
      "/home/shouldsee/.local/lib/python2.7/site-packages/h5py/__init__.py:34: FutureWarning: Conversion of the second argument of issubdtype from `float` to `np.floating` is deprecated. In future, it will be treated as `np.float64 == np.dtype(float).type`.\n",
      "  from ._conv import register_converters as _register_converters\n"
     ]
    },
    {
     "name": "stdout",
     "output_type": "stream",
     "text": [
      "[WARN]unable to import edward.models\n",
      "is in ipython: 1\n",
      "is in ipython: 1\n",
      "<class 'models.ModelA'> {'name': 'test'}\n",
      "<models.ModelA object at 0x7f2572f29310> {'name': 'test'}\n",
      "[WARN]unable to import edward.models\n",
      "<class 'models.ModelA'> {'name': 'test'}\n",
      "<models.ModelA object at 0x7f25395c9f50> {'name': 'test'}\n",
      "[WARN]unable to import edward.models\n",
      "[WARN] pymisca.vis_util cannot find network\n",
      "is in ipython: 1\n",
      "[WARN] pymisca.vis_util cannot find network\n",
      "<class 'models.ModelA'> {'name': 'test'}\n",
      "<models.ModelA object at 0x7f2538e48210> {'name': 'test'}\n",
      "[WARN]unable to import edward.models\n",
      "is in ipython: 1\n",
      "[WARN] pymisca.vis_util cannot find network\n",
      "<class 'models.ModelA'> {'name': 'test'}\n",
      "<models.ModelA object at 0x7f2538e394d0> {'name': 'test'}\n",
      "[WARN]unable to import edward.models\n",
      "is in ipython: 1\n",
      "[WARN] pymisca.vis_util cannot find network\n"
     ]
    },
    {
     "name": "stderr",
     "output_type": "stream",
     "text": [
      "/home/shouldsee/.local/lib/python2.7/site-packages/scipy/cluster/vq.py:78: RuntimeWarning: numpy.dtype size changed, may indicate binary incompatibility. Expected 96, got 88\n",
      "  from . import _vq\n",
      "/home/shouldsee/.local/lib/python2.7/site-packages/scipy/cluster/hierarchy.py:178: RuntimeWarning: numpy.dtype size changed, may indicate binary incompatibility. Expected 96, got 88\n",
      "  from . import _hierarchy, _optimal_leaf_ordering\n",
      "/home/shouldsee/.local/lib/python2.7/site-packages/scipy/cluster/hierarchy.py:178: RuntimeWarning: numpy.dtype size changed, may indicate binary incompatibility. Expected 96, got 88\n",
      "  from . import _hierarchy, _optimal_leaf_ordering\n"
     ]
    }
   ],
   "source": [
    "import models as mym;reload(mym)\n",
    "import pymisca.vis_util as pyvis\n",
    "import numpy as np\n",
    "import pymisca.util as pyutil; reload(pyutil)\n",
    "import pymisca.vis_util as pyvis; reload(pyvis)\n",
    "if pyutil.is_ipython():\n",
    "    %matplotlib inline\n",
    "    \n",
    "import tutil; reload(tutil)\n",
    "from tutil import *\n"
   ]
  },
  {
   "cell_type": "code",
   "execution_count": 2,
   "metadata": {},
   "outputs": [
    {
     "name": "stdout",
     "output_type": "stream",
     "text": [
      "<class 'models.GMM_VIMAP'> {'name': 'test'}\n",
      "None\n",
      "<models.GMM_VIMAP object at 0x7f2538e48310> {'pDict': {<ed.RandomVariable 'Normal/' shape=(20, 2) dtype=float32>: <tf.Variable 'test/qmu:0' shape=(20, 2) dtype=float32_ref>, <ed.RandomVariable 'InverseGamma/' shape=(20, 2) dtype=float32>: <tf.Tensor 'test/Softplus:0' shape=(20, 2) dtype=float32>, <ed.RandomVariable 'Dirichlet/' shape=(20,) dtype=float32>: <tf.Tensor 'test/Reshape_1:0' shape=(20,) dtype=float32>}, 'name': 'test', 'q_pi': <tf.Tensor 'test/Reshape_1:0' shape=(20,) dtype=float32>, 'K': 20, 'qmu': <tf.Variable 'test/qmu:0' shape=(20, 2) dtype=float32_ref>, 'N_post': None, 'emission': None, 'mu': <ed.RandomVariable 'Normal/' shape=(20, 2) dtype=float32>, 'prior': None, 'qsig': <tf.Tensor 'test/Softplus:0' shape=(20, 2) dtype=float32>, 'pi': <ed.RandomVariable 'Dirichlet/' shape=(20,) dtype=float32>, 'sigmasq': <ed.RandomVariable 'InverseGamma/' shape=(20, 2) dtype=float32>, 'D': 2}\n"
     ]
    },
    {
     "ename": "TypeError",
     "evalue": "_fit() got an unexpected keyword argument 'n_iter'",
     "output_type": "error",
     "traceback": [
      "\u001b[0;31m---------------------------------------------------------------------------\u001b[0m",
      "\u001b[0;31mTypeError\u001b[0m                                 Traceback (most recent call last)",
      "\u001b[0;32m<ipython-input-2-711bc85acd85>\u001b[0m in \u001b[0;36m<module>\u001b[0;34m()\u001b[0m\n\u001b[1;32m      2\u001b[0m \u001b[0;34m\u001b[0m\u001b[0m\n\u001b[1;32m      3\u001b[0m \u001b[0mX\u001b[0m \u001b[0;34m=\u001b[0m  \u001b[0mnp\u001b[0m\u001b[0;34m.\u001b[0m\u001b[0mrandom\u001b[0m\u001b[0;34m.\u001b[0m\u001b[0mrandom\u001b[0m\u001b[0;34m(\u001b[0m\u001b[0msize\u001b[0m\u001b[0;34m=\u001b[0m\u001b[0;34m(\u001b[0m\u001b[0;36m500\u001b[0m\u001b[0;34m,\u001b[0m\u001b[0;36m2\u001b[0m\u001b[0;34m)\u001b[0m\u001b[0;34m)\u001b[0m\u001b[0;34m\u001b[0m\u001b[0m\n\u001b[0;32m----> 4\u001b[0;31m \u001b[0mm\u001b[0m\u001b[0;34m.\u001b[0m\u001b[0mfit\u001b[0m\u001b[0;34m(\u001b[0m\u001b[0mX\u001b[0m\u001b[0;34m)\u001b[0m\u001b[0;34m\u001b[0m\u001b[0m\n\u001b[0m\u001b[1;32m      5\u001b[0m \u001b[0mplotModel\u001b[0m\u001b[0;34m(\u001b[0m\u001b[0mm\u001b[0m\u001b[0;34m,\u001b[0m\u001b[0mX\u001b[0m\u001b[0;34m)\u001b[0m\u001b[0;34m;\u001b[0m\u001b[0;34m\u001b[0m\u001b[0m\n\u001b[1;32m      6\u001b[0m \u001b[0mm_diag\u001b[0m \u001b[0;34m=\u001b[0m \u001b[0mm\u001b[0m\u001b[0;34m\u001b[0m\u001b[0m\n",
      "\u001b[0;32m/home/shouldsee/Documents/repos/BrachyPhoton/models.pyc\u001b[0m in \u001b[0;36mfit\u001b[0;34m(self, X, n_iter, n_print, **kwargs)\u001b[0m\n\u001b[1;32m     25\u001b[0m         \u001b[0mX\u001b[0m \u001b[0;34m=\u001b[0m \u001b[0mself\u001b[0m\u001b[0;34m.\u001b[0m\u001b[0msanitise\u001b[0m\u001b[0;34m(\u001b[0m\u001b[0mX\u001b[0m\u001b[0;34m)\u001b[0m\u001b[0;34m\u001b[0m\u001b[0m\n\u001b[1;32m     26\u001b[0m         self._fit(X,n_iter = n_iter,n_print = n_print,\n\u001b[0;32m---> 27\u001b[0;31m                   **kwargs)\n\u001b[0m\u001b[1;32m     28\u001b[0m         \u001b[0;32mpass\u001b[0m\u001b[0;34m\u001b[0m\u001b[0m\n\u001b[1;32m     29\u001b[0m \u001b[0;34m\u001b[0m\u001b[0m\n",
      "\u001b[0;31mTypeError\u001b[0m: _fit() got an unexpected keyword argument 'n_iter'"
     ]
    }
   ],
   "source": [
    "m = mym.GMM_VIMAP(D=2)\n",
    "\n",
    "X =  np.random.random(size=(500,2))\n",
    "m.fit(X)\n",
    "plotModel(m,X);\n",
    "m_diag = m\n",
    "\n"
   ]
  },
  {
   "cell_type": "code",
   "execution_count": null,
   "metadata": {},
   "outputs": [],
   "source": [
    "X = toyData(K=3)\n",
    "# print X.shape\n",
    "pyvis.qc_2var(X.T[0],X.T[1],)"
   ]
  },
  {
   "cell_type": "code",
   "execution_count": null,
   "metadata": {},
   "outputs": [],
   "source": [
    "\n",
    "m = mym.GMM_VIMAP(D=2,K=3,name='testB')\n",
    "m.fit(X)\n",
    "plotModel(m,X)\n"
   ]
  },
  {
   "cell_type": "code",
   "execution_count": null,
   "metadata": {},
   "outputs": [],
   "source": [
    "mi = 5\n",
    "m = mym.GMMLRP_VIMAP(name ='t%d'%mi,D=2,K=3).init_model()\n",
    "m.fit(X=X)\n",
    "plotModel(m,X)"
   ]
  },
  {
   "cell_type": "code",
   "execution_count": null,
   "metadata": {},
   "outputs": [],
   "source": [
    "mi = 6\n",
    "m = mym.GMMLRP_VIMAP(name ='t%d'%mi,D=2,K=5).init_model()\n",
    "m.fit(X=X)\n",
    "plotModel(m,X)"
   ]
  },
  {
   "cell_type": "code",
   "execution_count": null,
   "metadata": {},
   "outputs": [],
   "source": [
    "# np.sum(np.exp(logP),axis=1)\n",
    "# mym.tf.nn.log_softmax(logP,axis =1)\n",
    "logP = m.predict_proba(X)\n",
    "score = pyutil.logsumexp( logP, axis =1,keepdims=1)\n",
    "# logPcond = logP - score\n",
    "# logPcond = \n",
    "pyvis.heatmap(logP.T)\n",
    "pyutil.logsumexp(logP,axis=1,log=0)"
   ]
  },
  {
   "cell_type": "code",
   "execution_count": null,
   "metadata": {},
   "outputs": [],
   "source": [
    "# m.emission.\n",
    "if __name__=='__main__':\n",
    "    import sys\n",
    "    sys.exit(0) \n",
    "    "
   ]
  },
  {
   "cell_type": "code",
   "execution_count": null,
   "metadata": {},
   "outputs": [],
   "source": [
    "!jupyter nbconvert test__gmm.ipynb --to python"
   ]
  },
  {
   "cell_type": "code",
   "execution_count": null,
   "metadata": {},
   "outputs": [],
   "source": [
    "%%writefile tutil.py\n",
    "import models as mym;reload(mym)\n",
    "import pymisca.vis_util as pyvis\n",
    "import numpy as np\n",
    "import pymisca.util as pyutil; reload(pyutil)\n",
    "import pymisca.vis_util as pyvis; reload(pyvis)\n",
    "# if pyutil.is_ipython():\n",
    "#     %matplotlib inline\n",
    "def toyData(N0=500,pi=None,K=3,Cs=None,mus=None,D=2):\n",
    "    np.random.seed(10)\n",
    "#     D = 2\n",
    "    lst = []\n",
    "    if pi is not None:\n",
    "        idx = np.argsort(pi)[::-1]\n",
    "        K = len(pi)\n",
    "    for k in range(K):\n",
    "        \n",
    "        if pi is not None:\n",
    "            k = idx[k]\n",
    "            N = int(pi[k]*N0*K)\n",
    "        else:\n",
    "            N= N0\n",
    "        N = max(N,1)\n",
    "        \n",
    "        if Cs is not None:\n",
    "            C = Cs[k]\n",
    "        else:\n",
    "            C = pyutil.random_covmat(D=D)\n",
    "            \n",
    "        if mus is not None:\n",
    "            mu = mus[k]\n",
    "        else:\n",
    "            mu = (np.random.random(size = D) - 0.5)*5\n",
    "#         if pi is None:\n",
    "#         mu = (0,)*D\n",
    "        print mu,C,N\n",
    "        X = np.random.multivariate_normal(mu, C,size=N)\n",
    "        lst += [X]\n",
    "    X = np.vstack(lst)\n",
    "    return X\n",
    "\n",
    "def plotModel(m,X):\n",
    "    clu = m.predict(X)\n",
    "    print sorted(m.weights_)[::-1]\n",
    "    pyvis.qc_2var(X.T[0], X.T[1], clu=clu)\n",
    "\n",
    "\n",
    "    Y = toyData(Cs=   m.covariances_,\n",
    "                mus = m.means_,\n",
    "                pi  = m.weights_,\n",
    "                K=3)\n",
    "    pyvis.qc_2var(Y.T[0],Y.T[1],)\n",
    "    \n",
    "# if __name__!='__main__':\n",
    "#     exit()\n",
    "#     import sys\n",
    "#     sys.exit()\n",
    "  "
   ]
  },
  {
   "cell_type": "code",
   "execution_count": null,
   "metadata": {},
   "outputs": [],
   "source": [
    "# %matplotlib inline\n",
    "if 0 :\n",
    "    from __future__ import absolute_import\n",
    "    from __future__ import division\n",
    "    from __future__ import print_function\n",
    "\n",
    "    import edward as ed\n",
    "    import matplotlib.pyplot as plt\n",
    "    import matplotlib.cm as cm\n",
    "    import numpy as np\n",
    "    import six\n",
    "    import tensorflow as tf\n",
    "\n",
    "    from edward.models import (\n",
    "        Categorical, Dirichlet, Empirical, InverseGamma,\n",
    "        MultivariateNormalDiag, Normal, ParamMixture)\n",
    "\n",
    "    plt.style.use('ggplot')\n",
    "\n",
    "    def build_toy_dataset(N):\n",
    "        pi = np.array([0.4, 0.6])\n",
    "        mus = [[1, 1], [-1, -1]]\n",
    "        stds = [[0.1, 0.1], [0.1, 0.1]]\n",
    "        x = np.zeros((N, 2), dtype=np.float32)\n",
    "        for n in range(N):\n",
    "            k = np.argmax(np.random.multinomial(1, pi))\n",
    "            x[n, :] = np.random.multivariate_normal(mus[k], np.diag(stds[k]))\n",
    "\n",
    "        return x\n",
    "\n",
    "\n",
    "    N = 500  # number of data points\n",
    "    ed.set_seed(42)\n",
    "\n",
    "    x_train = build_toy_dataset(N)\n",
    "\n",
    "\n",
    "    plt.scatter(x_train[:, 0], x_train[:, 1])\n",
    "    plt.axis([-3, 3, -3, 3])\n",
    "    plt.title(\"Simulated dataset\")\n",
    "    plt.show()"
   ]
  },
  {
   "cell_type": "markdown",
   "metadata": {},
   "source": [
    "We will use the joint version in this analysis."
   ]
  }
 ],
 "metadata": {
  "anaconda-cloud": {},
  "kernelspec": {
   "display_name": "Python 2",
   "language": "python",
   "name": "python2"
  },
  "language_info": {
   "codemirror_mode": {
    "name": "ipython",
    "version": 2
   },
   "file_extension": ".py",
   "mimetype": "text/x-python",
   "name": "python",
   "nbconvert_exporter": "python",
   "pygments_lexer": "ipython2",
   "version": "2.7.12"
  }
 },
 "nbformat": 4,
 "nbformat_minor": 1
}
