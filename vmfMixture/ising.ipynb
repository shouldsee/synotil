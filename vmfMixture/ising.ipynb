{
 "cells": [
  {
   "cell_type": "code",
   "execution_count": 1,
   "metadata": {},
   "outputs": [
    {
     "name": "stdout",
     "output_type": "stream",
     "text": [
      "is in ipython: 1\n",
      "is in ipython: 1\n",
      "is in ipython: 1\n",
      "[WARN] pymisca.vis_util cannot find network\n",
      "[WARN] pymisca.vis_util cannot find network\n"
     ]
    }
   ],
   "source": [
    "import pymisca.util as pyutil; reload(pyutil)\n",
    "np = pyutil.np; plt = pyutil.plt; pd = pyutil.pd\n",
    "import pymisca.vis_util as pyvis; reload(pyvis)\n",
    "\n",
    "if pyutil.is_ipython:\n",
    "    ipy = get_ipython()\n",
    "    ipy.magic('matplotlib inline')"
   ]
  },
  {
   "cell_type": "code",
   "execution_count": 2,
   "metadata": {},
   "outputs": [
    {
     "data": {
      "text/plain": [
       "<matplotlib.image.AxesImage at 0x7f160a7a9c10>"
      ]
     },
     "execution_count": 2,
     "metadata": {},
     "output_type": "execute_result"
    },
    {
     "data": {
      "image/png": "[encoded data removed]",
      "text/plain": [
       "<matplotlib.figure.Figure at 0x7f160c835a50>"
      ]
     },
     "metadata": {},
     "output_type": "display_data"
    }
   ],
   "source": [
    "D = 30\n",
    "seed = 15\n",
    "np.random.seed(seed)\n",
    "\n",
    "def uniform(size=(D,1),seed=None,):\n",
    "    lab = np.random.randint(3,size=size)\n",
    "    return lab\n",
    "orig= lab = uniform()\n",
    "Adj = lab == lab.T\n",
    "pyvis.heatmap(Adj)"
   ]
  },
  {
   "cell_type": "code",
   "execution_count": 3,
   "metadata": {},
   "outputs": [],
   "source": [
    "# samp.shape\n",
    "# outer = samp.T[:,None] == samp.T[:,:,None]\n"
   ]
  },
  {
   "cell_type": "code",
   "execution_count": 4,
   "metadata": {},
   "outputs": [],
   "source": [
    "# isinstance(tf.convert_to_tensor(obs),tf.Tensor)"
   ]
  },
  {
   "cell_type": "code",
   "execution_count": 5,
   "metadata": {},
   "outputs": [],
   "source": [
    "def selfOuter(x):\n",
    "    x = np.ravel(x)\n",
    "    y = x[None]* x[:,None]\n",
    "    return y\n",
    "\n",
    "def make_energy_func(Amat0):\n",
    "    def energyF(obs,bkd=np):\n",
    "        if isinstance(obs,np.ndarray):\n",
    "            bkd= np\n",
    "            lastDim = bkd.shape(obs)[-1] \n",
    "        elif isinstance(obs,tf.Tensor):\n",
    "            bkd = tf\n",
    "            lastDim = obs._shape[-1]\n",
    "#         lastDim = bkd.shape(obs)[-1] \n",
    "        print (lastDim)\n",
    "        if lastDim== 1:\n",
    "            obsA = obs == bkd.transpose(obs)\n",
    "            Amat = Amat0\n",
    "        elif lastDim > 1:\n",
    "            samp = obs\n",
    "            obsA = bkd.transpose(samp)[:,None] == bkd.transpose(samp)[:,:,None]\n",
    "            Amat = Amat0[None]\n",
    "#         print (obsA.shape,Amat.shape)\n",
    "        E = (obsA-0.5) * (Amat-0.5)\n",
    "        if bkd is np:\n",
    "            E = -bkd.mean( E,axis=(-1,-2))\n",
    "            \n",
    "        return E\n",
    "    return energyF\n",
    "\n",
    "ef = make_energy_func(Adj)"
   ]
  },
  {
   "cell_type": "code",
   "execution_count": 6,
   "metadata": {
    "scrolled": false
   },
   "outputs": [
    {
     "name": "stdout",
     "output_type": "stream",
     "text": [
      "1\n",
      "('minE', -0.25)\n",
      "150000\n"
     ]
    },
    {
     "data": {
      "image/png": "[encoded data removed]",
      "text/plain": [
       "<matplotlib.figure.Figure at 0x7f160a792250>"
      ]
     },
     "metadata": {},
     "output_type": "display_data"
    }
   ],
   "source": [
    "ef = make_energy_func(Adj)\n",
    "samp = uniform(size=(D,150000))\n",
    "# ef(samp), ef(lab)\n",
    "minE = ef(orig)\n",
    "print ('minE',minE)\n",
    "E = ef(samp)\n",
    "assert np.min(E) >= minE\n",
    "\n",
    "plt.hist(E,30);"
   ]
  },
  {
   "cell_type": "code",
   "execution_count": 7,
   "metadata": {},
   "outputs": [
    {
     "name": "stdout",
     "output_type": "stream",
     "text": [
      "              total        used        free      shared  buff/cache   available\r\n",
      "Mem:           7.5G        1.5G        4.9G        344M        1.0G        5.3G\r\n",
      "Swap:          7.5G        1.7G        5.7G\r\n"
     ]
    }
   ],
   "source": [
    "!free -h "
   ]
  },
  {
   "cell_type": "markdown",
   "metadata": {},
   "source": [
    "# \n",
    "\n",
    "let E be the energy of the configuration $E=E(\\phi)$, the partition function is known to be \n",
    "\n",
    "$$\n",
    "Z = \\sum_i e^{-E_i}\n",
    "$$"
   ]
  },
  {
   "cell_type": "code",
   "execution_count": 8,
   "metadata": {},
   "outputs": [],
   "source": [
    "\n",
    "# out > 1 \n",
    "# np.ones "
   ]
  },
  {
   "cell_type": "code",
   "execution_count": 9,
   "metadata": {},
   "outputs": [
    {
     "name": "stdout",
     "output_type": "stream",
     "text": [
      "Counter({1: 1093, 2: 70, 3: 27, 5: 11, 4: 10, 6: 3, 7: 3, 14: 3, 8: 2, 9: 2, 16: 2, 32: 1, 74: 1, 44: 1, 15: 1, 85: 1, 33: 1, 59: 1, 37: 1, 65: 1})\n"
     ]
    }
   ],
   "source": [
    "invtemp = 110.0\n",
    "p = np.exp(-E * invtemp)\n",
    "p = p/p.sum()\n",
    "sumP = np.cumsum(p)\n",
    "# stick = sumP/sumP[-1]\n",
    "\n",
    "# import collections\n",
    "N =  2000\n",
    "idx = np.argmax(\n",
    "    np.random.random(size=(N,1))\n",
    "        <sumP[None],\n",
    "    axis=-1)\n",
    "out = pyutil.collections.Counter(idx).values()\n",
    "# out = np.random.multinomial(1000,p)\n",
    "# print (pyutil.collections.Counter(out))\n",
    "# idx = np.where(out>0)[0]\n",
    "\n",
    "print (pyutil.collections.Counter(out))\n",
    "\n",
    "npobs = obs = samp.T[idx]\n",
    "# obs.shape"
   ]
  },
  {
   "cell_type": "code",
   "execution_count": 10,
   "metadata": {},
   "outputs": [
    {
     "data": {
      "text/plain": [
       "<matplotlib.image.AxesImage at 0x7f160a7a9e90>"
      ]
     },
     "execution_count": 10,
     "metadata": {},
     "output_type": "execute_result"
    },
    {
     "data": {
      "image/png": "[encoded data removed]",
      "text/plain": [
       "<matplotlib.figure.Figure at 0x7f160a608e10>"
      ]
     },
     "metadata": {},
     "output_type": "display_data"
    }
   ],
   "source": [
    "ood = np.argsort(orig.ravel())\n",
    "\n",
    "pyvis.heatmap(orig[ood].T)"
   ]
  },
  {
   "cell_type": "code",
   "execution_count": 11,
   "metadata": {},
   "outputs": [
    {
     "data": {
      "text/plain": [
       "<matplotlib.image.AxesImage at 0x7f1607b04a90>"
      ]
     },
     "execution_count": 11,
     "metadata": {},
     "output_type": "execute_result"
    },
    {
     "data": {
      "image/png": "[encoded data removed]",
      "text/plain": [
       "<matplotlib.figure.Figure at 0x7f160a7a9fd0>"
      ]
     },
     "metadata": {},
     "output_type": "display_data"
    }
   ],
   "source": [
    "Eobs = E[idx]\n",
    "\n",
    "od = np.argsort(Eobs)\n",
    "\n",
    "Y = obs.T[ood].T[od[:800]]\n",
    "pyvis.heatmap(Y.T)"
   ]
  },
  {
   "cell_type": "code",
   "execution_count": 12,
   "metadata": {},
   "outputs": [],
   "source": [
    "# del samp"
   ]
  },
  {
   "cell_type": "code",
   "execution_count": null,
   "metadata": {},
   "outputs": [],
   "source": []
  },
  {
   "cell_type": "markdown",
   "metadata": {},
   "source": [
    "Assumes likelihood function \n",
    "\n",
    "$$\\begin{align}\n",
    "L &= p(X | M) = \\prod_i\\exp [-G(X_i | M)] \\\\\n",
    "\\log L &= \\sum_i \\log p(X|M)\\\\\n",
    "  &= \\sum_i -G(X_i|M)\n",
    "\\end{align}$$"
   ]
  },
  {
   "cell_type": "code",
   "execution_count": 13,
   "metadata": {},
   "outputs": [
    {
     "name": "stderr",
     "output_type": "stream",
     "text": [
      "/home/shouldsee/.local/lib/python2.7/site-packages/h5py/__init__.py:34: FutureWarning: Conversion of the second argument of issubdtype from `float` to `np.floating` is deprecated. In future, it will be treated as `np.float64 == np.dtype(float).type`.\n",
      "  from ._conv import register_converters as _register_converters\n"
     ]
    },
    {
     "name": "stdout",
     "output_type": "stream",
     "text": [
      "(?, 30)\n",
      "(?, 30, 30)\n"
     ]
    }
   ],
   "source": [
    "def ef_ts(obs):\n",
    "    obs = tf.convert_to_tensor(obs)\n",
    "    bkd = tf\n",
    "    ts = tf.equal((obs)[:,None] ,(obs)[:,:,None])\n",
    "    print ts.shape\n",
    "    ts = tf.cast(ts,dtype='float32')\n",
    "    esigma = tf.expand_dims(sigma,0)\n",
    "    ts = - ( ts - 0.5 )  * ( esigma - 0.5) \n",
    "    eng = tf.reduce_mean(ts,(-1,-2))\n",
    "    return eng\n",
    "\n",
    "import pymisca.tensorflow_extra as pytf\n",
    "import tensorflow as tf\n",
    "from tensorflow.python.ops import nn\n",
    "from tensorflow.python.ops import math_ops,array_ops\n",
    "\n",
    "# data\n",
    "x = tf.placeholder(dtype=tf.float32,shape=[None,D])\n",
    "print x.shape\n",
    "\n",
    "INIT_MU_PARAMS = {'loc': 0.0, 'scale': 0.1}\n",
    "INIT_PHI_PARAMS = {'loc': 1.0, 'scale': 0.1}\n",
    "RANDOM_SEED = 0\n",
    "\n",
    "# params\n",
    "\n",
    "# adj =  tf.Variable(initial_value=np.random.normal(**INIT_MU_PARAMS),\n",
    "#                  dtype=tf.float32)\n",
    "# np.random.seed(RANDOM_SEED)\n",
    "# mu = nn.softplus(tf.Variable(initial_value=np.random.normal(**INIT_MU_PARAMS),\n",
    "#                  dtype=tf.float32)\n",
    "#                 )\n",
    "# phi =nn.softplus( tf.Variable(initial_value=np.random.normal(**INIT_PHI_PARAMS),\n",
    "#                   dtype=tf.float32)\n",
    "#                 )\n",
    "D = len(orig)\n",
    "sigma = nn.sigmoid( tf.Variable(initial_value=np.random.normal(size=(D,D),\n",
    "                                                               **INIT_PHI_PARAMS),\n",
    "                  dtype=tf.float32)\n",
    "                )\n",
    "\n",
    "def makeEMD(mu,phi,sigma):\n",
    "    ''' Instantiate an emission distribution from parameters\n",
    "'''\n",
    "    \n",
    "    dist_rsq = tf.contrib.distributions.Gamma(concentration=mu,rate=phi)\n",
    "    dist_xyz = pytf.AsRadial(distribution=dist_rsq,D=D)\n",
    "    dist_aff = pytf.AffineTransformDiag(distribution=dist_xyz,\n",
    "                                        scale_diag=sigma,)\n",
    "    # gaussian_dist = tf.contrib.distributions.Normal(loc=mu, scale=sigma)\n",
    "    # emission  = dist_rsq\n",
    "    return dist_aff\n",
    "\n",
    "\n",
    "\n",
    "# ss = tf.expand_dims(sigma,0).shape\n",
    "\n",
    "# def energyT(x):\n",
    "\n",
    "# emission = makeEMD(mu,phi,sigma)\n",
    "# x_obs = obs\n",
    "log_prob = -ef_ts(x)\n",
    "# log_prob = emission.log_prob(value=x)\n",
    "\n",
    "neg_log_likelihood = -1.0 * tf.reduce_mean(log_prob)\n",
    "\n",
    "# gradient\n",
    "vars_list = [sigma]\n",
    "grad = tf.gradients(neg_log_likelihood, vars_list)"
   ]
  },
  {
   "cell_type": "code",
   "execution_count": 14,
   "metadata": {},
   "outputs": [
    {
     "name": "stdout",
     "output_type": "stream",
     "text": [
      "(10, -0.002946875)\n",
      "(20, -0.044069115)\n",
      "(30, -0.06955655)\n",
      "(40, -0.08076809)\n",
      "(50, -0.085462876)\n",
      "(60, -0.087667726)\n",
      "(70, -0.08886962)\n",
      "(80, -0.089618035)\n",
      "(90, -0.09013423)\n",
      "(100, -0.09051687)\n",
      "(110, -0.09081459)\n",
      "(120, -0.09105406)\n",
      "(130, -0.0912512)\n",
      "(140, -0.09141628)\n",
      "(150, -0.09155643)\n",
      "(160, -0.09167655)\n",
      "(170, -0.091780856)\n",
      "(180, -0.09187177)\n",
      "(190, -0.09195183)\n",
      "(200, -0.09202277)\n",
      "Max number of iterations reached without convergence.\n"
     ]
    }
   ],
   "source": [
    "x_obs = obs\n",
    "\n",
    "#### Adapted from: http://kyleclo.github.io/maximum-likelihood-in-tensorflow-pt-1/\n",
    "\n",
    "LEARNING_RATE = 0.1\n",
    "MAX_ITER = 200\n",
    "TOL_PARAM, TOL_LOSS, TOL_GRAD = 1e-8, 1e-8, 1e-8\n",
    "\n",
    "# optimizer\n",
    "# LEARNING_RATE = 1.\n",
    "optimizer = tf.train.AdamOptimizer(learning_rate=LEARNING_RATE)\n",
    "# optimizer = tf.train.AdadeltaOptimizer(learning_rate=LEARNING_RATE)\n",
    "train_op = optimizer.minimize(loss=neg_log_likelihood)\n",
    "\n",
    "with tf.Session() as sess:\n",
    "\t# initialize\n",
    "    sess.run(fetches=tf.global_variables_initializer())\n",
    "\n",
    "    i = 1\n",
    "    obs_vars = sess.run(fetches=[vars_list])\n",
    "    obs_loss = sess.run(fetches=[neg_log_likelihood], feed_dict={x: x_obs})\n",
    "    obs_grad = sess.run(fetches=[grad], feed_dict={x: x_obs})\n",
    "        \n",
    "    while True:\n",
    "        # gradient step\n",
    "        sess.run(fetches=train_op, feed_dict={x: x_obs})\n",
    "\n",
    "        # update parameters\n",
    "        new_vars = sess.run(fetches=vars_list)\n",
    "#         diff_norm = np.linalg.norm(np.subtract([new_mu, new_phi],\n",
    "#                                                [obs_mu[-1], obs_phi[-1]]))\n",
    "        # update loss\n",
    "        new_loss = sess.run(fetches=neg_log_likelihood, feed_dict={x: x_obs})\n",
    "        loss_diff = np.abs(new_loss - obs_loss[-1])\n",
    "\n",
    "        # update gradient\n",
    "        new_grad = sess.run(fetches=grad, feed_dict={x: x_obs})\n",
    "#         grad_norm = np.linalg.norm(np.hstack(map(np.ravel,new_grad)))\n",
    "        \n",
    "        obs_vars.append(new_vars)\n",
    "        obs_loss.append(new_loss)\n",
    "        obs_grad.append(new_grad)\n",
    "\n",
    "#         if diff_norm < TOL_PARAM:\n",
    "#             print('Parameter convergence in {} iterations!'.format(i))\n",
    "#             break\n",
    "\n",
    "        if loss_diff < TOL_LOSS:\n",
    "            print('Loss function convergence in {} iterations!'.format(i))\n",
    "            break\n",
    "\n",
    "#         if grad_norm < TOL_GRAD:\n",
    "#             print('Gradient convergence in {} iterations!'.format(i))\n",
    "#             break\n",
    "\n",
    "        if i >= MAX_ITER:\n",
    "            print('Max number of iterations reached without convergence.')\n",
    "            break\n",
    "\n",
    "        i += 1\n",
    "#         print (i)\n",
    "        \n",
    "        if not i%10:\n",
    "            print (i,new_loss)\n",
    "\n"
   ]
  },
  {
   "cell_type": "code",
   "execution_count": 15,
   "metadata": {},
   "outputs": [
    {
     "data": {
      "text/plain": [
       "array([0.96829138, 0.97368575, 0.97260448, ..., 0.93654701, 0.96185758,\n",
       "       0.96614201])"
      ]
     },
     "execution_count": 15,
     "metadata": {},
     "output_type": "execute_result"
    }
   ],
   "source": [
    "np.exp(E)"
   ]
  },
  {
   "cell_type": "code",
   "execution_count": 16,
   "metadata": {},
   "outputs": [
    {
     "data": {
      "text/plain": [
       "<matplotlib.image.AxesImage at 0x7f15eaff1a90>"
      ]
     },
     "execution_count": 16,
     "metadata": {},
     "output_type": "execute_result"
    },
    {
     "data": {
      "image/png": "[encoded data removed]",
      "text/plain": [
       "<matplotlib.figure.Figure at 0x7f160a73da10>"
      ]
     },
     "metadata": {},
     "output_type": "display_data"
    },
    {
     "data": {
      "image/png": "[encoded data removed]",
      "text/plain": [
       "<matplotlib.figure.Figure at 0x7f160a6a7e90>"
      ]
     },
     "metadata": {},
     "output_type": "display_data"
    }
   ],
   "source": [
    "osig = obs_vars[-1][-1]\n",
    "\n",
    "\n",
    "oorig = orig[ood]\n",
    "pyvis.heatmap(oorig.T == oorig)\n",
    "\n",
    "# obs_vars[-1][-1]\n",
    "\n",
    "pyvis.heatmap(osig[ood].T[ood])"
   ]
  },
  {
   "cell_type": "markdown",
   "metadata": {},
   "source": [
    "Conclusion: \n",
    "\n",
    "Variational inference of the network structure is possible if the samples were taken at a sufficiently low temperature (low $T$, high $\\beta$).\n",
    "\n",
    "Note that I am not including the partition function $Z$ in my loss here. But since partition function will be dominated by the most stable state, one can imagine to approximate it with some truncation. https://www.nature.com/articles/srep09050\n",
    "\n",
    "See also [stats352](statweb.stanford.edu/~jtaylo/courses/stats352/notes/ising.pdf) for a Bayesian introduction"
   ]
  },
  {
   "cell_type": "code",
   "execution_count": 17,
   "metadata": {},
   "outputs": [],
   "source": [
    "def sample(Amat):\n",
    "    '''Use thermodynamic tricks to do sampling. instead of pure MCMC\n",
    "'''\n",
    "    pass\n",
    "    "
   ]
  }
 ],
 "metadata": {
  "kernelspec": {
   "display_name": "Python 2",
   "language": "python",
   "name": "python2"
  },
  "language_info": {
   "codemirror_mode": {
    "name": "ipython",
    "version": 2
   },
   "file_extension": ".py",
   "mimetype": "text/x-python",
   "name": "python",
   "nbconvert_exporter": "python",
   "pygments_lexer": "ipython2",
   "version": "2.7.12"
  }
 },
 "nbformat": 4,
 "nbformat_minor": 2
}
