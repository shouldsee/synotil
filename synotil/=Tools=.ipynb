{
 "cells": [
  {
   "cell_type": "markdown",
   "metadata": {},
   "source": [
    "##### \"Entities are not to be multiplied without necessity\" ---- William of Ockham\n",
    "\n",
    "### Background: Why is this document important\n",
    "\n",
    "The quote above translate in to DRY (Don't Repeat Yourself, see this [blog](https://www.codementor.io/joshuaaroke/dry-code-vs-wet-code-89xjwv11w)) in programming, as opposed to WET (write everything twice). As I complained recklessly to Fu, many scripts have been written >2 times on the server, which can be very problematic when it comes to maintainence. For the sake of furture generation and personal development, I have created this document as a tutorial of managing dependency on a bash commandline. \n",
    "\n",
    "The central idea is to have a single authoratative copy of the utility/workhouse code that is re-used all the time. This utility should contain ONLY the logic w.r.t. the specific data structure (e.g. transcriptomics matrix, ChIP-Seq tracks), and NOT the variables (e.g.: species-dependent genome index, ). This way, we can reuse the same script for all species which would avoids loads of debugging and testing, hence speeding up the research.\n",
    "\n",
    "One of the major instrument to create DRY codes is OOP (object-oriented programming, see this [tutorial](https://python.swaroopch.com/oop.html) ), which is rather handy in dealing with abstract data structures. But this will be the topic of another document."
   ]
  },
  {
   "cell_type": "markdown",
   "metadata": {},
   "source": [
    "### Pipelines are written in the following languages:\n",
    "\n",
    "  1. bash\n",
    "    \n",
    "    1. utility scripts to be executed with \"source\" or \".\"\n",
    "\n",
    "        * e.g: `source /home/feng/repos/BrachyPhoton/util.sh`\n",
    "        \n",
    "    1. functional scripts to be exceuted with bash (omittable)\n",
    "      \n",
    "        * e.g: `(bash) /home/feng/repos/BrachyPhoton/pipeline_rnaseq/pipeline_mapper.sh --help`\n",
    "          \n",
    "  1. python2\n",
    "      \n",
    "    1. direct excutable functional scripts (omittable python2):\n",
    "         \n",
    "      * e.g: `(python2) preprocessor.py <path_to_fastq_folder>`\n",
    "    \n",
    "    1. Utility modules that can be imported once installed\n",
    "      \n",
    "      * e.g.:`python -c 'import pymisca.util as pyutil'`\n",
    "      \n",
    "      \n",
    "  1. others\n",
    "\n"
   ]
  },
  {
   "cell_type": "markdown",
   "metadata": {},
   "source": [
    "## Dependencies:\n",
    "\n",
    "### Python\n",
    "\n",
    "#### install\n",
    "\n",
    "To install a python package locally, say `matplotlib`, just do \n",
    "\n",
    "```sh\n",
    "pip install --user matplotlib\n",
    "\n",
    "### or specify the version explicitly\n",
    "pip2 install --user matplotlib\n",
    "```\n",
    "\n",
    "#### `pymisca` is Feng's python2 utilities\n",
    "\n",
    "  * There is a local copy on cluster at `/home/feng/repos/pymisca`, \n",
    "  \n",
    "  * Remote is hosted on http://github/shouldsee/pymisca but may lag behind\n",
    "  \n",
    "  * install simiarly with \n",
    "  \n",
    "  ```sh\n",
    "  pip install --user /home/feng/repos/pymisca\n",
    "  \n",
    "  ### Check properly installed\n",
    "  pip show pymisca\n",
    "  ```\n",
    "  \n",
    "\n",
    "### Bash \n",
    "\n",
    "* Bash utilites can be further defined to be strong-sense and weak-sense\n",
    "\n",
    "* Weak-sense utility is essentially a collection of bash functions\n",
    "\n",
    "* Strong-sense utilies is better sourced each time you use it due to its highly dynamic nature (e.g.: species genome inedx, pipeline to be run, etc.)\n",
    "\n",
    "#### Bash functions\n",
    "\n",
    "```sh\n",
    "function foo()\n",
    "{\n",
    "    echo Bar bar bar chip chip rnaseq > foo.bar\n",
    "    return 0\n",
    "}\n",
    "```\n",
    "\n",
    "these functions are called extensively in my functional bash scripts hence bash will need them defined before running. You can check whether a function `foo()` is defined with `type foo`. You will get an error if bash cannot find it:\n",
    "\n",
    "```sh\n",
    "bash: type: foo: not found\n",
    "```\n",
    "\n",
    "#### Weak-sense utility\n",
    "\n",
    "You can load a script of function definitions with \n",
    "\n",
    "```sh\n",
    "source /home/feng/repos/BrachyPhoton/util.sh\n",
    "## this variable contains the path of the util.sh\n",
    "echo $UTIL\n",
    "```\n",
    "you can ask  bash shell to load it every time you login by putting the command to  `$HOME/.bash_profile` . I found  `nanos` to be the simplest command-line editor for me but feel free to prefer vi/vim/emacs. e.g.\n",
    "\n",
    "```sh\n",
    "nanos $HOME/.bash_profile\n",
    "nanos ~/.bash_profile ### $HOME is synonymous to ~\n",
    "echo source /home/feng/repos/BrachyPhoton/util.sh >> ~/.bash_profile\n",
    "```\n",
    "\n",
    "#### Strong-sense utility, also known as \"environemnts\"\n",
    "\n",
    "Apart from functions, bash shell carry environment varibales with it, which can be listed with `env`. For specifically ones, do `echo $IDX_BOWTIE2 $BASH $FOO $BAR` etc.. An environment modifies some magic-variables like `$PATH  $LD_LIBRARY_PATH  $PYTHONPATH` so that bash knows where to find programs to use. \n",
    "\n",
    "Environments are currently listed in `/home/feng/envs`, to activate any of them, say \"ref\", do \n",
    "\n",
    "```sh\n",
    "source /home/feng/envs/ref/bin/activate\n",
    "\n",
    "### Magic variable to indicate currently environment loaded\n",
    "echo $ENVDIR\n",
    "```\n",
    "\n"
   ]
  },
  {
   "cell_type": "markdown",
   "metadata": {},
   "source": [
    "[html](=Tools=.html)"
   ]
  },
  {
   "cell_type": "code",
   "execution_count": 9,
   "metadata": {},
   "outputs": [
    {
     "name": "stdout",
     "output_type": "stream",
     "text": [
      "[NbConvertApp] Converting notebook =Tools=.ipynb to html\n",
      "[NbConvertApp] Writing 255097 bytes to =Tools=.html\n"
     ]
    }
   ],
   "source": [
    "! jupyter nbconvert --to html =Tools=.ipynb"
   ]
  }
 ],
 "metadata": {
  "kernelspec": {
   "display_name": "Python 2",
   "language": "python",
   "name": "python2"
  },
  "language_info": {
   "codemirror_mode": {
    "name": "ipython",
    "version": 2
   },
   "file_extension": ".py",
   "mimetype": "text/x-python",
   "name": "python",
   "nbconvert_exporter": "python",
   "pygments_lexer": "ipython2",
   "version": "2.7.12"
  }
 },
 "nbformat": 4,
 "nbformat_minor": 2
}
