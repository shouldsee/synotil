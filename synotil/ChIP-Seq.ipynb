{
 "cells": [
  {
   "cell_type": "markdown",
   "metadata": {},
   "source": [
    "- [ ] STEP 1: remove adaptors using Trim Galore (or you can use Trimmomatic like RNA-Seq)\n",
    "Package location: /home/hui/software/trim_galore_zip/./trim_galore OR /home/Program_NGS_sl-pw-srv01/Trimmomatic-0.32/trimmomatic-0.32.jar\n",
    "\n",
    "- [ ] STEP 2: FASTQC quality control\n",
    "Package location: fastqc\n",
    "\n",
    "- [ ] STEP 3: Map the reads to genome using BowTie2 (single end)\n",
    "Package location: bowtie\n",
    "Location of indexed genome: /home/ref_genew/Brachypodium_Bd21_v3.1/Bowtie2Index/Bdistachyon314_Bd\n",
    "Use the following options: --no-mixed, --no-discordant, --no-unal\n",
    "\n",
    "also, add this \"2>> align-summary.txt\" to the end of the command, to direct the BowTie2 output into a text file (which includes information about the mapping rate)\n",
    "\n",
    "- [ ] STEP 4: Convert the SAM alignment file to BAM\n",
    "Package location: samtools\n",
    "\n",
    "- [ ] STEP 5: sort the BAM file\n",
    "Package location: samtools\n",
    "\n",
    "- [ ] STEP 6: remove duplicate reads\n",
    "Package location: /home/Program_NGS_sl-pw-srv01/picard-tools-1.103/MarkDuplicates.jar\n",
    "\n",
    "- [ ] STEP 7: index the deduplicated BAM files\n",
    "Package location: samtools\n",
    "\n",
    "- [ ] STEP 8: flagstat to get quality metrics\n",
    "Package location: samtools\n",
    "\n",
    "- [ ] STEP 9: estimate genome average and normalise -- create a bedgraph file \n",
    "Package location: genomeCoverageBed\n",
    "\n",
    "- [ ] STEP 10: convert bedgraph to bigwig -- to be visualised in IGV\n",
    "Package location: bedGraphToBigWig\n",
    "\n",
    "\n",
    "Final output should encompass:\n",
    "\t1. [x] BAM file (after duplicate removal)\n",
    "\t2. [x] Its BAI file\n",
    "\t3. [x] BowTie2 align-summary.txt\n",
    "\t4. [x] BedGraph file\n",
    "\t5. [x] BigWig file\n",
    "\n",
    "Remainder files can be deleted to save space\n",
    "\n",
    "The BAM files will be used for peak calling with MACS2 (or whatever downstream package one prefers)"
   ]
  },
  {
   "cell_type": "markdown",
   "metadata": {},
   "source": [
    "```\n",
    "###ELF3-OX ZT4 SD: \n",
    "DIR=low1; rm -rf $DIR; mkdir -p $DIR; cd $DIR\n",
    "pipeline_chipseq.sh /home/fu/script_nextgen/brachypodium_feng/164CC_CHIP_618-53542500_1526473293/Bd-ELF3-FLAG_S19_R1_raw.fastq 4 &\n",
    "cd ..\n",
    "\n",
    "##input genomic DNA: \n",
    "DIR=low2; rm -rf $DIR; mkdir -p $DIR; cd $DIR\n",
    "pipeline_chipseq.sh /home/fu/script_nextgen/brachypodium_feng/175C_4_1526472841/INPUT-BD_S4_R1_raw.fastq 4 &\n",
    "cd .. \n",
    "```"
   ]
  },
  {
   "cell_type": "code",
   "execution_count": null,
   "metadata": {},
   "outputs": [],
   "source": [
    "###ELF3-OX ZT4 SD:\n",
    "DIR=low1\n",
    "rm -rf $DIR; mkdir -p $DIR; cd $DIR\n",
    "/home/fu/script_nextgen/brachypodium_feng/164CC_CHIP_618-53542500_1526473293/Bd-ELF3-FLAG_S19_R1_raw.fastq\n",
    "\n",
    "rm -rf low2\n",
    "mkdir -p low2\n",
    "cd low2\n",
    "##input genomic DNA: \n",
    "/home/fu/script_nextgen/brachypodium_feng/175C_4_1526472841/INPUT-BD_S4_R1_raw.fastq"
   ]
  }
 ],
 "metadata": {
  "kernelspec": {
   "display_name": "Python 2",
   "language": "python",
   "name": "python2"
  },
  "language_info": {
   "codemirror_mode": {
    "name": "ipython",
    "version": 2
   },
   "file_extension": ".py",
   "mimetype": "text/x-python",
   "name": "python",
   "nbconvert_exporter": "python",
   "pygments_lexer": "ipython2",
   "version": "2.7.12"
  }
 },
 "nbformat": 4,
 "nbformat_minor": 2
}
