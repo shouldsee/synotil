{
 "cells": [
  {
   "cell_type": "code",
   "execution_count": null,
   "metadata": {},
   "outputs": [],
   "source": [
    "# %load /home/feng/examples/1008__test__macs2.sh\n",
    "source /home/feng/envs/pipe/bin/activate\n",
    "\n",
    "### Download test Data\n",
    "bash test__data.sh\n",
    "\n",
    "### Configure $GSIZE and .../genome.fa\n",
    "source config_Ath_TAIR10.sh\n",
    "export CDS=/home/feng/ref/Arabidopsis_thaliana_TAIR10/Annotation/genes.gtf.cds\n",
    "\n",
    "### Run pipeline\n",
    "pipeline_macs2.sh test.bam -c test__input.bam\n",
    "\n",
    "####### OP1: per-chip operation\n",
    "### find peaks near a promoter using .gtf.cds\n",
    "### Help: filterByCDS.py -h\n",
    "filterByCDS.py test_peaks.narrowPeak -g $GSIZE -c $CDS\n",
    "\n",
    "### Using pandas for now, potentially reimplement using 'bedtools groupby'\n",
    "firstByKey.py type\\=closest_bed\\=test_peaks_radius\\=1_feat\\=genes.gtf.cds.tsv\n",
    "\n",
    "\n",
    "####### OP2: write a summary html\n",
    "### taking multiple .narrowPeak if desired\n",
    "### Help: chipSummary.py -h\n",
    "chipSummary.py --ref $CDS test_peaks.narrowPeak\n",
    "\n"
   ]
  },
  {
   "cell_type": "code",
   "execution_count": 1,
   "metadata": {},
   "outputs": [
    {
     "name": "stderr",
     "output_type": "stream",
     "text": [
      "is in ipython: 1 \n"
     ]
    },
    {
     "name": "stdout",
     "output_type": "stream",
     "text": [
      "[WARN] pymisca.vis_util cannot find network\n",
      "[WARN] Cannot find file:key.gene\n",
      "[WARN] pymisca.vis_util cannot find network\n"
     ]
    },
    {
     "name": "stderr",
     "output_type": "stream",
     "text": [
      "is in ipython: 1 \n"
     ]
    }
   ],
   "source": [
    "#!/usr/bin/env python2\n",
    "import matplotlib as mpl\n",
    "mpl.use('agg')\n",
    "import pymisca.util as pyutil\n",
    "import synotil.CountMatrix as scount\n",
    "# import synotil.PanelPlot as spanel\n",
    "import synotil.util as sutil\n",
    "import synotil.filterByCDS\n",
    "# spanel.plt.ioff()\n",
    "import time\n",
    "\n",
    "sutil.extract_peak??"
   ]
  },
  {
   "cell_type": "code",
   "execution_count": 19,
   "metadata": {},
   "outputs": [
    {
     "name": "stdout",
     "output_type": "stream",
     "text": [
      "Overwriting chipShot.py\n"
     ]
    }
   ],
   "source": [
    "%%writefile chipShot.py\n",
    "# %load chipShot.py\n",
    "#!/usr/bin/env python2\n",
    "import matplotlib as mpl\n",
    "mpl.use('agg')\n",
    "import pymisca.util as pyutil\n",
    "import synotil.CountMatrix as scount\n",
    "# import synotil.PanelPlot as spanel\n",
    "import synotil.util as sutil\n",
    "import synotil.filterByCDS\n",
    "import synotil.dio as sdio\n",
    "import synotil.jobs as sjob\n",
    "# spanel.plt.ioff()\n",
    "import time\n",
    "stderrLine = lambda x:pyutil.sys.stderr.write(x+'\\n')\n",
    "\n",
    "\n",
    "def query__gtf(gtf,accs):\n",
    "    val = gtf[gtf.columns[-1]]\n",
    "    qres = val.str.contains('|'.join(accs))\n",
    "    res =  gtf.reindex(gtf.index[qres])\n",
    "    return res\n",
    "\n",
    "def prepare_chipTrack(x,vlim = None,**kwargs):\n",
    "    ind  = x.columns\n",
    "    x.columns = x.columns.droplevel(0) \n",
    "    x.name = ind.levels[0][0]\n",
    "    y  = scount.countMatrix(x,look='fill',name = x.name,vlim=vlim,**kwargs) \n",
    "    \n",
    "    return y\n",
    "# reload(pybio)\n",
    "# reload(spanel)\n",
    "# figsize = \n",
    "# def worker__drawPeak(peakAcc,DIR=None,drawPeak=None):\n",
    "#     ofname = '%s/%s.svg'%(DIR,peakAcc)\n",
    "#     fig = drawPeak(peakAcc)\n",
    "#     fig.savefig(ofname)\n",
    "#     return ofname\n",
    "\n",
    "def worker__drawPeak(peakAcc,\n",
    "                     df_near, \n",
    "                     gtfs,\n",
    "                     chipTracks,\n",
    "                     radius,\n",
    "                     figsize=None,\n",
    "                     DIR=None,\n",
    "                     debug=0,\n",
    "                     ylim = None,\n",
    "                    ):\n",
    "    '''For parallel running'''\n",
    "    import synotil.PanelPlot as spanel\n",
    "#     def worker():\n",
    "    if 1:\n",
    "        df_feats = df_near.query('acc==\"%s\"'%peakAcc)\n",
    "        if df_feats.empty:\n",
    "            start = 0\n",
    "            end = radius * 2\n",
    "#             return None\n",
    "        else:\n",
    "            first = df_feats.iloc[0]\n",
    "            start= first.start - radius\n",
    "            end = first.end + radius\n",
    "\n",
    "        def prepare__gtf(gtf,):\n",
    "            if df_feats.empty:\n",
    "                return None\n",
    "            else:\n",
    "                gcurr = query__gtf(gtf, accs = df_feats.feat_acc.values)\n",
    "                #### shift to appropriate coordinate for gtf\n",
    "                gcurr[3]  += -start   \n",
    "                gcurr[4]  = gcurr[4] -start \n",
    "            #     gcurr = gcurr.reindex(gcurr.index[(gcurr[3]>0) & (gcurr[4]>0)])\n",
    "                gcurr = gcurr.reindex(gcurr.index[(gcurr[4]>0)])\n",
    "                return gcurr\n",
    "\n",
    "        tracks = chipTracks +[ x for x in map(prepare__gtf,gtfs) if x is not None]\n",
    "        if debug:\n",
    "            val = prepare__gtf(gtfs[0])\n",
    "            print('[GCURR]')\n",
    "            if val is None:\n",
    "                print (val)\n",
    "            else:\n",
    "                print(val.look)\n",
    "                print (pyutil.mat2str(val.values[:,:8]))\n",
    "        \n",
    "        # gcurr = gcurr.reindex(gcurr.index[(gcurr[3]>0) & (gcurr[4]>0)])\n",
    "        span = 2*radius\n",
    "        title = '''\\\n",
    "{peakAcc}\\nstart={start}  end={end}, span={span}\n",
    "ylim={ylim}\n",
    "'''.format(**locals())\n",
    "        ofname = '%s/%s.svg'%(DIR,peakAcc)\n",
    "        while True:\n",
    "            try:\n",
    "                pp = spanel.panelPlot(tracks ,\n",
    "                                      index=[peakAcc],\n",
    "                                      figsize=figsize,\n",
    "                                      debug=debug, \n",
    "                                      xlim = [0,radius * 2],\n",
    "                                      show_axa=False, \n",
    "            #                           vlim = ylim,\n",
    "                                         title=title)\n",
    "                fig = pp.render(silent=1);\n",
    "                fig.savefig(ofname)\n",
    "                break\n",
    "            except RuntimeError as e:\n",
    "                print ('[WARN] caught exception when plotting:%s'%e)\n",
    "                time.sleep(0.05)\n",
    "#         fig = pp.render(silent=1);\n",
    "\n",
    "        print('[MSG] plotting to: %s' % ofname)\n",
    "\n",
    "        return ofname\n",
    "    \n",
    "def worker__fluff(rec,):\n",
    "    rec = pyutil.util_obj(**rec)\n",
    "    DIR = getattr(rec,'DIR','.')\n",
    "    ext = getattr(rec,'ext','svg')\n",
    "    labels = getattr(rec,'labels',None)\n",
    "#     ofname  = rec.acc + '.svg'\n",
    "    ofname  = '%s/%s.%s' % (DIR,rec.acc,ext) \n",
    "    interval = rec.interval\n",
    "    tracks = rec.tracks\n",
    "    annotation = rec.annotation\n",
    "#             ofname   = bed.acc[i]  + '.svg'\n",
    "#             interval = bed.interval[i]\n",
    "    ofname   = sjob.fig__fluffProfile(\n",
    "                        interval,\n",
    "                        tracks, \n",
    "                        ofname = ofname,\n",
    "                        annotation = annotation,\n",
    "                        labels = labels)\n",
    "    return ofname        \n",
    "# worker = pyutil.functools.partial(sjob.fig__fluffyProfile,\n",
    "# #                                          interval = \n",
    "#                                  )            \n",
    "def main(\n",
    "    #### necessary\n",
    "    bedFile = None,\n",
    "    bwFiles = None,\n",
    "    ####  \n",
    "    DIR=None,\n",
    "    figsize=[14,14],\n",
    "    debug = 0,\n",
    "    ylim = [0,10],\n",
    "    radius = 2000,\n",
    "    stepSize = 10,\n",
    "    NCORE= 4,\n",
    "    silent = 0,\n",
    "    gtfFile = None,\n",
    "    cdsFile = None,\n",
    "    annotation = None,\n",
    "    GSIZE= None,\n",
    "    center_summit = 0,\n",
    "    trackNames = None,\n",
    "    backend = 'fluff',\n",
    "    ext = 'png',\n",
    "    **kwargs\n",
    "):\n",
    "#     vlim = ylim\n",
    "    figsize= map(int,figsize)\n",
    "    # for peakAcc in df_near.acc.unique()[:1]:   \n",
    "\n",
    "    prefix = 'PROG=chipShots_bedFile='\n",
    "#     bname  = pyutil.basename(bedFile)\n",
    "    bname = pyutil.os.path.basename(bedFile)\n",
    "    odname = prefix + bname \n",
    "    if DIR=='inplace':\n",
    "        DIR = pyutil.os.path.dirname(bedFile) + odname\n",
    "    elif DIR is None:\n",
    "        DIR = odname\n",
    "    pyutil.shellexec('mkdir -p %s' % DIR,silent=silent)\n",
    "    DIR = pyutil.os.path.abspath(DIR)\n",
    "#     odname = pyutil.ospath\n",
    "\n",
    "    if cdsFile is None:\n",
    "        cdsFile = gtfFile + '.cds'\n",
    "    if backend == 'synotil':\n",
    "        # nearFile = './DE2017/type=closest_bed=lux22_radius=1_feat=genes.gtf.cds.tsv'\n",
    "        # import synotil.filterByCDS\n",
    "        nearFile = synotil.filterByCDS.main(\n",
    "            peakFile=bedFile,\n",
    "            cdsFile=cdsFile,\n",
    "            downStream=radius,\n",
    "            upStream=radius,\n",
    "            peakRadius = 1,\n",
    "            GSIZE=GSIZE,\n",
    "            center_summit=center_summit,\n",
    "            )\n",
    "        df_near = pyutil.readData(nearFile,)\n",
    "\n",
    "        stderrLine('[MSG]Loading bed intervals from bigwig tracks....')\n",
    "\n",
    "        chipTracks = sutil.extract_bigwig_multiple(fnames=bwFiles,\n",
    "                                                  bedFile=bedFile,\n",
    "                                                  radius=radius,\n",
    "                                                  stepSize=stepSize,\n",
    "                                                   callback=None,\n",
    "                                                   outIndex=trackNames,\n",
    "\n",
    "    #                                               callback=callback,\n",
    "                                                   center_summit=center_summit,\n",
    "                                                   shift = 0, #### use positive coordinate\n",
    "                                                   stranded=False,\n",
    "                                                   NCORE=NCORE)\n",
    "        if ylim is None:\n",
    "            ylim = pyutil.span(pyutil.np.hstack([x.values.flat for x in chipTracks]),99)\n",
    "            ylim = list(ylim)\n",
    "            ylim[0] = 0.\n",
    "        callback = lambda x:[prepare_chipTrack(ele,\n",
    "                                               vlim=ylim) \n",
    "                             for ele in x] \n",
    "        chipTracks = callback(chipTracks)\n",
    "\n",
    "        if debug:\n",
    "            stderrLine(chipTracks[0].columns)\n",
    "\n",
    "        gtf = pyutil.readData(gtfFile,ext='tsv',header=None,guess_index=0)\n",
    "        gtf = scount.countMatrix(gtf,look='gtf')\n",
    "        gtfs= [gtf]\n",
    "\n",
    "\n",
    "    #     uniqPeak = df_near.acc.unique()\n",
    "    #     bedDF = pyutil.readData(bedFile,header=None,guess_index=0)\n",
    "    #     bedDF.columns = sutil.bedHeader[:len(bedDF.columns)]\n",
    "        bedDF = sutil.extract_peak(bedFile)\n",
    "    #     uniqPeak\n",
    "    #     uniqPeak = bedDF[bedDF.columns]\n",
    "\n",
    "        worker=  pyutil.functools.partial(worker__drawPeak, \n",
    "                                          DIR=DIR,\n",
    "                                          chipTracks = chipTracks,\n",
    "                                          df_near=df_near,\n",
    "                                          gtfs = gtfs,\n",
    "                                          radius = radius,\n",
    "                                          figsize=figsize,\n",
    "                                          ylim = ylim,\n",
    "                                          debug=debug,)\n",
    "\n",
    "        ofnames = pyutil.mp_map(worker, bedDF.acc, n_cpu=NCORE,)\n",
    "    elif backend=='fluff':\n",
    "        bedDF = sdio.extract_peak(bedFile)\n",
    "        \n",
    "        argDF = bedDF.copy()\n",
    "        argDF = sdio.bed__addCol__interval(argDF)\n",
    "        tracks = list(bwFiles)\n",
    "        argDF['tracks'] = [tracks ] * len(bedDF)\n",
    "        argDF['annotation'] = annotation\n",
    "        argDF['DIR'] = DIR\n",
    "        argDF['ext'] = ext\n",
    "        if trackNames is not None:\n",
    "            argDF['labels'] = [list(trackNames)]  * len(bedDF)\n",
    "            \n",
    "        ofnames = pyutil.mp_map(\n",
    "#         ofnames = map(\n",
    "            worker__fluff, \n",
    "            ( vars(x) for x in argDF.itertuples() ), \n",
    "            n_cpu=NCORE,\n",
    "         )\n",
    "#         ofnames = \n",
    "        \n",
    "    \n",
    "    bedDF['img'] = ofnames\n",
    "    indexFile = '%s/%s.index.tsv'%(DIR,bname)\n",
    "    pyutil.to_tsv(bedDF,indexFile)\n",
    "    indexFile = '%s/figureIndex.tsv'%(DIR)\n",
    "    pyutil.to_tsv(bedDF,indexFile)\n",
    "    \n",
    "    try:\n",
    "        import synotil.shot2html as shot2html\n",
    "        htmlFile = shot2html.shot2html(indexFile,localPath=True)\n",
    "    except Exception as e:\n",
    "        stderrLine ('[WARN]:cannot produce html :%s'%e)\n",
    "        htmlFile = None\n",
    "#     print ('[OUTPUT]:',)\n",
    "#     print ('html:',htmlFile)\n",
    "#     print ('index:',indexFile)\n",
    "    print (indexFile) \n",
    "    print (htmlFile)\n",
    "    return (indexFile,htmlFile)\n",
    "\n",
    "\n",
    "testDict = {\n",
    "    'bedFile': './DE2017/lux22_radius=1.tsv',\n",
    "    'bwFiles': ['/home/feng/envs/Fig_Brachy/DE2017/bw/122C/EC-1167_S5/EC-1167_S5_raw_bowtie2_TAIR10_ensembl_nomixed_sorted_rmdup_picard_genomenorm.bw',\n",
    "     '/home/feng/envs/Fig_Brachy/DE2017/bw/122C/EC-1167_S6/EC-1167_S6_raw_bowtie2_TAIR10_ensembl_nomixed_sorted_rmdup_picard_genomenorm.bw',\n",
    "     '/home/feng/envs/Fig_Brachy/DE2017/bw/122C/EC-1167_S7/EC-1167_S7_raw_bowtie2_TAIR10_ensembl_nomixed_sorted_rmdup_picard_genomenorm.bw',\n",
    "     '/home/feng/envs/Fig_Brachy/DE2017/bw/122C/EC-1167_S8/EC-1167_S8_raw_bowtie2_TAIR10_ensembl_nomixed_sorted_rmdup_picard_genomenorm.bw'],\n",
    "    'gtfFile': '/home/feng/ref/Arabidopsis_thaliana_TAIR10/annotation/genes.gtf',\n",
    "    'GSIZE': '/home/feng/ref/Arabidopsis_thaliana_TAIR10/genome.sizes',\n",
    "    'NCORE' :10,\n",
    "    'radius':2000,\n",
    "}\n",
    "\n",
    "\n",
    "import argparse\n",
    "\n",
    "parser= argparse.ArgumentParser()\n",
    "parser.add_argument('-v','--silent',default=0,type = int)\n",
    "\n",
    "parser.add_argument('-b','--bedFile',default=None,)\n",
    "parser.add_argument('bwFiles',nargs='+')\n",
    "parser.add_argument('-r','--radius',default=2000, type=int,)\n",
    "\n",
    "# parser.add_argument('-c','--cdsFile',default=pyutil.os.environ.get('GTF','none')+'.cds')\n",
    "parser.add_argument('-a','--gtfFile',\n",
    "                    default=pyutil.os.environ.get('GTF','none')+'.cds')\n",
    "parser.add_argument('-c','--cdsFile',\n",
    "                    default=None)\n",
    "\n",
    "parser.add_argument('-g','--GSIZE',\n",
    "                    default=pyutil.os.environ.get('GSIZE',None))\n",
    "parser.add_argument('-o','--DIR',default=None)\n",
    "parser.add_argument('-j','--NCORE',\n",
    "                    default=pyutil.os.environ.get(4,None),type=int)\n",
    "parser.add_argument('-s','--center_summit',\n",
    "                    default=0, type=int)\n",
    "parser.add_argument('-d','--debug',\n",
    "                    default=0, type=int)\n",
    "parser.add_argument('-f','--figsize',\n",
    "                    default=[14,14], type=int,nargs=2)\n",
    "# parser.add_argument('-y','--ylim',\n",
    "#                     default=[0., 10.], type=float,nargs=2)\n",
    "parser.add_argument('-y','--ylim',\n",
    "                    default=None, type=float,nargs=2)\n",
    "\n",
    "defaults = {act.dest:act.default for act in parser._actions}\n",
    "for key in ['bedFile','bwFiles']:\n",
    "    defaults.pop(key)\n",
    "\n",
    "main = pyutil.functools.partial(main,**defaults)\n",
    "# argparser\n",
    "if __name__=='__main__':\n",
    "    args = parser.parse_args()\n",
    "    pars = vars(args)\n",
    "    assert pars['bedFile'] is not None\n",
    "    print (pyutil.ppJson(pars))\n",
    "    main(**pars)\n",
    "    stderrLine('[Done]')"
   ]
  },
  {
   "cell_type": "code",
   "execution_count": 74,
   "metadata": {},
   "outputs": [
    {
     "name": "stdout",
     "output_type": "stream",
     "text": [
      "help ==SUPPRESS== <type 'str'>\n",
      "verbosilecentse 0 <type 'int'>\n",
      "bedFile None <type 'NoneType'>\n",
      "bwFiles None <type 'NoneType'>\n",
      "radius 2000 <type 'int'>\n",
      "gtfFile none.cds <type 'str'>\n",
      "cdsFile None <type 'NoneType'>\n",
      "GSIZE None <type 'NoneType'>\n",
      "DIR None <type 'NoneType'>\n",
      "NCORE None <type 'NoneType'>\n",
      "center_summit 0 <type 'int'>\n",
      "debug 0 <type 'int'>\n",
      "figsize [14, 14] <type 'list'>\n",
      "ylim None <type 'NoneType'>\n"
     ]
    }
   ],
   "source": [
    "for act in parser._actions:\n",
    "    print act.dest,act.default,type(act.default)"
   ]
  },
  {
   "cell_type": "code",
   "execution_count": 65,
   "metadata": {},
   "outputs": [
    {
     "name": "stderr",
     "output_type": "stream",
     "text": [
      "usage: ipykernel_launcher.py [-h] [-v VERBOSILECENTSE] [-b BEDFILE]\n",
      "                             [-r RADIUS] [-a GTFFILE] [-c CDSFILE] [-g GSIZE]\n",
      "                             [-o DIR] [-j NCORE] [-s CENTER_SUMMIT] [-d DEBUG]\n",
      "                             [-f FIGSIZE FIGSIZE] [-y YLIM YLIM]\n",
      "                             bwFiles [bwFiles ...]\n",
      "ipykernel_launcher.py: error: too few arguments\n"
     ]
    },
    {
     "ename": "SystemExit",
     "evalue": "2",
     "output_type": "error",
     "traceback": [
      "An exception has occurred, use %tb to see the full traceback.\n",
      "\u001b[0;31mSystemExit\u001b[0m\u001b[0;31m:\u001b[0m 2\n"
     ]
    }
   ],
   "source": [
    "args  =parser.parse_known_args('')[0]\n",
    "dict(args._get_kwargs())\n"
   ]
  },
  {
   "cell_type": "code",
   "execution_count": 22,
   "metadata": {},
   "outputs": [
    {
     "name": "stderr",
     "output_type": "stream",
     "text": [
      "usage: ipykernel_launcher.py [-h] [-v VERBOSILECENTSE] [-b BEDFILE]\n",
      "                             [-r RADIUS]\n",
      "                             bwFiles [bwFiles ...]\n",
      "ipykernel_launcher.py: error: too few arguments\n"
     ]
    },
    {
     "ename": "SystemExit",
     "evalue": "2",
     "output_type": "error",
     "traceback": [
      "An exception has occurred, use %tb to see the full traceback.\n",
      "\u001b[0;31mSystemExit\u001b[0m\u001b[0;31m:\u001b[0m 2\n"
     ]
    }
   ],
   "source": [
    "# parser.get_default()\n",
    "# parser.parse_args('')"
   ]
  },
  {
   "cell_type": "code",
   "execution_count": 62,
   "metadata": {},
   "outputs": [
    {
     "name": "stderr",
     "output_type": "stream",
     "text": [
      "is in ipython: 1 \n",
      "[WARN]No module named jinja2_util\n"
     ]
    },
    {
     "data": {
      "text/plain": [
       "_StoreAction(option_strings=['-y', '--ylim'], dest='ylim', nargs=2, const=None, default=None, type=<type 'float'>, choices=None, help=None, metavar=None)"
      ]
     },
     "execution_count": 62,
     "metadata": {},
     "output_type": "execute_result"
    }
   ],
   "source": [
    "\n",
    "import argparse\n",
    "\n",
    "import pymisca.util as pyutil\n",
    "parser= argparse.ArgumentParser()\n",
    "parser.add_argument('-v','--verbosilecentse',default=0,type = int)\n",
    "\n",
    "parser.add_argument('-b','--bedFile',default=None,)\n",
    "parser.add_argument('bwFiles',nargs='+')\n",
    "parser.add_argument('-r','--radius',default=2000, type=int,)\n",
    "\n",
    "# parser.add_argument('-c','--cdsFile',default=pyutil.os.environ.get('GTF','none')+'.cds')\n",
    "parser.add_argument('-a','--gtfFile',\n",
    "                    default=pyutil.os.environ.get('GTF','none')+'.cds')\n",
    "parser.add_argument('-c','--cdsFile',\n",
    "                    default=None)\n",
    "\n",
    "parser.add_argument('-g','--GSIZE',\n",
    "                    default=pyutil.os.environ.get('GSIZE',None))\n",
    "parser.add_argument('-o','--DIR',default=None)\n",
    "parser.add_argument('-j','--NCORE',\n",
    "                    default=pyutil.os.environ.get(4,None),type=int)\n",
    "parser.add_argument('-s','--center_summit',\n",
    "                    default=0, type=int)\n",
    "parser.add_argument('-d','--debug',\n",
    "                    default=0, type=int)\n",
    "parser.add_argument('-f','--figsize',\n",
    "                    default=[14,14], type=int,nargs=2)\n",
    "# parser.add_argument('-y','--ylim',\n",
    "#                     default=[0., 10.], type=float,nargs=2)\n",
    "parser.add_argument('-y','--ylim',\n",
    "                    default=None, type=float,nargs=2)"
   ]
  },
  {
   "cell_type": "code",
   "execution_count": null,
   "metadata": {},
   "outputs": [],
   "source": []
  },
  {
   "cell_type": "code",
   "execution_count": 49,
   "metadata": {},
   "outputs": [],
   "source": [
    "?synotil.filterByCDS.main"
   ]
  },
  {
   "cell_type": "code",
   "execution_count": 46,
   "metadata": {},
   "outputs": [
    {
     "name": "stdout",
     "output_type": "stream",
     "text": [
      "./chipShot.py -g /home/feng/ref/Arabidopsis_thaliana_TAIR10/genome.sizes -j 10 -a /home/feng/ref/Arabidopsis_thaliana_TAIR10/annotation/genes.gtf -b ./DE2017/lux22_radius=1.tsv -r 2000 /home/feng/envs/Fig_Brachy/DE2017/bw/122C/EC-1167_S5/EC-1167_S5_raw_bowtie2_TAIR10_ensembl_nomixed_sorted_rmdup_picard_genomenorm.bw /home/feng/envs/Fig_Brachy/DE2017/bw/122C/EC-1167_S6/EC-1167_S6_raw_bowtie2_TAIR10_ensembl_nomixed_sorted_rmdup_picard_genomenorm.bw /home/feng/envs/Fig_Brachy/DE2017/bw/122C/EC-1167_S7/EC-1167_S7_raw_bowtie2_TAIR10_ensembl_nomixed_sorted_rmdup_picard_genomenorm.bw /home/feng/envs/Fig_Brachy/DE2017/bw/122C/EC-1167_S8/EC-1167_S8_raw_bowtie2_TAIR10_ensembl_nomixed_sorted_rmdup_picard_genomenorm.bw\n",
      "\n",
      "CPU times: user 8 ms, sys: 0 ns, total: 8 ms\n",
      "Wall time: 8.53 ms\n"
     ]
    }
   ],
   "source": [
    "%%time\n",
    "import chipShot as mod;reload(mod)\n",
    "# mod = chipShot\n",
    "\n",
    "mod.testDict['bwFlat'] = ' '.join(mod.testDict['bwFiles'])\n",
    "cmd = '''./chipShot.py -g {GSIZE} -j {NCORE} -a {gtfFile} -b {bedFile} -r {radius} {bwFlat}\n",
    "'''.format(**mod.testDict)\n",
    "\n",
    "print cmd\n",
    "# ! {cmd}\n",
    "# pyutil.shellexec(cmd,)"
   ]
  },
  {
   "cell_type": "code",
   "execution_count": 61,
   "metadata": {},
   "outputs": [
    {
     "data": {
      "text/plain": [
       "{'GSIZE': '/home/feng/ref/Arabidopsis_thaliana_TAIR10/genome.sizes',\n",
       " 'NCORE': 10,\n",
       " 'bedFile': './DE2017/lux22_radius=1.tsv',\n",
       " 'bwFiles': ['/home/feng/envs/Fig_Brachy/DE2017/bw/122C/EC-1167_S5/EC-1167_S5_raw_bowtie2_TAIR10_ensembl_nomixed_sorted_rmdup_picard_genomenorm.bw',\n",
       "  '/home/feng/envs/Fig_Brachy/DE2017/bw/122C/EC-1167_S6/EC-1167_S6_raw_bowtie2_TAIR10_ensembl_nomixed_sorted_rmdup_picard_genomenorm.bw',\n",
       "  '/home/feng/envs/Fig_Brachy/DE2017/bw/122C/EC-1167_S7/EC-1167_S7_raw_bowtie2_TAIR10_ensembl_nomixed_sorted_rmdup_picard_genomenorm.bw',\n",
       "  '/home/feng/envs/Fig_Brachy/DE2017/bw/122C/EC-1167_S8/EC-1167_S8_raw_bowtie2_TAIR10_ensembl_nomixed_sorted_rmdup_picard_genomenorm.bw'],\n",
       " 'bwFlat': '/home/feng/envs/Fig_Brachy/DE2017/bw/122C/EC-1167_S5/EC-1167_S5_raw_bowtie2_TAIR10_ensembl_nomixed_sorted_rmdup_picard_genomenorm.bw /home/feng/envs/Fig_Brachy/DE2017/bw/122C/EC-1167_S6/EC-1167_S6_raw_bowtie2_TAIR10_ensembl_nomixed_sorted_rmdup_picard_genomenorm.bw /home/feng/envs/Fig_Brachy/DE2017/bw/122C/EC-1167_S7/EC-1167_S7_raw_bowtie2_TAIR10_ensembl_nomixed_sorted_rmdup_picard_genomenorm.bw /home/feng/envs/Fig_Brachy/DE2017/bw/122C/EC-1167_S8/EC-1167_S8_raw_bowtie2_TAIR10_ensembl_nomixed_sorted_rmdup_picard_genomenorm.bw',\n",
       " 'gtfFile': '/home/feng/ref/Arabidopsis_thaliana_TAIR10/annotation/genes.gtf',\n",
       " 'radius': 2000}"
      ]
     },
     "execution_count": 61,
     "metadata": {},
     "output_type": "execute_result"
    }
   ],
   "source": [
    "mod.testDict"
   ]
  },
  {
   "cell_type": "code",
   "execution_count": 69,
   "metadata": {},
   "outputs": [
    {
     "data": {
      "text/plain": [
       "<module 'synotil.filterByCDS' from '/home/feng/.local/lib/python2.7/site-packages/synotil/filterByCDS.pyc'>"
      ]
     },
     "execution_count": 69,
     "metadata": {},
     "output_type": "execute_result"
    }
   ],
   "source": [
    "reload(synotil.filterByCDS)"
   ]
  },
  {
   "cell_type": "code",
   "execution_count": 70,
   "metadata": {
    "scrolled": true
   },
   "outputs": [
    {
     "name": "stdout",
     "output_type": "stream",
     "text": [
      "Automatic pdb calling has been turned OFF\n",
      "mkdir -p PROG=chipShots_bedFile=lux22_radius=1.tsv\n"
     ]
    },
    {
     "name": "stderr",
     "output_type": "stream",
     "text": [
      "[tmp]:lux22_radius=1_radius=1.tsv,lc=42\n",
      "[output]:type=closest_bed=lux22_radius=1_radius=1_feat=genes.gtf.cds.tsv,lc=53\n"
     ]
    },
    {
     "name": "stdout",
     "output_type": "stream",
     "text": [
      "type=closest_bed=lux22_radius=1_radius=1_feat=genes.gtf.cds.tsv\n",
      "[MSG]Loading bed intervals from bigwig tracks....\n",
      "[L] 42\n"
     ]
    },
    {
     "ename": "PicklingError",
     "evalue": "Can't pickle <type 'function'>: attribute lookup __builtin__.function failed",
     "output_type": "error",
     "traceback": [
      "\u001b[0;31m\u001b[0m",
      "\u001b[0;31mPicklingError\u001b[0mTraceback (most recent call last)",
      "\u001b[0;32m<ipython-input-70-d9934b2504f5>\u001b[0m in \u001b[0;36m<module>\u001b[0;34m()\u001b[0m\n\u001b[0;32m----> 1\u001b[0;31m \u001b[0mget_ipython\u001b[0m\u001b[0;34m(\u001b[0m\u001b[0;34m)\u001b[0m\u001b[0;34m.\u001b[0m\u001b[0mrun_cell_magic\u001b[0m\u001b[0;34m(\u001b[0m\u001b[0;34mu'time'\u001b[0m\u001b[0;34m,\u001b[0m \u001b[0;34mu''\u001b[0m\u001b[0;34m,\u001b[0m \u001b[0;34mu\"%pdb 0\\n\\nimport chipShot as mod;reload(mod)\\n# mod = chipShot\\nmod.testDict['NCORE'] = 3\\nindexFile = mod.main(**mod.testDict)\\nprint 'Done'\\n!head {indexFile}\"\u001b[0m\u001b[0;34m)\u001b[0m\u001b[0;34m\u001b[0m\u001b[0m\n\u001b[0m",
      "\u001b[0;32m/home/feng/.local/lib/python2.7/site-packages/IPython/core/interactiveshell.pyc\u001b[0m in \u001b[0;36mrun_cell_magic\u001b[0;34m(self, magic_name, line, cell)\u001b[0m\n\u001b[1;32m   2115\u001b[0m             \u001b[0mmagic_arg_s\u001b[0m \u001b[0;34m=\u001b[0m \u001b[0mself\u001b[0m\u001b[0;34m.\u001b[0m\u001b[0mvar_expand\u001b[0m\u001b[0;34m(\u001b[0m\u001b[0mline\u001b[0m\u001b[0;34m,\u001b[0m \u001b[0mstack_depth\u001b[0m\u001b[0;34m)\u001b[0m\u001b[0;34m\u001b[0m\u001b[0m\n\u001b[1;32m   2116\u001b[0m             \u001b[0;32mwith\u001b[0m \u001b[0mself\u001b[0m\u001b[0;34m.\u001b[0m\u001b[0mbuiltin_trap\u001b[0m\u001b[0;34m:\u001b[0m\u001b[0;34m\u001b[0m\u001b[0m\n\u001b[0;32m-> 2117\u001b[0;31m                 \u001b[0mresult\u001b[0m \u001b[0;34m=\u001b[0m \u001b[0mfn\u001b[0m\u001b[0;34m(\u001b[0m\u001b[0mmagic_arg_s\u001b[0m\u001b[0;34m,\u001b[0m \u001b[0mcell\u001b[0m\u001b[0;34m)\u001b[0m\u001b[0;34m\u001b[0m\u001b[0m\n\u001b[0m\u001b[1;32m   2118\u001b[0m             \u001b[0;32mreturn\u001b[0m \u001b[0mresult\u001b[0m\u001b[0;34m\u001b[0m\u001b[0m\n\u001b[1;32m   2119\u001b[0m \u001b[0;34m\u001b[0m\u001b[0m\n",
      "\u001b[0;32m<decorator-gen-60>\u001b[0m in \u001b[0;36mtime\u001b[0;34m(self, line, cell, local_ns)\u001b[0m\n",
      "\u001b[0;32m/home/feng/.local/lib/python2.7/site-packages/IPython/core/magic.pyc\u001b[0m in \u001b[0;36m<lambda>\u001b[0;34m(f, *a, **k)\u001b[0m\n\u001b[1;32m    186\u001b[0m     \u001b[0;31m# but it's overkill for just that one bit of state.\u001b[0m\u001b[0;34m\u001b[0m\u001b[0;34m\u001b[0m\u001b[0m\n\u001b[1;32m    187\u001b[0m     \u001b[0;32mdef\u001b[0m \u001b[0mmagic_deco\u001b[0m\u001b[0;34m(\u001b[0m\u001b[0marg\u001b[0m\u001b[0;34m)\u001b[0m\u001b[0;34m:\u001b[0m\u001b[0;34m\u001b[0m\u001b[0m\n\u001b[0;32m--> 188\u001b[0;31m         \u001b[0mcall\u001b[0m \u001b[0;34m=\u001b[0m \u001b[0;32mlambda\u001b[0m \u001b[0mf\u001b[0m\u001b[0;34m,\u001b[0m \u001b[0;34m*\u001b[0m\u001b[0ma\u001b[0m\u001b[0;34m,\u001b[0m \u001b[0;34m**\u001b[0m\u001b[0mk\u001b[0m\u001b[0;34m:\u001b[0m \u001b[0mf\u001b[0m\u001b[0;34m(\u001b[0m\u001b[0;34m*\u001b[0m\u001b[0ma\u001b[0m\u001b[0;34m,\u001b[0m \u001b[0;34m**\u001b[0m\u001b[0mk\u001b[0m\u001b[0;34m)\u001b[0m\u001b[0;34m\u001b[0m\u001b[0m\n\u001b[0m\u001b[1;32m    189\u001b[0m \u001b[0;34m\u001b[0m\u001b[0m\n\u001b[1;32m    190\u001b[0m         \u001b[0;32mif\u001b[0m \u001b[0mcallable\u001b[0m\u001b[0;34m(\u001b[0m\u001b[0marg\u001b[0m\u001b[0;34m)\u001b[0m\u001b[0;34m:\u001b[0m\u001b[0;34m\u001b[0m\u001b[0m\n",
      "\u001b[0;32m/home/feng/.local/lib/python2.7/site-packages/IPython/core/magics/execution.pyc\u001b[0m in \u001b[0;36mtime\u001b[0;34m(self, line, cell, local_ns)\u001b[0m\n\u001b[1;32m   1191\u001b[0m         \u001b[0;32melse\u001b[0m\u001b[0;34m:\u001b[0m\u001b[0;34m\u001b[0m\u001b[0m\n\u001b[1;32m   1192\u001b[0m             \u001b[0mst\u001b[0m \u001b[0;34m=\u001b[0m \u001b[0mclock2\u001b[0m\u001b[0;34m(\u001b[0m\u001b[0;34m)\u001b[0m\u001b[0;34m\u001b[0m\u001b[0m\n\u001b[0;32m-> 1193\u001b[0;31m             \u001b[0;32mexec\u001b[0m\u001b[0;34m(\u001b[0m\u001b[0mcode\u001b[0m\u001b[0;34m,\u001b[0m \u001b[0mglob\u001b[0m\u001b[0;34m,\u001b[0m \u001b[0mlocal_ns\u001b[0m\u001b[0;34m)\u001b[0m\u001b[0;34m\u001b[0m\u001b[0m\n\u001b[0m\u001b[1;32m   1194\u001b[0m             \u001b[0mend\u001b[0m \u001b[0;34m=\u001b[0m \u001b[0mclock2\u001b[0m\u001b[0;34m(\u001b[0m\u001b[0;34m)\u001b[0m\u001b[0;34m\u001b[0m\u001b[0m\n\u001b[1;32m   1195\u001b[0m             \u001b[0mout\u001b[0m \u001b[0;34m=\u001b[0m \u001b[0mNone\u001b[0m\u001b[0;34m\u001b[0m\u001b[0m\n",
      "\u001b[0;32m<timed exec>\u001b[0m in \u001b[0;36m<module>\u001b[0;34m()\u001b[0m\n",
      "\u001b[0;32m/home/feng/envs/Fig_Brachy/chipShot.pyc\u001b[0m in \u001b[0;36mmain\u001b[0;34m(bedFile, bwFiles, DIR, figsize, debug, vlim, radius, stepSize, NCORE, silent, gtfFile, cdsFile, GSIZE, center_summit, **kwargs)\u001b[0m\n\u001b[1;32m    160\u001b[0m                                               \u001b[0mcallback\u001b[0m\u001b[0;34m=\u001b[0m\u001b[0mcallback\u001b[0m\u001b[0;34m,\u001b[0m\u001b[0;34m\u001b[0m\u001b[0m\n\u001b[1;32m    161\u001b[0m                                                \u001b[0mcenter_summit\u001b[0m\u001b[0;34m=\u001b[0m\u001b[0mcenter_summit\u001b[0m\u001b[0;34m,\u001b[0m\u001b[0;34m\u001b[0m\u001b[0m\n\u001b[0;32m--> 162\u001b[0;31m                                                NCORE=NCORE)\n\u001b[0m\u001b[1;32m    163\u001b[0m \u001b[0;34m\u001b[0m\u001b[0m\n\u001b[1;32m    164\u001b[0m     \u001b[0mgtf\u001b[0m \u001b[0;34m=\u001b[0m \u001b[0mpyutil\u001b[0m\u001b[0;34m.\u001b[0m\u001b[0mreadData\u001b[0m\u001b[0;34m(\u001b[0m\u001b[0mgtfFile\u001b[0m\u001b[0;34m,\u001b[0m\u001b[0mext\u001b[0m\u001b[0;34m=\u001b[0m\u001b[0;34m'tsv'\u001b[0m\u001b[0;34m,\u001b[0m\u001b[0mheader\u001b[0m\u001b[0;34m=\u001b[0m\u001b[0mNone\u001b[0m\u001b[0;34m,\u001b[0m\u001b[0mguess_index\u001b[0m\u001b[0;34m=\u001b[0m\u001b[0;36m0\u001b[0m\u001b[0;34m)\u001b[0m\u001b[0;34m\u001b[0m\u001b[0m\n",
      "\u001b[0;32m/home/feng/.local/lib/python2.7/site-packages/synotil/util.pyc\u001b[0m in \u001b[0;36mextract_bigwig_multiple\u001b[0;34m(bedFile, fnames, radius, callback, NCORE, stepSize, outIndex, center_summit, **kwargs)\u001b[0m\n\u001b[1;32m   1522\u001b[0m         \u001b[0mbedFile\u001b[0m\u001b[0;34m=\u001b[0m\u001b[0mbedFile\u001b[0m\u001b[0;34m,\u001b[0m\u001b[0;34m\u001b[0m\u001b[0m\n\u001b[1;32m   1523\u001b[0m         outIndex=outIndex,**kwargs) \n\u001b[0;32m-> 1524\u001b[0;31m     \u001b[0mbws\u001b[0m \u001b[0;34m=\u001b[0m \u001b[0mpyutil\u001b[0m\u001b[0;34m.\u001b[0m\u001b[0mmp_map\u001b[0m\u001b[0;34m(\u001b[0m\u001b[0mworker\u001b[0m\u001b[0;34m,\u001b[0m \u001b[0mfnames\u001b[0m\u001b[0;34m,\u001b[0m \u001b[0mn_cpu\u001b[0m \u001b[0;34m=\u001b[0m \u001b[0mNCORE\u001b[0m\u001b[0;34m)\u001b[0m\u001b[0;34m\u001b[0m\u001b[0m\n\u001b[0m\u001b[1;32m   1525\u001b[0m \u001b[0;31m#     bws = [ for fname in fnames]\u001b[0m\u001b[0;34m\u001b[0m\u001b[0;34m\u001b[0m\u001b[0m\n\u001b[1;32m   1526\u001b[0m     \u001b[0mdfc\u001b[0m \u001b[0;34m=\u001b[0m  \u001b[0mbws\u001b[0m\u001b[0;34m\u001b[0m\u001b[0m\n",
      "\u001b[0;32m/home/feng/.local/lib/python2.7/site-packages/pymisca/util.pyc\u001b[0m in \u001b[0;36mmp_map\u001b[0;34m(f, lst, n_cpu, chunksize, callback, **kwargs)\u001b[0m\n\u001b[1;32m    583\u001b[0m         OUTPUT=p.map_async(f,lst, chunksize=chunksize, \n\u001b[1;32m    584\u001b[0m \u001b[0;31m#                            kwds = kwds,\u001b[0m\u001b[0;34m\u001b[0m\u001b[0;34m\u001b[0m\u001b[0m\n\u001b[0;32m--> 585\u001b[0;31m                            callback = callback).get(999999999999999999) ## appx. 7.6E11 years\n\u001b[0m\u001b[1;32m    586\u001b[0m \u001b[0;31m#         OUTPUT = p.map(f,lst)\u001b[0m\u001b[0;34m\u001b[0m\u001b[0;34m\u001b[0m\u001b[0m\n\u001b[1;32m    587\u001b[0m         \u001b[0mp\u001b[0m\u001b[0;34m.\u001b[0m\u001b[0mclose\u001b[0m\u001b[0;34m(\u001b[0m\u001b[0;34m)\u001b[0m\u001b[0;34m\u001b[0m\u001b[0m\n",
      "\u001b[0;32m/usr/lib/python2.7/multiprocessing/pool.pyc\u001b[0m in \u001b[0;36mget\u001b[0;34m(self, timeout)\u001b[0m\n\u001b[1;32m    565\u001b[0m             \u001b[0;32mreturn\u001b[0m \u001b[0mself\u001b[0m\u001b[0;34m.\u001b[0m\u001b[0m_value\u001b[0m\u001b[0;34m\u001b[0m\u001b[0m\n\u001b[1;32m    566\u001b[0m         \u001b[0;32melse\u001b[0m\u001b[0;34m:\u001b[0m\u001b[0;34m\u001b[0m\u001b[0m\n\u001b[0;32m--> 567\u001b[0;31m             \u001b[0;32mraise\u001b[0m \u001b[0mself\u001b[0m\u001b[0;34m.\u001b[0m\u001b[0m_value\u001b[0m\u001b[0;34m\u001b[0m\u001b[0m\n\u001b[0m\u001b[1;32m    568\u001b[0m \u001b[0;34m\u001b[0m\u001b[0m\n\u001b[1;32m    569\u001b[0m     \u001b[0;32mdef\u001b[0m \u001b[0m_set\u001b[0m\u001b[0;34m(\u001b[0m\u001b[0mself\u001b[0m\u001b[0;34m,\u001b[0m \u001b[0mi\u001b[0m\u001b[0;34m,\u001b[0m \u001b[0mobj\u001b[0m\u001b[0;34m)\u001b[0m\u001b[0;34m:\u001b[0m\u001b[0;34m\u001b[0m\u001b[0m\n",
      "\u001b[0;31mPicklingError\u001b[0m: Can't pickle <type 'function'>: attribute lookup __builtin__.function failed"
     ]
    }
   ],
   "source": [
    "%%time\n",
    "%pdb 0\n",
    "\n",
    "import chipShot as mod;reload(mod)\n",
    "# mod = chipShot\n",
    "mod.testDict['NCORE'] = 3\n",
    "indexFile = mod.main(**mod.testDict)\n",
    "print 'Done'\n",
    "!head {indexFile}"
   ]
  },
  {
   "cell_type": "code",
   "execution_count": 350,
   "metadata": {},
   "outputs": [
    {
     "name": "stdout",
     "output_type": "stream",
     "text": [
      "Automatic pdb calling has been turned ON\n"
     ]
    }
   ],
   "source": [
    "%pdb 1"
   ]
  },
  {
   "cell_type": "code",
   "execution_count": 29,
   "metadata": {},
   "outputs": [],
   "source": [
    "! head -n 2 {mod.testDict['bedFile']} > test__2peak__Ath.bed"
   ]
  },
  {
   "cell_type": "code",
   "execution_count": 43,
   "metadata": {
    "scrolled": false
   },
   "outputs": [
    {
     "name": "stdout",
     "output_type": "stream",
     "text": [
      "[WARN] Cannot find file:key.gene\n",
      "[WARN] pymisca.vis_util cannot find network\n",
      "[WARN] pymisca.vis_util cannot find network\n"
     ]
    },
    {
     "name": "stderr",
     "output_type": "stream",
     "text": [
      "is in ipython: 1 \n",
      "is in ipython: 1 \n"
     ]
    },
    {
     "name": "stdout",
     "output_type": "stream",
     "text": [
      "[WARN] pymisca.vis_util cannot find network\n",
      "[WARN] pymisca.vis_util cannot find network\n"
     ]
    },
    {
     "name": "stderr",
     "output_type": "stream",
     "text": [
      "is in ipython: 1 \n",
      "chipShot.py:3: UserWarning: \n",
      "This call to matplotlib.use() has no effect because the backend has already\n",
      "been chosen; matplotlib.use() must be called *before* pylab, matplotlib.pyplot,\n",
      "or matplotlib.backends is imported for the first time.\n",
      "\n",
      "The backend was *originally* set to 'module://ipykernel.pylab.backend_inline' by the following code:\n",
      "  File \"/usr/lib/python2.7/runpy.py\", line 174, in _run_module_as_main\n",
      "    \"__main__\", fname, loader, pkg_name)\n",
      "  File \"/usr/lib/python2.7/runpy.py\", line 72, in _run_code\n",
      "    exec code in run_globals\n",
      "  File \"/home/feng/.local/lib/python2.7/site-packages/ipykernel_launcher.py\", line 16, in <module>\n",
      "    app.launch_new_instance()\n",
      "  File \"/home/feng/.local/lib/python2.7/site-packages/traitlets/config/application.py\", line 658, in launch_instance\n",
      "    app.start()\n",
      "  File \"/home/feng/.local/lib/python2.7/site-packages/ipykernel/kernelapp.py\", line 486, in start\n",
      "    self.io_loop.start()\n",
      "  File \"/home/feng/.local/lib/python2.7/site-packages/tornado/ioloop.py\", line 1064, in start\n",
      "    handler_func(fd_obj, events)\n",
      "  File \"/home/feng/.local/lib/python2.7/site-packages/tornado/stack_context.py\", line 276, in null_wrapper\n",
      "    return fn(*args, **kwargs)\n",
      "  File \"/home/feng/.local/lib/python2.7/site-packages/zmq/eventloop/zmqstream.py\", line 450, in _handle_events\n",
      "    self._handle_recv()\n",
      "  File \"/home/feng/.local/lib/python2.7/site-packages/zmq/eventloop/zmqstream.py\", line 480, in _handle_recv\n",
      "    self._run_callback(callback, msg)\n",
      "  File \"/home/feng/.local/lib/python2.7/site-packages/zmq/eventloop/zmqstream.py\", line 432, in _run_callback\n",
      "    callback(*args, **kwargs)\n",
      "  File \"/home/feng/.local/lib/python2.7/site-packages/tornado/stack_context.py\", line 276, in null_wrapper\n",
      "    return fn(*args, **kwargs)\n",
      "  File \"/home/feng/.local/lib/python2.7/site-packages/ipykernel/kernelbase.py\", line 283, in dispatcher\n",
      "    return self.dispatch_shell(stream, msg)\n",
      "  File \"/home/feng/.local/lib/python2.7/site-packages/ipykernel/kernelbase.py\", line 233, in dispatch_shell\n",
      "    handler(stream, idents, msg)\n",
      "  File \"/home/feng/.local/lib/python2.7/site-packages/ipykernel/kernelbase.py\", line 399, in execute_request\n",
      "    user_expressions, allow_stdin)\n",
      "  File \"/home/feng/.local/lib/python2.7/site-packages/ipykernel/ipkernel.py\", line 208, in do_execute\n",
      "    res = shell.run_cell(code, store_history=store_history, silent=silent)\n",
      "  File \"/home/feng/.local/lib/python2.7/site-packages/ipykernel/zmqshell.py\", line 537, in run_cell\n",
      "    return super(ZMQInteractiveShell, self).run_cell(*args, **kwargs)\n",
      "  File \"/home/feng/.local/lib/python2.7/site-packages/IPython/core/interactiveshell.py\", line 2714, in run_cell\n",
      "    interactivity=interactivity, compiler=compiler, result=result)\n",
      "  File \"/home/feng/.local/lib/python2.7/site-packages/IPython/core/interactiveshell.py\", line 2818, in run_ast_nodes\n",
      "    if self.run_code(code, result):\n",
      "  File \"/home/feng/.local/lib/python2.7/site-packages/IPython/core/interactiveshell.py\", line 2878, in run_code\n",
      "    exec(code_obj, self.user_global_ns, self.user_ns)\n",
      "  File \"<ipython-input-43-b8b13076248c>\", line 1, in <module>\n",
      "    execfile('/home/feng/meta/header_0903.py')\n",
      "  File \"/home/feng/meta/header_0903.py\", line 14, in <module>\n",
      "    get_ipython().magic('matplotlib inline')\n",
      "  File \"/home/feng/.local/lib/python2.7/site-packages/IPython/core/interactiveshell.py\", line 2160, in magic\n",
      "    return self.run_line_magic(magic_name, magic_arg_s)\n",
      "  File \"/home/feng/.local/lib/python2.7/site-packages/IPython/core/interactiveshell.py\", line 2081, in run_line_magic\n",
      "    result = fn(*args,**kwargs)\n",
      "  File \"<decorator-gen-105>\", line 2, in matplotlib\n",
      "  File \"/home/feng/.local/lib/python2.7/site-packages/IPython/core/magic.py\", line 188, in <lambda>\n",
      "    call = lambda f, *a, **k: f(*a, **k)\n",
      "  File \"/home/feng/.local/lib/python2.7/site-packages/IPython/core/magics/pylab.py\", line 100, in matplotlib\n",
      "    gui, backend = self.shell.enable_matplotlib(args.gui)\n",
      "  File \"/home/feng/.local/lib/python2.7/site-packages/IPython/core/interactiveshell.py\", line 2966, in enable_matplotlib\n",
      "    pt.activate_matplotlib(backend)\n",
      "  File \"/home/feng/.local/lib/python2.7/site-packages/IPython/core/pylabtools.py\", line 315, in activate_matplotlib\n",
      "    matplotlib.pyplot.switch_backend(backend)\n",
      "  File \"/usr/local/lib/python2.7/dist-packages/matplotlib/pyplot.py\", line 231, in switch_backend\n",
      "    matplotlib.use(newbackend, warn=False, force=True)\n",
      "  File \"/usr/local/lib/python2.7/dist-packages/matplotlib/__init__.py\", line 1410, in use\n",
      "    reload(sys.modules['matplotlib.backends'])\n",
      "  File \"/usr/local/lib/python2.7/dist-packages/matplotlib/backends/__init__.py\", line 16, in <module>\n",
      "    line for line in traceback.format_stack()\n",
      "\n",
      "\n",
      "  mpl.use('agg')\n"
     ]
    },
    {
     "name": "stdout",
     "output_type": "stream",
     "text": [
      "mkdir -p PROG=chipShots_bedFile=test__2peak__Ath.bed\n"
     ]
    },
    {
     "name": "stderr",
     "output_type": "stream",
     "text": [
      "[tmp]:test__2peak__Ath_radius=1.tsv,lc=2\n",
      "[output]:type=closest_bed=test__2peak__Ath_radius=1_feat=genes.gtf.cds.tsv,lc=4\n"
     ]
    },
    {
     "name": "stdout",
     "output_type": "stream",
     "text": [
      "type=closest_bed=test__2peak__Ath_radius=1_feat=genes.gtf.cds.tsv\n",
      "[MSG]Loading bed intervals from bigwig tracks....\n",
      "[L] 2\n",
      "[L]= 400\n",
      "[L]= 400\n",
      "[L]= 400\n",
      "[L]= 400\n"
     ]
    },
    {
     "name": "stderr",
     "output_type": "stream",
     "text": [
      "/home/feng/.local/lib/python2.7/site-packages/ipykernel_launcher.py:13: DtypeWarning: Columns (0) have mixed types. Specify dtype option on import or set low_memory=False.\n",
      "  del sys.path[0]\n"
     ]
    },
    {
     "name": "stdout",
     "output_type": "stream",
     "text": [
      "[MSG] plotting to: /home/feng/envs/Fig_Brachy/PROG=chipShots_bedFile=test__2peak__Ath.bed/LUX_predictd_p0.05_peak_133.svg\n",
      "[MSG] plotting to: /home/feng/envs/Fig_Brachy/PROG=chipShots_bedFile=test__2peak__Ath.bed/LUX_predictd_p0.05_peak_445.svg\n",
      "Done\n",
      "1\t1829942\t1829944\tLUX_predictd_p0.05_peak_133\t106\t.\t3.03647\t10.60354\t7.59973\t1829943\t/home/feng/envs/Fig_Brachy/PROG=chipShots_bedFile=test__2peak__Ath.bed/LUX_predictd_p0.05_peak_133.svg\n",
      "1\t7025100\t7025102\tLUX_predictd_p0.05_peak_445\t232\t.\t4.74602\t23.25812\t19.97789\t7025101\t/home/feng/envs/Fig_Brachy/PROG=chipShots_bedFile=test__2peak__Ath.bed/LUX_predictd_p0.05_peak_445.svg\n"
     ]
    },
    {
     "data": {
      "image/png": "[encoded data removed]",
      "text/plain": [
       "<Figure size 1008x1008 with 15 Axes>"
      ]
     },
     "metadata": {},
     "output_type": "display_data"
    },
    {
     "data": {
      "image/png": "[encoded data removed]",
      "text/plain": [
       "<Figure size 1008x1008 with 15 Axes>"
      ]
     },
     "metadata": {},
     "output_type": "display_data"
    }
   ],
   "source": [
    "execfile('/home/feng/meta/header_0903.py')\n",
    "import pymisca.bio as pybio\n",
    "reload(scount)\n",
    "reload(spanel)\n",
    "reload(pyvis)\n",
    "reload(pybio)\n",
    "import chipShot as mod;reload(mod)\n",
    "# mod = chipShot\n",
    "mod.testDict['NCORE'] = 1\n",
    "dct = mod.testDict.copy()\n",
    "! head -n 2 {mod.testDict['bedFile']} > test__2peak__Ath.bed\n",
    "dct['bedFile'] = \"test__2peak__Ath.bed\"\n",
    "indexFile = mod.main(**dct)\n",
    "print 'Done'\n",
    "!head {indexFile}"
   ]
  },
  {
   "cell_type": "code",
   "execution_count": 366,
   "metadata": {},
   "outputs": [],
   "source": [
    "! grep /home/feng/ref/Arabidopsis_thaliana_TAIR10/annotation/genes.gtf -e AT5G17460.1 > AT5G17460.gtf"
   ]
  },
  {
   "cell_type": "code",
   "execution_count": 369,
   "metadata": {},
   "outputs": [
    {
     "data": {
      "text/plain": [
       "[SeqFeature(FeatureLocation(ExactPosition(5757097), ExactPosition(5759795), strand=-1), type='inferred_parent', id='AT5G17460.1')]"
      ]
     },
     "execution_count": 369,
     "metadata": {},
     "output_type": "execute_result"
    }
   ],
   "source": [
    "# pyutil.read_\n",
    "pybio.read_gtf('AT5G17460.gtf')[0].features"
   ]
  },
  {
   "cell_type": "code",
   "execution_count": 10,
   "metadata": {},
   "outputs": [],
   "source": [
    "! grep /home/feng/ref/Arabidopsis_thaliana_TAIR10/annotation/genes.gtf -e AT1G06460.1 > AT1G06460.gtf\n",
    "gtf  =pybio.read_gtf('AT1G06460.gtf')"
   ]
  },
  {
   "cell_type": "code",
   "execution_count": 20,
   "metadata": {},
   "outputs": [
    {
     "name": "stdout",
     "output_type": "stream",
     "text": [
      "[WARN] pymisca.vis_util cannot find network\n",
      "('[strand]', -1)\n",
      "('adding intron', ExactPosition(1969561), ExactPosition(1969414))\n",
      "('adding exon', ExactPosition(1969414), ExactPosition(1969309))\n",
      "('adding intron', ExactPosition(1969309), ExactPosition(1968906))\n",
      "('adding exon', ExactPosition(1968906), ExactPosition(1968783))\n",
      "('adding intron', ExactPosition(1968783), ExactPosition(1968628))\n",
      "('adding exon', ExactPosition(1968628), ExactPosition(1968511))\n",
      "('adding intron', ExactPosition(1968511), ExactPosition(1968421))\n",
      "('adding exon', ExactPosition(1968421), ExactPosition(1968225))\n",
      "('adding intron', ExactPosition(1968225), ExactPosition(1967978))\n",
      "('adding exon', ExactPosition(1967978), ExactPosition(1967863))\n",
      "('adding intron', ExactPosition(1967863), ExactPosition(1967767))\n",
      "('adding exon', ExactPosition(1967767), ExactPosition(1967602))\n",
      "('adding intron', ExactPosition(1967602), ExactPosition(1967344))\n",
      "('adding exon', ExactPosition(1967344), ExactPosition(1967310))\n",
      "('adding intron', ExactPosition(1967310), ExactPosition(1967086))\n"
     ]
    },
    {
     "data": {
      "text/plain": [
       "(ExactPosition(1967086), ExactPosition(1969561))"
      ]
     },
     "execution_count": 20,
     "metadata": {},
     "output_type": "execute_result"
    },
    {
     "data": {
      "image/png": "[encoded data removed]",
      "text/plain": [
       "<Figure size 432x288 with 1 Axes>"
      ]
     },
     "metadata": {},
     "output_type": "display_data"
    }
   ],
   "source": [
    "reload(pyvis)\n",
    "reload(pybio)\n",
    "plt.xlim(pybio.add_transcript(gtf[0].features[0],debug=1)[0])"
   ]
  },
  {
   "cell_type": "code",
   "execution_count": 14,
   "metadata": {},
   "outputs": [],
   "source": [
    "g = gtf[0].features[0]"
   ]
  },
  {
   "cell_type": "code",
   "execution_count": 18,
   "metadata": {},
   "outputs": [
    {
     "data": {
      "text/plain": [
       "(1967086, ExactPosition(1967086))"
      ]
     },
     "execution_count": 18,
     "metadata": {},
     "output_type": "execute_result"
    }
   ],
   "source": [
    "f = g.sub_features[0]\n",
    "# f.location.nofuzzy_sta"
   ]
  },
  {
   "cell_type": "code",
   "execution_count": 331,
   "metadata": {},
   "outputs": [
    {
     "data": {
      "text/plain": [
       "{'GSIZE': '/home/feng/ref/Arabidopsis_thaliana_TAIR10/genome.sizes',\n",
       " 'NCORE': 1,\n",
       " 'bedFile': './DE2017/lux22_radius=1.tsv',\n",
       " 'bwFiles': ['/home/feng/envs/Fig_Brachy/DE2017/bw/122C/EC-1167_S5/EC-1167_S5_raw_bowtie2_TAIR10_ensembl_nomixed_sorted_rmdup_picard_genomenorm.bw',\n",
       "  '/home/feng/envs/Fig_Brachy/DE2017/bw/122C/EC-1167_S6/EC-1167_S6_raw_bowtie2_TAIR10_ensembl_nomixed_sorted_rmdup_picard_genomenorm.bw',\n",
       "  '/home/feng/envs/Fig_Brachy/DE2017/bw/122C/EC-1167_S7/EC-1167_S7_raw_bowtie2_TAIR10_ensembl_nomixed_sorted_rmdup_picard_genomenorm.bw',\n",
       "  '/home/feng/envs/Fig_Brachy/DE2017/bw/122C/EC-1167_S8/EC-1167_S8_raw_bowtie2_TAIR10_ensembl_nomixed_sorted_rmdup_picard_genomenorm.bw'],\n",
       " 'gtfFile': '/home/feng/ref/Arabidopsis_thaliana_TAIR10/annotation/genes.gtf',\n",
       " 'radius': 2000}"
      ]
     },
     "execution_count": 331,
     "metadata": {},
     "output_type": "execute_result"
    }
   ],
   "source": [
    "mod.testDict"
   ]
  },
  {
   "cell_type": "code",
   "execution_count": 49,
   "metadata": {},
   "outputs": [],
   "source": [
    "!chmod +x  chipShot.py\n",
    "!ln chipShot.py /home/feng/repos/BrachyPhoton/synotil/\n",
    "!ln chipShot.py /home/feng/repos/synotil/src/"
   ]
  },
  {
   "cell_type": "code",
   "execution_count": 65,
   "metadata": {
    "scrolled": false
   },
   "outputs": [
    {
     "ename": "NameError",
     "evalue": "name 'drawPeak' is not defined",
     "output_type": "error",
     "traceback": [
      "\u001b[0;31m\u001b[0m",
      "\u001b[0;31mNameError\u001b[0mTraceback (most recent call last)",
      "\u001b[0;32m<ipython-input-65-67d86df2b523>\u001b[0m in \u001b[0;36m<module>\u001b[0;34m()\u001b[0m\n\u001b[0;32m----> 1\u001b[0;31m \u001b[0mfigs\u001b[0m \u001b[0;34m=\u001b[0m  \u001b[0mpyutil\u001b[0m\u001b[0;34m.\u001b[0m\u001b[0mmp_map\u001b[0m\u001b[0;34m(\u001b[0m\u001b[0mdrawPeak\u001b[0m\u001b[0;34m,\u001b[0m\u001b[0muniqPeak\u001b[0m\u001b[0;34m[\u001b[0m\u001b[0;34m:\u001b[0m\u001b[0;36m5\u001b[0m\u001b[0;34m]\u001b[0m\u001b[0;34m,\u001b[0m\u001b[0mn_cpu\u001b[0m\u001b[0;34m=\u001b[0m\u001b[0;36m5\u001b[0m\u001b[0;34m,\u001b[0m\u001b[0;34m)\u001b[0m\u001b[0;34m\u001b[0m\u001b[0m\n\u001b[0m\u001b[1;32m      2\u001b[0m \u001b[0;31m# figs = map(drawPeak,)\u001b[0m\u001b[0;34m\u001b[0m\u001b[0;34m\u001b[0m\u001b[0m\n",
      "\u001b[0;31mNameError\u001b[0m: name 'drawPeak' is not defined"
     ]
    }
   ],
   "source": [
    "figs =  pyutil.mp_map(drawPeak,uniqPeak[:5],n_cpu=5,)\n",
    "# figs = map(drawPeak,)"
   ]
  },
  {
   "cell_type": "code",
   "execution_count": null,
   "metadata": {},
   "outputs": [],
   "source": [
    "[fig.show() for fig in figs]"
   ]
  },
  {
   "cell_type": "code",
   "execution_count": 374,
   "metadata": {},
   "outputs": [
    {
     "data": {
      "text/markdown": [
       "[temp.svg](temp.svg)"
      ],
      "text/plain": [
       "<IPython.core.display.Markdown object>"
      ]
     },
     "metadata": {},
     "output_type": "display_data"
    }
   ],
   "source": [
    "pyutil.MDFile('temp.svg')"
   ]
  },
  {
   "cell_type": "code",
   "execution_count": 281,
   "metadata": {},
   "outputs": [
    {
     "name": "stdout",
     "output_type": "stream",
     "text": [
      "/home/feng/ref/Arabidopsis_thaliana_TAIR10/annotation/genes.gtf\n",
      "4\tprotein_coding\texon\t9063845\t9064481\t.\t-\t.\texon_number \"1\"; gene_id \"AT4G16000\"; gene_name \"AT4G16000\"; p_id \"P12858\"; seqedit \"false\"; transcript_id \"AT4G16000.1\"; transcript_name \"AT4G16000.1\"; tss_id \"TSS35792\";\n",
      "4\tprotein_coding\tstop_codon\t9064163\t9064165\t.\t-\t0\texon_number \"1\"; gene_id \"AT4G16000\"; gene_name \"AT4G16000\"; p_id \"P12858\"; transcript_id \"AT4G16000.1\"; transcript_name \"AT4G16000.1\"; tss_id \"TSS35792\";\n",
      "4\tprotein_coding\tCDS\t9064166\t9064432\t.\t-\t0\texon_number \"1\"; gene_id \"AT4G16000\"; gene_name \"AT4G16000\"; p_id \"P12858\"; protein_id \"AT4G16000.1\"; transcript_id \"AT4G16000.1\"; transcript_name \"AT4G16000.1\"; tss_id \"TSS35792\";\n",
      "4\tprotein_coding\tstart_codon\t9064430\t9064432\t.\t-\t0\texon_number \"1\"; gene_id \"AT4G16000\"; gene_name \"AT4G16000\"; p_id \"P12858\"; transcript_id \"AT4G16000.1\"; transcript_name \"AT4G16000.1\"; tss_id \"TSS35792\";\n",
      "4\tprotein_coding\texon\t9067830\t9068512\t.\t+\t.\texon_number \"1\"; gene_id \"AT4G16008\"; gene_name \"AT4G16008\"; p_id \"P11694\"; seqedit \"false\"; transcript_id \"AT4G16008.1\"; transcript_name \"AT4G16008.1\"; tss_id \"TSS5296\";\n",
      "4\tprotein_coding\tCDS\t9067898\t9068131\t.\t+\t0\texon_number \"1\"; gene_id \"AT4G16008\"; gene_name \"AT4G16008\"; p_id \"P11694\"; protein_id \"AT4G16008.1\"; transcript_id \"AT4G16008.1\"; transcript_name \"AT4G16008.1\"; tss_id \"TSS5296\";\n",
      "4\tprotein_coding\tstart_codon\t9067898\t9067900\t.\t+\t0\texon_number \"1\"; gene_id \"AT4G16008\"; gene_name \"AT4G16008\"; p_id \"P11694\"; transcript_id \"AT4G16008.1\"; transcript_name \"AT4G16008.1\"; tss_id \"TSS5296\";\n",
      "4\tprotein_coding\tstop_codon\t9068132\t9068134\t.\t+\t0\texon_number \"1\"; gene_id \"AT4G16008\"; gene_name \"AT4G16008\"; p_id \"P11694\"; transcript_id \"AT4G16008.1\"; transcript_name \"AT4G16008.1\"; tss_id \"TSS5296\";\n",
      "4\ttransposable_element_gene\texon\t9069355\t9072903\t.\t+\t.\texon_number \"1\"; gene_id \"AT4G16010\"; gene_name \"AT4G16010\"; seqedit \"false\"; transcript_id \"AT4G16010.1\"; transcript_name \"AT4G16010.1\"; tss_id \"TSS15265\";\n",
      "4\tprotein_coding\tCDS\t9073202\t9074806\t.\t+\t0\texon_number \"1\"; gene_id \"AT4G16015\"; gene_name \"AT4G16015\"; p_id \"P11173\"; protein_id \"AT4G16015.1\"; transcript_id \"AT4G16015.1\"; transcript_name \"AT4G16015.1\"; tss_id \"TSS18962\";\n"
     ]
    }
   ],
   "source": [
    "%%bash\n",
    "GTF=/home/feng/ref/Arabidopsis_thaliana_TAIR10/annotation/genes.gtf\n",
    "echo $GTF\n",
    "grep $GTF -e  \"AT4G16\" | tee AT4G167xx.gtf | head"
   ]
  },
  {
   "cell_type": "code",
   "execution_count": null,
   "metadata": {},
   "outputs": [],
   "source": [
    "print 1"
   ]
  },
  {
   "cell_type": "code",
   "execution_count": 289,
   "metadata": {},
   "outputs": [
    {
     "name": "stdout",
     "output_type": "stream",
     "text": [
      "170\n"
     ]
    }
   ],
   "source": [
    "gtf =pybio.read_gtf(in_file='AT4G167xx.gtf')\n",
    "# gtf[0].features[0].sub_features\n",
    "print len(gtf[0].features)"
   ]
  },
  {
   "cell_type": "code",
   "execution_count": 139,
   "metadata": {
    "scrolled": true
   },
   "outputs": [
    {
     "name": "stdout",
     "output_type": "stream",
     "text": [
      "9449113 9450743 9450601\n",
      "9449450 9449290 9449450\n",
      "9449852 9449553 9449852\n",
      "9450200 9450120 9450200\n"
     ]
    },
    {
     "data": {
      "text/plain": [
       "(ExactPosition(9449113), ExactPosition(9450743))"
      ]
     },
     "execution_count": 139,
     "metadata": {},
     "output_type": "execute_result"
    },
    {
     "data": {
      "image/png": "[encoded data removed]",
      "text/plain": [
       "<Figure size 432x288 with 1 Axes>"
      ]
     },
     "metadata": {},
     "output_type": "display_data"
    }
   ],
   "source": [
    "feats = g1.features\n",
    "g = feats[0]\n",
    "subfeats = g.sub_features\n",
    "\n",
    "import pymisca.vis_util as pyvis\n",
    "# def add_transcript(g,ax,ycent=0.5,ax=None,):\n",
    "#     if ax is None:\n",
    "#         ax = plt.gca()\n",
    "ax = plt.subplot(111)\n",
    "ycent = 0.5\n",
    "arrowArgs = {'ycent':ycent,'ax':ax}\n",
    "\n",
    "# start_new = g2.location.start\n",
    "\n",
    "intronHeight = 0.25\n",
    "exonHeight = 0.5\n",
    "\n",
    "end = g.location.start\n",
    "\n",
    "for i,f in enumerate(subfeats):\n",
    "    if f.type=='CDS':\n",
    "        print end,start_new,end_new\n",
    "        start_new,end_new = f.location.start, f.location.end\n",
    "        pyvis.add_hbox(end,start_new,height = intronHeight,**arrowArgs)\n",
    "                \n",
    "        pyvis.add_hbox(start_new,end_new,height = exonHeight,**arrowArgs)\n",
    "        start,end = start_new,end_new\n",
    "    elif i + 1 ==len(subfeats):\n",
    "        start_new = g.location.end\n",
    "        pyvis.add_harrow(end,start_new,height = intronHeight,**arrowArgs)\n",
    "        continue\n",
    "        \n",
    "\n",
    "plt.xlim(g.location.start,g.location.end)"
   ]
  },
  {
   "cell_type": "code",
   "execution_count": 85,
   "metadata": {},
   "outputs": [
    {
     "data": {
      "text/plain": [
       "(ExactPosition(9449113), ExactPosition(9450743))"
      ]
     },
     "execution_count": 85,
     "metadata": {},
     "output_type": "execute_result"
    },
    {
     "data": {
      "image/png": "[encoded data removed]",
      "text/plain": [
       "<Figure size 432x288 with 1 Axes>"
      ]
     },
     "metadata": {},
     "output_type": "display_data"
    }
   ],
   "source": [
    "import pymisca.bio as pybio\n",
    "plt = pyutil.plt\n",
    "g = pybio.read_gtf('at5g.gtf')\n",
    "res = pybio.add_transcript(g=g[0])\n",
    "plt.xlim(res[0])\n",
    "# g"
   ]
  },
  {
   "cell_type": "code",
   "execution_count": 66,
   "metadata": {},
   "outputs": [
    {
     "name": "stdout",
     "output_type": "stream",
     "text": [
      "at5g.gtf\r\n"
     ]
    }
   ],
   "source": [
    "! ls *.gtf"
   ]
  },
  {
   "cell_type": "code",
   "execution_count": 340,
   "metadata": {},
   "outputs": [
    {
     "data": {
      "text/html": [
       "<div>\n",
       "<style scoped>\n",
       "    .dataframe tbody tr th:only-of-type {\n",
       "        vertical-align: middle;\n",
       "    }\n",
       "\n",
       "    .dataframe tbody tr th {\n",
       "        vertical-align: top;\n",
       "    }\n",
       "\n",
       "    .dataframe thead th {\n",
       "        text-align: right;\n",
       "    }\n",
       "</style>\n",
       "<table border=\"1\" class=\"dataframe\">\n",
       "  <thead>\n",
       "    <tr style=\"text-align: right;\">\n",
       "      <th></th>\n",
       "      <th>0</th>\n",
       "      <th>1</th>\n",
       "      <th>2</th>\n",
       "      <th>3</th>\n",
       "      <th>4</th>\n",
       "      <th>5</th>\n",
       "      <th>6</th>\n",
       "      <th>7</th>\n",
       "      <th>8</th>\n",
       "    </tr>\n",
       "  </thead>\n",
       "  <tbody>\n",
       "    <tr>\n",
       "      <th>39389</th>\n",
       "      <td>1</td>\n",
       "      <td>protein_coding</td>\n",
       "      <td>exon</td>\n",
       "      <td>-2351</td>\n",
       "      <td>-2036</td>\n",
       "      <td>.</td>\n",
       "      <td>-</td>\n",
       "      <td>.</td>\n",
       "      <td>exon_number \"8\"; gene_id \"AT1G20270\"; gene_nam...</td>\n",
       "    </tr>\n",
       "    <tr>\n",
       "      <th>39390</th>\n",
       "      <td>1</td>\n",
       "      <td>protein_coding</td>\n",
       "      <td>exon</td>\n",
       "      <td>-1732</td>\n",
       "      <td>-1644</td>\n",
       "      <td>.</td>\n",
       "      <td>-</td>\n",
       "      <td>.</td>\n",
       "      <td>exon_number \"7\"; gene_id \"AT1G20270\"; gene_nam...</td>\n",
       "    </tr>\n",
       "    <tr>\n",
       "      <th>39391</th>\n",
       "      <td>1</td>\n",
       "      <td>protein_coding</td>\n",
       "      <td>stop_codon</td>\n",
       "      <td>-1717</td>\n",
       "      <td>-1715</td>\n",
       "      <td>.</td>\n",
       "      <td>-</td>\n",
       "      <td>0</td>\n",
       "      <td>exon_number \"7\"; gene_id \"AT1G20270\"; gene_nam...</td>\n",
       "    </tr>\n",
       "    <tr>\n",
       "      <th>39392</th>\n",
       "      <td>1</td>\n",
       "      <td>protein_coding</td>\n",
       "      <td>CDS</td>\n",
       "      <td>-1714</td>\n",
       "      <td>-1644</td>\n",
       "      <td>.</td>\n",
       "      <td>-</td>\n",
       "      <td>2</td>\n",
       "      <td>exon_number \"7\"; gene_id \"AT1G20270\"; gene_nam...</td>\n",
       "    </tr>\n",
       "    <tr>\n",
       "      <th>39393</th>\n",
       "      <td>1</td>\n",
       "      <td>protein_coding</td>\n",
       "      <td>CDS</td>\n",
       "      <td>-1542</td>\n",
       "      <td>-1355</td>\n",
       "      <td>.</td>\n",
       "      <td>-</td>\n",
       "      <td>1</td>\n",
       "      <td>exon_number \"6\"; gene_id \"AT1G20270\"; gene_nam...</td>\n",
       "    </tr>\n",
       "    <tr>\n",
       "      <th>39394</th>\n",
       "      <td>1</td>\n",
       "      <td>protein_coding</td>\n",
       "      <td>exon</td>\n",
       "      <td>-1542</td>\n",
       "      <td>-1355</td>\n",
       "      <td>.</td>\n",
       "      <td>-</td>\n",
       "      <td>.</td>\n",
       "      <td>exon_number \"6\"; gene_id \"AT1G20270\"; gene_nam...</td>\n",
       "    </tr>\n",
       "    <tr>\n",
       "      <th>39395</th>\n",
       "      <td>1</td>\n",
       "      <td>protein_coding</td>\n",
       "      <td>CDS</td>\n",
       "      <td>-1268</td>\n",
       "      <td>-1139</td>\n",
       "      <td>.</td>\n",
       "      <td>-</td>\n",
       "      <td>2</td>\n",
       "      <td>exon_number \"5\"; gene_id \"AT1G20270\"; gene_nam...</td>\n",
       "    </tr>\n",
       "    <tr>\n",
       "      <th>39396</th>\n",
       "      <td>1</td>\n",
       "      <td>protein_coding</td>\n",
       "      <td>exon</td>\n",
       "      <td>-1268</td>\n",
       "      <td>-1139</td>\n",
       "      <td>.</td>\n",
       "      <td>-</td>\n",
       "      <td>.</td>\n",
       "      <td>exon_number \"5\"; gene_id \"AT1G20270\"; gene_nam...</td>\n",
       "    </tr>\n",
       "    <tr>\n",
       "      <th>39397</th>\n",
       "      <td>1</td>\n",
       "      <td>protein_coding</td>\n",
       "      <td>CDS</td>\n",
       "      <td>-984</td>\n",
       "      <td>-887</td>\n",
       "      <td>.</td>\n",
       "      <td>-</td>\n",
       "      <td>1</td>\n",
       "      <td>exon_number \"4\"; gene_id \"AT1G20270\"; gene_nam...</td>\n",
       "    </tr>\n",
       "    <tr>\n",
       "      <th>39398</th>\n",
       "      <td>1</td>\n",
       "      <td>protein_coding</td>\n",
       "      <td>exon</td>\n",
       "      <td>-984</td>\n",
       "      <td>-887</td>\n",
       "      <td>.</td>\n",
       "      <td>-</td>\n",
       "      <td>.</td>\n",
       "      <td>exon_number \"4\"; gene_id \"AT1G20270\"; gene_nam...</td>\n",
       "    </tr>\n",
       "    <tr>\n",
       "      <th>39399</th>\n",
       "      <td>1</td>\n",
       "      <td>protein_coding</td>\n",
       "      <td>CDS</td>\n",
       "      <td>-773</td>\n",
       "      <td>-676</td>\n",
       "      <td>.</td>\n",
       "      <td>-</td>\n",
       "      <td>0</td>\n",
       "      <td>exon_number \"3\"; gene_id \"AT1G20270\"; gene_nam...</td>\n",
       "    </tr>\n",
       "    <tr>\n",
       "      <th>39400</th>\n",
       "      <td>1</td>\n",
       "      <td>protein_coding</td>\n",
       "      <td>exon</td>\n",
       "      <td>-773</td>\n",
       "      <td>-676</td>\n",
       "      <td>.</td>\n",
       "      <td>-</td>\n",
       "      <td>.</td>\n",
       "      <td>exon_number \"3\"; gene_id \"AT1G20270\"; gene_nam...</td>\n",
       "    </tr>\n",
       "    <tr>\n",
       "      <th>39401</th>\n",
       "      <td>1</td>\n",
       "      <td>protein_coding</td>\n",
       "      <td>CDS</td>\n",
       "      <td>-538</td>\n",
       "      <td>-454</td>\n",
       "      <td>.</td>\n",
       "      <td>-</td>\n",
       "      <td>1</td>\n",
       "      <td>exon_number \"2\"; gene_id \"AT1G20270\"; gene_nam...</td>\n",
       "    </tr>\n",
       "    <tr>\n",
       "      <th>39402</th>\n",
       "      <td>1</td>\n",
       "      <td>protein_coding</td>\n",
       "      <td>exon</td>\n",
       "      <td>-538</td>\n",
       "      <td>-454</td>\n",
       "      <td>.</td>\n",
       "      <td>-</td>\n",
       "      <td>.</td>\n",
       "      <td>exon_number \"2\"; gene_id \"AT1G20270\"; gene_nam...</td>\n",
       "    </tr>\n",
       "    <tr>\n",
       "      <th>39403</th>\n",
       "      <td>1</td>\n",
       "      <td>protein_coding</td>\n",
       "      <td>CDS</td>\n",
       "      <td>-367</td>\n",
       "      <td>-177</td>\n",
       "      <td>.</td>\n",
       "      <td>-</td>\n",
       "      <td>0</td>\n",
       "      <td>exon_number \"1\"; gene_id \"AT1G20270\"; gene_nam...</td>\n",
       "    </tr>\n",
       "    <tr>\n",
       "      <th>39404</th>\n",
       "      <td>1</td>\n",
       "      <td>protein_coding</td>\n",
       "      <td>exon</td>\n",
       "      <td>-367</td>\n",
       "      <td>-33</td>\n",
       "      <td>.</td>\n",
       "      <td>-</td>\n",
       "      <td>.</td>\n",
       "      <td>exon_number \"1\"; gene_id \"AT1G20270\"; gene_nam...</td>\n",
       "    </tr>\n",
       "    <tr>\n",
       "      <th>39405</th>\n",
       "      <td>1</td>\n",
       "      <td>protein_coding</td>\n",
       "      <td>start_codon</td>\n",
       "      <td>-179</td>\n",
       "      <td>-177</td>\n",
       "      <td>.</td>\n",
       "      <td>-</td>\n",
       "      <td>0</td>\n",
       "      <td>exon_number \"1\"; gene_id \"AT1G20270\"; gene_nam...</td>\n",
       "    </tr>\n",
       "  </tbody>\n",
       "</table>\n",
       "</div>"
      ],
      "text/plain": [
       "<countMatrix: name=None>"
      ]
     },
     "execution_count": 340,
     "metadata": {},
     "output_type": "execute_result"
    }
   ],
   "source": [
    "gcurr"
   ]
  },
  {
   "cell_type": "code",
   "execution_count": 101,
   "metadata": {
    "scrolled": true
   },
   "outputs": [
    {
     "data": {
      "text/html": [
       "<div>\n",
       "<style scoped>\n",
       "    .dataframe tbody tr th:only-of-type {\n",
       "        vertical-align: middle;\n",
       "    }\n",
       "\n",
       "    .dataframe tbody tr th {\n",
       "        vertical-align: top;\n",
       "    }\n",
       "\n",
       "    .dataframe thead tr th {\n",
       "        text-align: left;\n",
       "    }\n",
       "</style>\n",
       "<table border=\"1\" class=\"dataframe\">\n",
       "  <thead>\n",
       "    <tr>\n",
       "      <th>bwFile</th>\n",
       "      <th colspan=\"10\" halign=\"left\">EC-1167_S5_raw_bowtie2_TAIR10_ensembl_nomixed_sorted_rmdup_picard_genomenorm</th>\n",
       "      <th>...</th>\n",
       "      <th colspan=\"10\" halign=\"left\">EC-1167_S8_raw_bowtie2_TAIR10_ensembl_nomixed_sorted_rmdup_picard_genomenorm</th>\n",
       "    </tr>\n",
       "    <tr>\n",
       "      <th>pos</th>\n",
       "      <th>0</th>\n",
       "      <th>10</th>\n",
       "      <th>20</th>\n",
       "      <th>30</th>\n",
       "      <th>40</th>\n",
       "      <th>50</th>\n",
       "      <th>60</th>\n",
       "      <th>70</th>\n",
       "      <th>80</th>\n",
       "      <th>90</th>\n",
       "      <th>...</th>\n",
       "      <th>1900</th>\n",
       "      <th>1910</th>\n",
       "      <th>1920</th>\n",
       "      <th>1930</th>\n",
       "      <th>1940</th>\n",
       "      <th>1950</th>\n",
       "      <th>1960</th>\n",
       "      <th>1970</th>\n",
       "      <th>1980</th>\n",
       "      <th>1990</th>\n",
       "    </tr>\n",
       "  </thead>\n",
       "  <tbody>\n",
       "    <tr>\n",
       "      <th>LUX_predictd_p0.05_peak_8244</th>\n",
       "      <td>1.215871</td>\n",
       "      <td>1.013226</td>\n",
       "      <td>0.607935</td>\n",
       "      <td>0.40529</td>\n",
       "      <td>0.607935</td>\n",
       "      <td>0.202645</td>\n",
       "      <td>0.202645</td>\n",
       "      <td>0.202645</td>\n",
       "      <td>0.202645</td>\n",
       "      <td>0.40529</td>\n",
       "      <td>...</td>\n",
       "      <td>1.234842</td>\n",
       "      <td>1.234842</td>\n",
       "      <td>1.234842</td>\n",
       "      <td>0.88203</td>\n",
       "      <td>1.411248</td>\n",
       "      <td>1.058436</td>\n",
       "      <td>0.88203</td>\n",
       "      <td>0.88203</td>\n",
       "      <td>1.234842</td>\n",
       "      <td>1.234842</td>\n",
       "    </tr>\n",
       "  </tbody>\n",
       "</table>\n",
       "<p>1 rows × 800 columns</p>\n",
       "</div>"
      ],
      "text/plain": [
       "bwFile                       EC-1167_S5_raw_bowtie2_TAIR10_ensembl_nomixed_sorted_rmdup_picard_genomenorm  \\\n",
       "pos                                                                                                  0      \n",
       "LUX_predictd_p0.05_peak_8244                                           1.215871                             \n",
       "\n",
       "bwFile                                                                         \\\n",
       "pos                               10        20       30        40        50     \n",
       "LUX_predictd_p0.05_peak_8244  1.013226  0.607935  0.40529  0.607935  0.202645   \n",
       "\n",
       "bwFile                                                                 ...     \\\n",
       "pos                               60        70        80       90      ...      \n",
       "LUX_predictd_p0.05_peak_8244  0.202645  0.202645  0.202645  0.40529    ...      \n",
       "\n",
       "bwFile                       EC-1167_S8_raw_bowtie2_TAIR10_ensembl_nomixed_sorted_rmdup_picard_genomenorm  \\\n",
       "pos                                                                                                  1900   \n",
       "LUX_predictd_p0.05_peak_8244                                           1.234842                             \n",
       "\n",
       "bwFile                                                                         \\\n",
       "pos                               1910      1920     1930      1940      1950   \n",
       "LUX_predictd_p0.05_peak_8244  1.234842  1.234842  0.88203  1.411248  1.058436   \n",
       "\n",
       "bwFile                                                              \n",
       "pos                              1960     1970      1980      1990  \n",
       "LUX_predictd_p0.05_peak_8244  0.88203  0.88203  1.234842  1.234842  \n",
       "\n",
       "[1 rows x 800 columns]"
      ]
     },
     "execution_count": 101,
     "metadata": {},
     "output_type": "execute_result"
    }
   ],
   "source": [
    "# spanel.panelPlot\n",
    "scount.countchipTrack.reindex(index=[peakAcc])"
   ]
  },
  {
   "cell_type": "code",
   "execution_count": 8,
   "metadata": {},
   "outputs": [
    {
     "name": "stdout",
     "output_type": "stream",
     "text": [
      "[WARN] pymisca.vis_util cannot find network\n"
     ]
    },
    {
     "name": "stderr",
     "output_type": "stream",
     "text": [
      "is in ipython: 1 \n"
     ]
    },
    {
     "data": {
      "image/png": "[encoded data removed]",
      "text/plain": [
       "<Figure size 1008x216 with 3 Axes>"
      ]
     },
     "metadata": {},
     "output_type": "display_data"
    }
   ],
   "source": [
    "import synotil.PanelPlot as spanel; reload(spanel)\n",
    "import synotil.CountMatrix as scount; reload(scount)\n",
    "y = np.random.random((100,1))\n",
    "tracks = [scount.countMatrix(y),]\n",
    "spanel.panelPlot(tracks).render();\n"
   ]
  }
 ],
 "metadata": {
  "kernelspec": {
   "display_name": "Python 2",
   "language": "python",
   "name": "python2"
  },
  "language_info": {
   "codemirror_mode": {
    "name": "ipython",
    "version": 2
   },
   "file_extension": ".py",
   "mimetype": "text/x-python",
   "name": "python",
   "nbconvert_exporter": "python",
   "pygments_lexer": "ipython2",
   "version": "2.7.12"
  }
 },
 "nbformat": 4,
 "nbformat_minor": 2
}
