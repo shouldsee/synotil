{
 "cells": [
  {
   "cell_type": "markdown",
   "metadata": {},
   "source": [
    "Methods to be tried:\n",
    "\n",
    "[temporal synexpression heatmp](https://www.sciencedirect.com/science/article/pii/S2211124715014916)"
   ]
  }
 ],
 "metadata": {
  "kernelspec": {
   "display_name": "Python 2",
   "language": "python",
   "name": "python2"
  },
  "language_info": {
   "codemirror_mode": {
    "name": "ipython",
    "version": 2
   },
   "file_extension": ".py",
   "mimetype": "text/x-python",
   "name": "python",
   "nbconvert_exporter": "python",
   "pygments_lexer": "ipython2",
   "version": "2.7.12"
  }
 },
 "nbformat": 4,
 "nbformat_minor": 2
}
