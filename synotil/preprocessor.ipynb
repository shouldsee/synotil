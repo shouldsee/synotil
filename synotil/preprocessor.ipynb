{
 "cells": [
  {
   "cell_type": "code",
   "execution_count": 5,
   "metadata": {},
   "outputs": [
    {
     "name": "stdout",
     "output_type": "stream",
     "text": [
      "Overwriting ./preprocessor.py\n"
     ]
    }
   ],
   "source": [
    "%%writefile ./preprocessor.py\n",
    "#!/usr/bin/env python2\n",
    "# Usage: (python) preprocessor.py /path/to/FASTQ_DIR\n",
    "# Example: preprocessor.py /media/pw_synology3/PW_HiSeq_data/RNA-seq/Raw_data/testONLY/133R/BdPIFs-32747730/133E_23_DN-40235206\n",
    "# Purpose: Download fastq files from the supplied path and \n",
    "#    combine them into R1.fastq and R2.fastq\n",
    "# \n",
    "# Created:7  OCT 2016, Hui@SLCU map-RNA-seq.py\n",
    "# Update: 11 Feb 2017. Hui@SLCU\n",
    "# Update: 29 May 2018. Feng@SLCU preprocessor.py\n",
    "\n",
    "\n",
    "import tempfile,subprocess\n",
    "import os, sys, datetime, glob, re\n",
    "import multiprocessing as mp\n",
    "import pandas as pd\n",
    "import ptn\n",
    "\n",
    "\n",
    "# shellexec = os.system\n",
    "\n",
    "def check_all_samples(d):\n",
    "    '''\n",
    "    [Deprecated] Use LeafFiles(DIR) instead, kept for a reference\n",
    "    Recursively walking a directory tree\n",
    "    TBM to return useful output\n",
    "    '''\n",
    "    for k in sorted(d.keys()):\n",
    "        rpath = d[k]\n",
    "        result = check_directory(rpath)\n",
    "        if result != '':\n",
    "            print('%s:%s [%s]' % (k, rpath, result))\n",
    "            rpath = rpath.rstrip('/')\n",
    "            if glob.glob(rpath) is []: # rpath does not exist or it is an incomplete path\n",
    "                path_lst = glob.glob(rpath + '*/')\n",
    "                assert len(path_lst) == 1,'Found multiple directories under %s'%rpath\n",
    "                rpath = path_lst[0]\n",
    "                d[k] = rpath.rstrip('/') # update rpath\n",
    "\n",
    "\n",
    "\n",
    "def nTuple(lst,n,silent=1):\n",
    "    \"\"\"ntuple([0,3,4,10,2,3], 2) => [(0,3), (4,10), (2,3)]\n",
    "    \n",
    "    Group a list into consecutive n-tuples. Incomplete tuples are\n",
    "    discarded e.g.\n",
    "    \n",
    "    >>> group(range(10), 3)\n",
    "    [(0, 1, 2), (3, 4, 5), (6, 7, 8)]\n",
    "    \"\"\"\n",
    "    if not silent:\n",
    "        L = len(lst)\n",
    "        if L % n != 0:\n",
    "            print '[WARN] nTuple(): list length %d not of multiples of %d, discarding extra elements'%(L,n)\n",
    "    return zip(*[lst[i::n] for i in range(n)])\n",
    "\n",
    "def LinesNotEmpty(sub):\n",
    "    sub = [ x for x in sub.splitlines() if x]\n",
    "    return sub\n",
    "\n",
    "def LeafFiles(DIR):\n",
    "    ''' Drill down to leaf files of a directory tree if the path is unique.\n",
    "    '''\n",
    "    assert os.path.exists(DIR),'%s not exist'%DIR\n",
    "    DIR = DIR.rstrip('/')\n",
    "    if not os.path.isdir(DIR):\n",
    "        return [DIR]\n",
    "    else:\n",
    "        cmd = 'ls -LR %s'%DIR\n",
    "        res = subprocess.check_output(cmd,shell=1)\n",
    "        res = re.split(r'([^\\n]*):',res)[1:]\n",
    "        it = nTuple(res,2,silent=0)\n",
    "        DIR, ss = it[0];\n",
    "        for dd,ss in it[1:]:\n",
    "            NEWDIR, ALI = dd.rsplit('/',1)\n",
    "            assert NEWDIR == DIR, 'Next directory %s not contained in %s'%(dd,DIR)\n",
    "            DIR = dd \n",
    "        res = [ '%s/%s'%(DIR,x) for x in LinesNotEmpty(ss)]\n",
    "        return res                \n",
    "\n",
    "retype = type(re.compile('hello, world'))\n",
    "def revSub(ptn, dict):\n",
    "    '''Reverse filling a regex matcher.\n",
    "    Adapted from: https://stackoverflow.com/a/13268043/8083313\n",
    "'''\n",
    "    if isinstance(ptn, retype):\n",
    "        ptn = ptn.pattern\n",
    "    ptn = ptn.replace(r'\\.','.')\n",
    "    replacer_regex = re.compile(r'''\n",
    "        \\(\\?P         # Match the opening\n",
    "        \\<(.+?)\\>\n",
    "        (.*?)\n",
    "        \\)     # Match the rest\n",
    "        '''\n",
    "        , re.VERBOSE)\n",
    "    res = replacer_regex.sub( lambda m : dict[m.group(1)], ptn)\n",
    "    return res\n",
    "\n",
    "def write_log(fname, s):\n",
    "    f = open(fname, 'a')\n",
    "    f.write(s + '\\n')\n",
    "    f.close()\n",
    "\n",
    "def gnuPara(cmd,debug=0,ncore = 6):\n",
    "    '''\n",
    "    [Deprecated] Bad and does not wait for tasks to finish\n",
    "    '''\n",
    "    tmp = tempfile.NamedTemporaryFile(delete=True) if not debug else open('temp.sh','w')\n",
    "    with tmp as tmp:\n",
    "        print cmd\n",
    "        tmp.write(cmd)\n",
    "        E = shellexec('parallel --gnu -j%d <%s &>>parallel.log'%(\n",
    "            ncore,\n",
    "            tmp.name\n",
    "            )\n",
    "        )\n",
    "    return E\n",
    "\n",
    "def mp_para(f,lst,ncore = 6):\n",
    "    if ncore ==1:\n",
    "        res = map(f,lst)\n",
    "    else:\n",
    "        p = mp.Pool(ncore)\n",
    "        res = p.map_async(f,lst,)\n",
    "        res = res.get(10000000)\n",
    "        p.close()\n",
    "        p.join()\n",
    "    return res\n",
    "\n",
    "datenow = lambda: datetime.datetime.now().strftime(\"%Y_%m_%d_%H:%M:%S\")\n",
    "\n",
    "#### Regex for downloaded .fastq(.gz) files\n",
    "# PTN = re.compile('(?P<lead>.*)_S(?P<sample>\\d{1,3})_L(?P<chunk>\\d+)_R(?P<read>[012])_(?P<trail>\\d{1,4})\\.(?P<ext>.+)')\n",
    "PTN = re.compile('(?P<lead>.*)_L(?P<chunk>\\d+)_R(?P<read>[012])_(?P<trail>\\d{1,4})\\.(?P<ext>.+)')\n",
    "\n",
    "\n",
    "def shellexec(cmd,debug=0):\n",
    "    print(cmd) \n",
    "    if not debug:\n",
    "        return subprocess.call(cmd,shell=1)\n",
    "#         return os.system(cmd)\n",
    "\n",
    "def process_rna_sample(samplePATH, debug=0):\n",
    "    '''\n",
    "    Pull together raw reads from an input folder\n",
    "    Args:\n",
    "        samplePATH: Folder of .fastq(.gz) fot. be processed\n",
    "    Comment: Refactored based on Hui's map-RNA-seq.py process_rna_sample().    \n",
    "    '''\n",
    "    #     return os.system('/bin/bash -c `%s`'%cmd)\n",
    "    #     cmd = '/bin/bash -c `%s`'%cmd\n",
    "\n",
    "    #     return subprocess.call(cmd,env=os.environ,cwd=os.getcwd(),\n",
    "    #                           shell=True)\n",
    "    \n",
    "\n",
    "    samplePATH = samplePATH.rstrip('/')\n",
    "    shellexec('echo $SHELL')\n",
    "    \n",
    "    RNA_SEQ_MAP_FILE = 'some-script.sh'\n",
    "    DESTINATION_DIR  ='\"/path/to/output/\"' \n",
    "    WORKING_DIR='.'\n",
    "    \n",
    "    ### Extract  RunID from samplePATH\n",
    "    samplePATH = samplePATH.rstrip('/')\n",
    "#     ptn = '[\\^/](\\d{1,4}[RC][_/].*)'\n",
    "#     ridPath = re.findall(ptn,samplePATH)\n",
    "    ridPath = re.findall(ptn.runCond,samplePATH)\n",
    "    assert len(ridPath)==1,'[ERROR] Cannot extract RunID from path name:\"%s\"'%samplePATH\n",
    "    ridPath = ridPath[0][-1]\n",
    "    print '[ridPath]',ridPath\n",
    "\n",
    "    # Create a temporary directory \n",
    "    os.system('mkdir -p %s'%WORKING_DIR)\n",
    "    temp_dir = os.path.join(WORKING_DIR,\n",
    "                            '%s-%s'%(\n",
    "                                ridPath.replace('/','-'),\n",
    "#                                 os.path.basename(samplePATH),\n",
    "                                datenow(),\n",
    "                            )\n",
    "    )\n",
    "    os.system('mkdir -p %s'%temp_dir)\n",
    "\n",
    "    \n",
    "\n",
    "    \n",
    "    #### Download raw read .fastq from samplePATH\n",
    "#     print samplePATH\n",
    "    FILES = glob.glob('%s/*' % samplePATH)\n",
    "    FILES = sum(map(LeafFiles,FILES),[])\n",
    "#     ccmd = '%s/* -t %s'%(samplePATH,temp_dir) \n",
    "    ccmd = '%s -t %s'%(' '.join(FILES), temp_dir) \n",
    "    cmd1 = 'cp -lr %s'%ccmd; \n",
    "    cmd2 = 'cp -r %s'%ccmd\n",
    "    shellexec(cmd1) ==0 or shellexec(cmd2) \n",
    "    ODIR = os.getcwd()\n",
    "    print '[ODIR]',ODIR\n",
    "    try:\n",
    "        os.chdir(temp_dir) #     shellexec('cd %s'%temp_dir)\n",
    "\n",
    "        #### Parse .fastq filenames and assert quality checks\n",
    "#         print '[MSG] found leaves','\\n'.join(FILES)\n",
    "        if debug:\n",
    "            FS = [x.rsplit('/')[-1] for x in  FILES]\n",
    "            print FS[:5]\n",
    "#             FS = [x[pL+1:] for x in FILES]\n",
    "#             FS = FILES\n",
    "    #         assert 0\n",
    "        else:\n",
    "            FS = glob.glob('*')\n",
    "        BUF = '\\n'.join(FS)\n",
    "        PARSED = [{'fname':m.group(0),'data':m.groupdict()} for m in re.finditer(ptn.baseSpace,BUF)]\n",
    "        for d in PARSED:\n",
    "            d['data']['fname'] = d['fname']\n",
    "        data = [x['data'] for x in PARSED]\n",
    "        meta = pd.DataFrame(data)\n",
    "\n",
    "        if debug:\n",
    "            return meta\n",
    "        else:\n",
    "            pass\n",
    "        meta = check_L004(meta)\n",
    "        meta = meta.sort_values(['lead','read','chunk'])\n",
    "        unzipAndConcat(meta)\n",
    "            \n",
    "        print '[DONE!]:%s'%samplePATH\n",
    "\n",
    "        os.system('echo %s >OLDDIR'%ridPath)\n",
    "#         exit(0)\n",
    "    except Exception as e:        \n",
    "        exc_type, exc_obj, exc_tb = sys.exc_info()\n",
    "        fname = os.path.split(exc_tb.tb_frame.f_code.co_filename)[1]\n",
    "        print(exc_type, fname, exc_tb.tb_lineno)\n",
    "        raise e\n",
    "    finally:\n",
    "        os.chdir(ODIR)\n",
    "    print '[[WTFFF1]]'\n",
    "    #### Stop here\n",
    "    return temp_dir\n",
    "\n",
    "def check_L004(meta):\n",
    "    g = meta.groupby(['lead','read'],as_index=0)\n",
    "    ct = g.count()\n",
    "\n",
    "    mout = meta.merge(ct[['lead','read','chunk']] ,on=['lead','read'],suffixes=['','_count'])\n",
    "    idx = mout['chunk_count'] ==4\n",
    "    if not idx.all():\n",
    "        print '[WARN] following reads are discarded due to chunk_count != 4'\n",
    "        print mout[~idx][['fname','chunk']] \n",
    "        mout = mout[idx]\n",
    "    return mout\n",
    "def unzipAndConcat(meta,debug= 0):\n",
    "    idx= [x.endswith('gz') for x in meta['ext']]\n",
    "    if any(idx):\n",
    "        #### unzip .gz where applicable\n",
    "        mcurr = meta.iloc[idx]\n",
    "        cmds = [cmd_ungzip(x) for x in mcurr['fname']]\n",
    "        if debug:\n",
    "            print '\\n'.join(cmds[:1])\n",
    "        else:\n",
    "            mp_para(shellexec,cmds, ncore=NCORE)            \n",
    "        #### Remove .gz in DataFrame accordingly\n",
    "        meta.loc[idx,'ext'] = [ x.rstrip('.gz')  for x in mcurr['ext'] ]\n",
    "\n",
    "    ### Map metas to fnames after decompression \n",
    "    mapper = lambda x: revSub(ptn.baseSpace,x)\n",
    "    meta['fname'] = meta.apply(mapper,axis=1)\n",
    "    g = meta.groupby(['lead','read'])\n",
    "    cmds = [cmd_combineFastq(x[1]['fname']) for x in g]\n",
    "    if debug:\n",
    "        print '\\n'.join(cmds[:1])\n",
    "    else:\n",
    "        mp_para( shellexec,cmds, ncore=NCORE)\n",
    "#     os.system('sleep 5;')\n",
    "    return \n",
    "\n",
    "def cmd_combineFastq(fnames,run=0):\n",
    "    fnames = sorted(list(fnames))\n",
    "    d = ptn.baseSpace.match(fnames[0]).groupdict()\n",
    "    cmd = 'cat {IN} >{lead}_R{read}_raw.{ext} ; sleep 0; rm {IN} '.format(IN=' '.join(fnames),\n",
    "                                                 **d)\n",
    "    return cmd\n",
    "def cmd_ungzip(F,):\n",
    "    cmd = 'gzip -d <{IN} >{OUT} ; sleep 0 ; rm {IN} '.format(IN=F,OUT=F.rstrip('.gz'))\n",
    "    return cmd\n",
    "\n",
    "assert len(sys.argv) >= 2,'''\n",
    "    Usage: (python) map-RNA-seq.py /path/to/folder/\n",
    "        The folder should contains raw reads in .fastq(.gz) format\n",
    "'''\n",
    "\n",
    "if __name__=='__main__':\n",
    "    NCORE = int(os.environ.get('NCORE',6))\n",
    "    print '[NCORE]=',NCORE\n",
    "    # NCORE = 1\n",
    "    samplePATH = sys.argv[1]\n",
    "    temp_dir = process_rna_sample( samplePATH, )\n",
    "#     for i in range(10):\n",
    "#         os.system('sleep 0.5')\n",
    "#         print i*0.5\n",
    "    # raise Exception('[WTF]%s'%temp_dir)\n",
    "    print >>sys.stdout,temp_dir\n",
    "    sys.exit(0)\n",
    "\n"
   ]
  },
  {
   "cell_type": "code",
   "execution_count": 83,
   "metadata": {
    "scrolled": true
   },
   "outputs": [
    {
     "name": "stdout",
     "output_type": "stream",
     "text": [
      "Overwriting ptn.py\n"
     ]
    }
   ],
   "source": [
    "%%writefile ptn.py\n",
    "import re\n",
    "RComp=re.compile\n",
    "runID = RComp('[\\^/](\\d{1,4}[RC][_/].*)')\n",
    "baseSpace = '(?P<lead>.*)_L(?P<chunk>\\d+)_R(?P<read>[012])_(?P<trail>\\d{1,4})\\.(?P<ext>.+)'"
   ]
  },
  {
   "cell_type": "code",
   "execution_count": 105,
   "metadata": {},
   "outputs": [
    {
     "name": "stdout",
     "output_type": "stream",
     "text": [
      "Overwriting ../setup.py\n"
     ]
    }
   ],
   "source": [
    "%%writefile ../setup.py\n",
    "#!/usr/bin/env python\n",
    "from distutils.core import setup\n",
    "\n",
    "setup(name='synotil',\n",
    "      version='1.0',\n",
    "      description='Utility on Synology datasets',\n",
    "      author='Feng Geng',\n",
    "      author_email='shouldsee.gem@gmail.com',\n",
    "      url='none',\n",
    "      package_dir = {'synotil': 'pipeline_rnaseq'},\n",
    "      packages=['synotil', ],\n",
    "     )"
   ]
  },
  {
   "cell_type": "code",
   "execution_count": 2,
   "metadata": {},
   "outputs": [
    {
     "name": "stdout",
     "output_type": "stream",
     "text": [
      "Overwriting __init__.py\n"
     ]
    }
   ],
   "source": [
    "%%writefile __init__.py\n",
    "import ptn"
   ]
  },
  {
   "cell_type": "code",
   "execution_count": 108,
   "metadata": {},
   "outputs": [
    {
     "name": "stdout",
     "output_type": "stream",
     "text": [
      "/home/feng/repos/BrachyPhoton/pipeline_rnaseq\r\n"
     ]
    }
   ],
   "source": [
    "! pwd; touch __init__.py"
   ]
  },
  {
   "cell_type": "code",
   "execution_count": 3,
   "metadata": {},
   "outputs": [
    {
     "name": "stdout",
     "output_type": "stream",
     "text": [
      "running install\n",
      "running build\n",
      "running build_py\n",
      "copying pipeline_rnaseq/__init__.py -> build/lib.linux-x86_64-2.7/synotil\n",
      "running install_lib\n",
      "copying build/lib.linux-x86_64-2.7/synotil/__init__.py -> /home/feng/.local/lib/python2.7/site-packages/synotil\n",
      "byte-compiling /home/feng/.local/lib/python2.7/site-packages/synotil/__init__.py to __init__.pyc\n",
      "running install_egg_info\n",
      "Removing /home/feng/.local/lib/python2.7/site-packages/synotil-1.0.egg-info\n",
      "Writing /home/feng/.local/lib/python2.7/site-packages/synotil-1.0.egg-info\n"
     ]
    }
   ],
   "source": [
    "!cd ..; python setup.py install --user"
   ]
  },
  {
   "cell_type": "code",
   "execution_count": 6,
   "metadata": {},
   "outputs": [
    {
     "data": {
      "text/plain": [
       "<module 'synotil.ptn' from '/home/feng/.local/lib/python2.7/site-packages/synotil/ptn.pyc'>"
      ]
     },
     "execution_count": 6,
     "metadata": {},
     "output_type": "execute_result"
    }
   ],
   "source": [
    "import synotil; reload(synotil)\n",
    "synotil.ptn"
   ]
  },
  {
   "cell_type": "code",
   "execution_count": 23,
   "metadata": {},
   "outputs": [
    {
     "name": "stdout",
     "output_type": "stream",
     "text": [
      "133R/BdPIFs-32747730/133E_23_DN-40235206\n"
     ]
    }
   ],
   "source": [
    "s = '/media/pw_synology3/PW_HiSeq_data/RNA-seq/Raw_data/testONLY/133R/BdPIFs-32747730/133E_23_DN-40235206'\n",
    "import re\n",
    "ptn = '[\\^/](\\d{1,4}[RC][_/].*)'\n",
    "idPath = re.findall(ptn,s)[0]\n",
    "print idPath"
   ]
  },
  {
   "cell_type": "code",
   "execution_count": 40,
   "metadata": {},
   "outputs": [
    {
     "name": "stdout",
     "output_type": "stream",
     "text": [
      "[NbConvertApp] Converting notebook preprocessor.ipynb to python\n",
      "[NbConvertApp] Writing 10031 bytes to preprocessor.py\n"
     ]
    }
   ],
   "source": [
    "SELF='preprocessor'\n",
    "if __name__=='__main__':\n",
    "    !jupyter nbconvert --to python {SELF}.ipynb\n",
    "    ! mv {SELF}.py tmp.py ; echo \\#!/usr/bin/env python2 >preprocessor.py; \n",
    "    ! cat tmp.py>>{SELF}.py ; rm tmp.py"
   ]
  },
  {
   "cell_type": "code",
   "execution_count": 36,
   "metadata": {},
   "outputs": [
    {
     "name": "stdout",
     "output_type": "stream",
     "text": [
      "sleep 10\n",
      "sleep 10\n",
      "sleep 10\n",
      "sleep 10\n"
     ]
    }
   ],
   "source": [
    "lst = ['sleep 5']*4\n",
    "res= mp_para(shellexec,lst,ncore=2)"
   ]
  },
  {
   "cell_type": "code",
   "execution_count": 58,
   "metadata": {},
   "outputs": [
    {
     "name": "stdout",
     "output_type": "stream",
     "text": [
      "Bd-ELF3OX-SD-ZT16-_S2_L001_R1_001.fastq.gz\r\n"
     ]
    }
   ],
   "source": [
    "!ls /home/feng/syno3/PW_HiSeq_data/ChIP-seq/Raw_data/182C/BdELF3-44645602/Bd_ELF3-44645602/FASTQ_Generation_2018-06-06_03_43_21Z-101158414/182C_721_L001-ds.e1f926b50b5f4efd99bcffeca5fb75a0/"
   ]
  },
  {
   "cell_type": "code",
   "execution_count": 81,
   "metadata": {},
   "outputs": [
    {
     "name": "stdout",
     "output_type": "stream",
     "text": [
      "echo $SHELL\n",
      "cp -lr /media/pw_synology3/PW_HiSeq_data/RNA-seq/Raw_data/testONLY/133R/BdPIFs-32747730/133E_23_DN-40235206/init.sh /media/pw_synology3/PW_HiSeq_data/RNA-seq/Raw_data/testONLY/133R/BdPIFs-32747730/133E_23_DN-40235206/Exp13-TP19-1411-LD_S23_L001_R1_001.fastq.gz /media/pw_synology3/PW_HiSeq_data/RNA-seq/Raw_data/testONLY/133R/BdPIFs-32747730/133E_23_DN-40235206/Exp13-TP19-1411-LD_S23_L001_R2_001.fastq.gz /media/pw_synology3/PW_HiSeq_data/RNA-seq/Raw_data/testONLY/133R/BdPIFs-32747730/133E_23_DN-40235206/Exp13-TP19-1411-LD_S23_L002_R1_001.fastq.gz /media/pw_synology3/PW_HiSeq_data/RNA-seq/Raw_data/testONLY/133R/BdPIFs-32747730/133E_23_DN-40235206/Exp13-TP19-1411-LD_S23_L002_R2_001.fastq.gz /media/pw_synology3/PW_HiSeq_data/RNA-seq/Raw_data/testONLY/133R/BdPIFs-32747730/133E_23_DN-40235206/Exp13-TP19-1411-LD_S23_L003_R1_001.fastq.gz /media/pw_synology3/PW_HiSeq_data/RNA-seq/Raw_data/testONLY/133R/BdPIFs-32747730/133E_23_DN-40235206/Exp13-TP19-1411-LD_S23_L003_R2_001.fastq.gz /media/pw_synology3/PW_HiSeq_data/RNA-seq/Raw_data/testONLY/133R/BdPIFs-32747730/133E_23_DN-40235206/Exp13-TP19-1411-LD_S23_L004_R1_001.fastq.gz /media/pw_synology3/PW_HiSeq_data/RNA-seq/Raw_data/testONLY/133R/BdPIFs-32747730/133E_23_DN-40235206/Exp13-TP19-1411-LD_S23_L004_R2_001.fastq.gz -t ./133R-BdPIFs-32747730-133E_23_DN-40235206-2018_06_15_14:22:35\n",
      "cp -r /media/pw_synology3/PW_HiSeq_data/RNA-seq/Raw_data/testONLY/133R/BdPIFs-32747730/133E_23_DN-40235206/init.sh /media/pw_synology3/PW_HiSeq_data/RNA-seq/Raw_data/testONLY/133R/BdPIFs-32747730/133E_23_DN-40235206/Exp13-TP19-1411-LD_S23_L001_R1_001.fastq.gz /media/pw_synology3/PW_HiSeq_data/RNA-seq/Raw_data/testONLY/133R/BdPIFs-32747730/133E_23_DN-40235206/Exp13-TP19-1411-LD_S23_L001_R2_001.fastq.gz /media/pw_synology3/PW_HiSeq_data/RNA-seq/Raw_data/testONLY/133R/BdPIFs-32747730/133E_23_DN-40235206/Exp13-TP19-1411-LD_S23_L002_R1_001.fastq.gz /media/pw_synology3/PW_HiSeq_data/RNA-seq/Raw_data/testONLY/133R/BdPIFs-32747730/133E_23_DN-40235206/Exp13-TP19-1411-LD_S23_L002_R2_001.fastq.gz /media/pw_synology3/PW_HiSeq_data/RNA-seq/Raw_data/testONLY/133R/BdPIFs-32747730/133E_23_DN-40235206/Exp13-TP19-1411-LD_S23_L003_R1_001.fastq.gz /media/pw_synology3/PW_HiSeq_data/RNA-seq/Raw_data/testONLY/133R/BdPIFs-32747730/133E_23_DN-40235206/Exp13-TP19-1411-LD_S23_L003_R2_001.fastq.gz /media/pw_synology3/PW_HiSeq_data/RNA-seq/Raw_data/testONLY/133R/BdPIFs-32747730/133E_23_DN-40235206/Exp13-TP19-1411-LD_S23_L004_R1_001.fastq.gz /media/pw_synology3/PW_HiSeq_data/RNA-seq/Raw_data/testONLY/133R/BdPIFs-32747730/133E_23_DN-40235206/Exp13-TP19-1411-LD_S23_L004_R2_001.fastq.gz -t ./133R-BdPIFs-32747730-133E_23_DN-40235206-2018_06_15_14:22:35\n",
      "[ODIR] /home/feng/repos/BrachyPhoton/pipeline_rnaseq\n",
      "['init.sh', 'Exp13-TP19-1411-LD_S23_L001_R1_001.fastq.gz', 'Exp13-TP19-1411-LD_S23_L001_R2_001.fastq.gz', 'Exp13-TP19-1411-LD_S23_L002_R1_001.fastq.gz', 'Exp13-TP19-1411-LD_S23_L002_R2_001.fastq.gz']\n"
     ]
    }
   ],
   "source": [
    "import preprocessor; reload(preprocessor)\n",
    "# path = '/home/feng/syno3/PW_HiSeq_data/ChIP-seq/Raw_data/182C/Bd_ELF3-44645602/FASTQ_Generation_2018-06-06_03_43_21Z-101158414/'\n",
    "path = '/media/pw_synology3/PW_HiSeq_data/RNA-seq/Raw_data/testONLY/133R/BdPIFs-32747730/133E_23_DN-40235206'\n",
    "samplePATH=path\n",
    "# ptn = '[\\^/](\\d{1,4}[RC][_/].*)'\n",
    "# ridPath = re.findall(ptn,samplePATH)\n",
    "res = preprocessor.process_rna_sample(path,debug=1)"
   ]
  },
  {
   "cell_type": "code",
   "execution_count": 68,
   "metadata": {},
   "outputs": [
    {
     "name": "stdout",
     "output_type": "stream",
     "text": [
      "gzip -d <Exp13-TP19-1411-LD_S23_L001_R1_001.fastq.gz >Exp13-TP19-1411-LD_S23_L001_R1_001.fastq ; sleep 0 ; rm Exp13-TP19-1411-LD_S23_L001_R1_001.fastq.gz \n",
      "cat Exp13-TP19-1411-LD_S23_L001_R1_001.fastq Exp13-TP19-1411-LD_S23_L002_R1_001.fastq Exp13-TP19-1411-LD_S23_L003_R1_001.fastq Exp13-TP19-1411-LD_S23_L004_R1_001.fastq >Exp13-TP19-1411-LD_S23_R1_raw.fastq ; rm Exp13-TP19-1411-LD_S23_L001_R1_001.fastq Exp13-TP19-1411-LD_S23_L002_R1_001.fastq Exp13-TP19-1411-LD_S23_L003_R1_001.fastq Exp13-TP19-1411-LD_S23_L004_R1_001.fastq \n"
     ]
    }
   ],
   "source": [
    "preprocessor.unzipAndConcat(res.sort_values(['lead','read','chunk']),debug=1)"
   ]
  },
  {
   "cell_type": "code",
   "execution_count": 28,
   "metadata": {
    "scrolled": true
   },
   "outputs": [
    {
     "name": "stdout",
     "output_type": "stream",
     "text": [
      "echo $SHELL\n",
      "cp -lr  -t ./FASTQ_Generation_2018-06-06_03_43_21Z-101158414-2018_06_07_14:03:28\n",
      "cp -r  -t ./FASTQ_Generation_2018-06-06_03_43_21Z-101158414-2018_06_07_14:03:28\n",
      "cd ./FASTQ_Generation_2018-06-06_03_43_21Z-101158414-2018_06_07_14:03:28\n",
      "[ODIR] /home/feng/repos/BrachyPhoton/pipeline_rnaseq\n",
      "[]\n",
      "(<type 'exceptions.KeyError'>, '<ipython-input-18-d129749efad1>', 194)\n"
     ]
    },
    {
     "ename": "KeyError",
     "evalue": "'lead'",
     "output_type": "error",
     "traceback": [
      "\u001b[0;31m\u001b[0m",
      "\u001b[0;31mKeyError\u001b[0mTraceback (most recent call last)",
      "\u001b[0;32m<ipython-input-28-a99e066c5cd0>\u001b[0m in \u001b[0;36m<module>\u001b[0;34m()\u001b[0m\n\u001b[1;32m      1\u001b[0m \u001b[0mpath\u001b[0m \u001b[0;34m=\u001b[0m \u001b[0;34m'/home/feng/syno3/PW_HiSeq_data/ChIP-seq/Raw_data/182C/Bd_ELF3-44645602/FASTQ_Generation_2018-06-06_03_43_21Z-101158414/'\u001b[0m\u001b[0;34m\u001b[0m\u001b[0m\n\u001b[0;32m----> 2\u001b[0;31m \u001b[0mres\u001b[0m \u001b[0;34m=\u001b[0m \u001b[0mprocess_rna_sample\u001b[0m\u001b[0;34m(\u001b[0m\u001b[0mpath\u001b[0m\u001b[0;34m,\u001b[0m\u001b[0mdebug\u001b[0m\u001b[0;34m=\u001b[0m\u001b[0;36m1\u001b[0m\u001b[0;34m)\u001b[0m\u001b[0;34m\u001b[0m\u001b[0m\n\u001b[0m\u001b[1;32m      3\u001b[0m \u001b[0;34m\u001b[0m\u001b[0m\n\u001b[1;32m      4\u001b[0m \u001b[0mNCORE\u001b[0m \u001b[0;34m=\u001b[0m \u001b[0;36m4\u001b[0m\u001b[0;34m\u001b[0m\u001b[0m\n\u001b[1;32m      5\u001b[0m \u001b[0mres\u001b[0m \u001b[0;34m=\u001b[0m \u001b[0mprocess_rna_sample\u001b[0m\u001b[0;34m(\u001b[0m\u001b[0mpath\u001b[0m\u001b[0;34m,\u001b[0m\u001b[0mdebug\u001b[0m\u001b[0;34m=\u001b[0m\u001b[0;36m0\u001b[0m\u001b[0;34m)\u001b[0m\u001b[0;34m\u001b[0m\u001b[0m\n",
      "\u001b[0;32m<ipython-input-18-d129749efad1>\u001b[0m in \u001b[0;36mprocess_rna_sample\u001b[0;34m(samplePATH, debug)\u001b[0m\n\u001b[1;32m    248\u001b[0m         \u001b[0mfname\u001b[0m \u001b[0;34m=\u001b[0m \u001b[0mos\u001b[0m\u001b[0;34m.\u001b[0m\u001b[0mpath\u001b[0m\u001b[0;34m.\u001b[0m\u001b[0msplit\u001b[0m\u001b[0;34m(\u001b[0m\u001b[0mexc_tb\u001b[0m\u001b[0;34m.\u001b[0m\u001b[0mtb_frame\u001b[0m\u001b[0;34m.\u001b[0m\u001b[0mf_code\u001b[0m\u001b[0;34m.\u001b[0m\u001b[0mco_filename\u001b[0m\u001b[0;34m)\u001b[0m\u001b[0;34m[\u001b[0m\u001b[0;36m1\u001b[0m\u001b[0;34m]\u001b[0m\u001b[0;34m\u001b[0m\u001b[0m\n\u001b[1;32m    249\u001b[0m         \u001b[0;32mprint\u001b[0m\u001b[0;34m(\u001b[0m\u001b[0mexc_type\u001b[0m\u001b[0;34m,\u001b[0m \u001b[0mfname\u001b[0m\u001b[0;34m,\u001b[0m \u001b[0mexc_tb\u001b[0m\u001b[0;34m.\u001b[0m\u001b[0mtb_lineno\u001b[0m\u001b[0;34m)\u001b[0m\u001b[0;34m\u001b[0m\u001b[0m\n\u001b[0;32m--> 250\u001b[0;31m         \u001b[0;32mraise\u001b[0m \u001b[0me\u001b[0m\u001b[0;34m\u001b[0m\u001b[0m\n\u001b[0m\u001b[1;32m    251\u001b[0m     \u001b[0;32mfinally\u001b[0m\u001b[0;34m:\u001b[0m\u001b[0;34m\u001b[0m\u001b[0m\n\u001b[1;32m    252\u001b[0m         \u001b[0mos\u001b[0m\u001b[0;34m.\u001b[0m\u001b[0mchdir\u001b[0m\u001b[0;34m(\u001b[0m\u001b[0mODIR\u001b[0m\u001b[0;34m)\u001b[0m\u001b[0;34m\u001b[0m\u001b[0m\n",
      "\u001b[0;31mKeyError\u001b[0m: 'lead'"
     ]
    }
   ],
   "source": [
    "NCORE = 4\n",
    "res = process_rna_sample(path,debug=0)"
   ]
  }
 ],
 "metadata": {
  "kernelspec": {
   "display_name": "Python 2",
   "language": "python",
   "name": "python2"
  },
  "language_info": {
   "codemirror_mode": {
    "name": "ipython",
    "version": 2
   },
   "file_extension": ".py",
   "mimetype": "text/x-python",
   "name": "python",
   "nbconvert_exporter": "python",
   "pygments_lexer": "ipython2",
   "version": "2.7.12"
  }
 },
 "nbformat": 4,
 "nbformat_minor": 2
}
